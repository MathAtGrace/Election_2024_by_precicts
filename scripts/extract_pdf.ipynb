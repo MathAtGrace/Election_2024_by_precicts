{
 "cells": [
  {
   "cell_type": "code",
   "execution_count": 12,
   "id": "17c5d1c7-35bb-4d9b-bdaa-919382131fea",
   "metadata": {
    "tags": []
   },
   "outputs": [],
   "source": [
    "import pdfplumber\n",
    "import pandas as pd\n",
    "import re"
   ]
  },
  {
   "cell_type": "code",
   "execution_count": 13,
   "id": "d1811d0e-8a05-4ea9-a81b-0bf1d242a934",
   "metadata": {
    "tags": []
   },
   "outputs": [],
   "source": [
    "with pdfplumber.open(\"../data-raw/INKOS24.pdf\") as pdf:\n",
    "    lines = [[line['text'] for line in page.extract_text_lines()] for page in pdf.pages]"
   ]
  },
  {
   "cell_type": "code",
   "execution_count": 14,
   "id": "b04bc89f-256d-4dc7-861c-38620ac47cbe",
   "metadata": {
    "tags": []
   },
   "outputs": [
    {
     "data": {
      "text/plain": [
       "['11/15/2024 - 12:35:07 PM',\n",
       " 'Election Date: 11/5/2024 Precinct Summary Report',\n",
       " 'EMS',\n",
       " 'Kosciusko County, Indiana',\n",
       " '2024 General Election',\n",
       " 'INKOSG24',\n",
       " '11/5/2024',\n",
       " 'E - # Of Election Day 297 PRECINCT STATUS: INCOMPLETE',\n",
       " 'A - # Of Paper Absentee 15',\n",
       " 'W - # Of Walk-In Absentee 148',\n",
       " 'PUBLIC COUNT: 460',\n",
       " 'VOTER TURNOUT: 71.76%',\n",
       " 'REGISTERED VOTERS: 641',\n",
       " 'Precinct ID: 01',\n",
       " 'Precinct Name: Clay 01',\n",
       " '- - - - - - - - - - - - - - - - - - VOTES - - - - - - - - - - - - - - - -',\n",
       " 'E A W TOTAL %',\n",
       " 'VOTE FOR 1',\n",
       " 'Public Question-Const Amendment',\n",
       " 'VOTES=403',\n",
       " '167 7 66 240 59.55% Yes',\n",
       " '103 2 58 163 40.45% No',\n",
       " 'VOTE FOR 1',\n",
       " 'President and Vice-President of the U.S.',\n",
       " 'VOTES=458',\n",
       " '267 10 117 394 86.03% (R) Trump \\\\ Vance',\n",
       " '25 5 31 61 13.32% (D) Harris \\\\ Walz',\n",
       " '2 0 0 2 0.44% (L) Oliver \\\\ Ter Maat',\n",
       " '1 0 0 1 0.22% (WTP) Kennedy Jr. \\\\ Shanahan',\n",
       " '0 0 0 0 0.00% Write-In']"
      ]
     },
     "execution_count": 14,
     "metadata": {},
     "output_type": "execute_result"
    }
   ],
   "source": [
    "p2 = lines[1]\n",
    "p2[:30]"
   ]
  },
  {
   "cell_type": "code",
   "execution_count": 15,
   "id": "85983f34-8f04-4145-b7ca-7f1ffa3936e5",
   "metadata": {
    "tags": []
   },
   "outputs": [
    {
     "name": "stdout",
     "output_type": "stream",
     "text": [
      "267 10 117 394 86.03% (R) Trump \\ Vance\n",
      "19\n"
     ]
    }
   ],
   "source": [
    "line = p2[25]\n",
    "print(line)\n",
    "#re.search\n",
    "number = re.search(r'\\d%', line)\n",
    "if number:\n",
    "    print(number.start())"
   ]
  },
  {
   "cell_type": "code",
   "execution_count": 16,
   "id": "39d82d62-6156-4754-ad44-39c709598ac2",
   "metadata": {
    "tags": []
   },
   "outputs": [],
   "source": [
    "cols = {'Precinct_ID' : [],\n",
    "        'Precinct_Name' : [],\n",
    "        'Registered_voters' : [],\n",
    "        'Vote_on' : [],\n",
    "        'Voter_subset' : [],\n",
    "        'Vote_option' : [],\n",
    "        'Vote_num' : []}\n",
    "df = pd.DataFrame(data=cols)"
   ]
  },
  {
   "cell_type": "code",
   "execution_count": 17,
   "id": "4d1bb5a8-780b-4f8d-9781-ad49d7ff44fa",
   "metadata": {
    "tags": []
   },
   "outputs": [],
   "source": [
    "for p in lines:\n",
    "    vote = False #Signifies when a \"VOTE FOR ...\" line has occurred\n",
    "    meta = True #Signifies when lines are part of metadata of the precinct\n",
    "    for (lineno, line) in enumerate(p): #for each line of the page\n",
    "        if line.find(\"Precinct ID\") > -1: #Find the Precinct ID line\n",
    "            ID = line.split(':')[-1].strip() #The precinct number is after the \":\"\n",
    "            meta = False #This line signifies we have no more meta data on this page except for the last couple lines\n",
    "        elif line.find(\"REGISTERED VOTERS\") > -1:\n",
    "            registered = line.split(':')[-1].strip()\n",
    "        elif line.find(\"Precinct Name\") > -1: #Find the Precint Name line\n",
    "            Name = line.split(':')[-1].strip() #The precinct name is after the \":\"\n",
    "        elif line.find('VOTE FOR') > -1: #The 'VOTE FOR...\" line means the next line is what is being voted on\n",
    "            vote = True\n",
    "        elif vote: #If the 'VOTE FOR...\" line occured earlier\n",
    "            vote = False #Reset this\n",
    "            on = line #The 'VOTE FOR...\" line means the next line is what is being voted on\n",
    "        elif re.search(r'\\d%', line) and not meta: #Lines with percentage numbers that are not metadata are the values we want\n",
    "            E, A, W, Total, Percent, option = line.split(maxsplit=5) #The line is a row of a table of 6 columns\n",
    "            addition = pd.DataFrame(data = {'Precinct_ID' : [ID]*5, #The new dataframe to concatenate\n",
    "                                            'Precinct_Name' : [Name]*5,\n",
    "                                            'Registered_voters' : [registered]*5,\n",
    "                                            'Vote_on' : [on]*5,\n",
    "                                            'Voter_subset' : ['Election Day', 'Paper Absentee', 'Walk-in Absentee', 'Total', 'percentage'],\n",
    "                                            'Vote_option' : [option]*5,\n",
    "                                            'Vote_num' : [E, A, W, Total, Percent]})\n",
    "            df = pd.concat([df,addition], ignore_index=True) #Concatenate the new data to the dataframe"
   ]
  },
  {
   "cell_type": "code",
   "execution_count": 18,
   "id": "864d684f-1ebe-4325-ba1d-bb581997690d",
   "metadata": {
    "tags": []
   },
   "outputs": [
    {
     "data": {
      "text/html": [
       "<div>\n",
       "<style scoped>\n",
       "    .dataframe tbody tr th:only-of-type {\n",
       "        vertical-align: middle;\n",
       "    }\n",
       "\n",
       "    .dataframe tbody tr th {\n",
       "        vertical-align: top;\n",
       "    }\n",
       "\n",
       "    .dataframe thead th {\n",
       "        text-align: right;\n",
       "    }\n",
       "</style>\n",
       "<table border=\"1\" class=\"dataframe\">\n",
       "  <thead>\n",
       "    <tr style=\"text-align: right;\">\n",
       "      <th></th>\n",
       "      <th>Precinct_ID</th>\n",
       "      <th>Precinct_Name</th>\n",
       "      <th>Registered_voters</th>\n",
       "      <th>Vote_on</th>\n",
       "      <th>Voter_subset</th>\n",
       "      <th>Vote_option</th>\n",
       "      <th>Vote_num</th>\n",
       "    </tr>\n",
       "  </thead>\n",
       "  <tbody>\n",
       "    <tr>\n",
       "      <th>0</th>\n",
       "      <td>01</td>\n",
       "      <td>Clay 01</td>\n",
       "      <td>641</td>\n",
       "      <td>Public Question-Const Amendment</td>\n",
       "      <td>Election Day</td>\n",
       "      <td>Yes</td>\n",
       "      <td>167</td>\n",
       "    </tr>\n",
       "    <tr>\n",
       "      <th>1</th>\n",
       "      <td>01</td>\n",
       "      <td>Clay 01</td>\n",
       "      <td>641</td>\n",
       "      <td>Public Question-Const Amendment</td>\n",
       "      <td>Paper Absentee</td>\n",
       "      <td>Yes</td>\n",
       "      <td>7</td>\n",
       "    </tr>\n",
       "    <tr>\n",
       "      <th>2</th>\n",
       "      <td>01</td>\n",
       "      <td>Clay 01</td>\n",
       "      <td>641</td>\n",
       "      <td>Public Question-Const Amendment</td>\n",
       "      <td>Walk-in Absentee</td>\n",
       "      <td>Yes</td>\n",
       "      <td>66</td>\n",
       "    </tr>\n",
       "    <tr>\n",
       "      <th>3</th>\n",
       "      <td>01</td>\n",
       "      <td>Clay 01</td>\n",
       "      <td>641</td>\n",
       "      <td>Public Question-Const Amendment</td>\n",
       "      <td>Total</td>\n",
       "      <td>Yes</td>\n",
       "      <td>240</td>\n",
       "    </tr>\n",
       "    <tr>\n",
       "      <th>4</th>\n",
       "      <td>01</td>\n",
       "      <td>Clay 01</td>\n",
       "      <td>641</td>\n",
       "      <td>Public Question-Const Amendment</td>\n",
       "      <td>percentage</td>\n",
       "      <td>Yes</td>\n",
       "      <td>59.55%</td>\n",
       "    </tr>\n",
       "    <tr>\n",
       "      <th>...</th>\n",
       "      <td>...</td>\n",
       "      <td>...</td>\n",
       "      <td>...</td>\n",
       "      <td>...</td>\n",
       "      <td>...</td>\n",
       "      <td>...</td>\n",
       "      <td>...</td>\n",
       "    </tr>\n",
       "    <tr>\n",
       "      <th>14175</th>\n",
       "      <td>66</td>\n",
       "      <td>Wayne 13</td>\n",
       "      <td>1</td>\n",
       "      <td>Court of Appeals Dist 4-Pyle III</td>\n",
       "      <td>Election Day</td>\n",
       "      <td>No</td>\n",
       "      <td>0</td>\n",
       "    </tr>\n",
       "    <tr>\n",
       "      <th>14176</th>\n",
       "      <td>66</td>\n",
       "      <td>Wayne 13</td>\n",
       "      <td>1</td>\n",
       "      <td>Court of Appeals Dist 4-Pyle III</td>\n",
       "      <td>Paper Absentee</td>\n",
       "      <td>No</td>\n",
       "      <td>0</td>\n",
       "    </tr>\n",
       "    <tr>\n",
       "      <th>14177</th>\n",
       "      <td>66</td>\n",
       "      <td>Wayne 13</td>\n",
       "      <td>1</td>\n",
       "      <td>Court of Appeals Dist 4-Pyle III</td>\n",
       "      <td>Walk-in Absentee</td>\n",
       "      <td>No</td>\n",
       "      <td>0</td>\n",
       "    </tr>\n",
       "    <tr>\n",
       "      <th>14178</th>\n",
       "      <td>66</td>\n",
       "      <td>Wayne 13</td>\n",
       "      <td>1</td>\n",
       "      <td>Court of Appeals Dist 4-Pyle III</td>\n",
       "      <td>Total</td>\n",
       "      <td>No</td>\n",
       "      <td>0</td>\n",
       "    </tr>\n",
       "    <tr>\n",
       "      <th>14179</th>\n",
       "      <td>66</td>\n",
       "      <td>Wayne 13</td>\n",
       "      <td>1</td>\n",
       "      <td>Court of Appeals Dist 4-Pyle III</td>\n",
       "      <td>percentage</td>\n",
       "      <td>No</td>\n",
       "      <td>0.00%</td>\n",
       "    </tr>\n",
       "  </tbody>\n",
       "</table>\n",
       "<p>14180 rows × 7 columns</p>\n",
       "</div>"
      ],
      "text/plain": [
       "      Precinct_ID Precinct_Name Registered_voters  \\\n",
       "0              01       Clay 01               641   \n",
       "1              01       Clay 01               641   \n",
       "2              01       Clay 01               641   \n",
       "3              01       Clay 01               641   \n",
       "4              01       Clay 01               641   \n",
       "...           ...           ...               ...   \n",
       "14175          66      Wayne 13                 1   \n",
       "14176          66      Wayne 13                 1   \n",
       "14177          66      Wayne 13                 1   \n",
       "14178          66      Wayne 13                 1   \n",
       "14179          66      Wayne 13                 1   \n",
       "\n",
       "                                Vote_on      Voter_subset Vote_option Vote_num  \n",
       "0       Public Question-Const Amendment      Election Day         Yes      167  \n",
       "1       Public Question-Const Amendment    Paper Absentee         Yes        7  \n",
       "2       Public Question-Const Amendment  Walk-in Absentee         Yes       66  \n",
       "3       Public Question-Const Amendment             Total         Yes      240  \n",
       "4       Public Question-Const Amendment        percentage         Yes   59.55%  \n",
       "...                                 ...               ...         ...      ...  \n",
       "14175  Court of Appeals Dist 4-Pyle III      Election Day          No        0  \n",
       "14176  Court of Appeals Dist 4-Pyle III    Paper Absentee          No        0  \n",
       "14177  Court of Appeals Dist 4-Pyle III  Walk-in Absentee          No        0  \n",
       "14178  Court of Appeals Dist 4-Pyle III             Total          No        0  \n",
       "14179  Court of Appeals Dist 4-Pyle III        percentage          No    0.00%  \n",
       "\n",
       "[14180 rows x 7 columns]"
      ]
     },
     "execution_count": 18,
     "metadata": {},
     "output_type": "execute_result"
    }
   ],
   "source": [
    "df"
   ]
  },
  {
   "cell_type": "code",
   "execution_count": 19,
   "id": "168eec76-4d39-4f01-b8fc-076cc10da935",
   "metadata": {
    "tags": []
   },
   "outputs": [],
   "source": [
    "df.to_csv(\"../data/INKOS.csv\")"
   ]
  },
  {
   "cell_type": "code",
   "execution_count": null,
   "id": "705e506b-1e62-494c-af29-bc5d8d3dba78",
   "metadata": {},
   "outputs": [],
   "source": []
  }
 ],
 "metadata": {
  "kernelspec": {
   "display_name": "Python 3 (ipykernel)",
   "language": "python",
   "name": "python3"
  },
  "language_info": {
   "codemirror_mode": {
    "name": "ipython",
    "version": 3
   },
   "file_extension": ".py",
   "mimetype": "text/x-python",
   "name": "python",
   "nbconvert_exporter": "python",
   "pygments_lexer": "ipython3",
   "version": "3.11.5"
  }
 },
 "nbformat": 4,
 "nbformat_minor": 5
}
