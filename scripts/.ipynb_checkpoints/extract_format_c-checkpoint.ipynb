{
 "cells": [
  {
   "cell_type": "code",
   "execution_count": 1,
   "id": "d501c4f4-c8d7-4a91-97f4-ec89d16f8f2c",
   "metadata": {},
   "outputs": [],
   "source": [
    "import pdfplumber\n",
    "import os\n",
    "\n",
    "file = \"../data-raw/Cass_24.pdf\"\n",
    "\"\"\"\n",
    "Extractor for format \"C\" of election results\n",
    "Format C is the second most common format in OpenElections data for Indiana\n",
    "This format is characterized by grey rectangles in the header, a blue bar indicating the precinct, and green boxes marking questions.\n",
    "\"\"\"\n",
    "\n",
    "consistent_text = \"\" # The headers for the data of each question. Since it is used for every question, this will be used to identify them"
   ]
  },
  {
   "cell_type": "code",
   "execution_count": 16,
   "id": "40c1b423-d08d-45ea-a818-dd03d3e3e568",
   "metadata": {},
   "outputs": [],
   "source": [
    "class Precinct():\n",
    "    def __init__(self, name):\n",
    "        self.generate(name)\n",
    "\n",
    "    def generate(self, name):\n",
    "        self.name = \"\"\n",
    "        self.pages = []\n",
    "        self.lines = []\n",
    "        self.extract_lines()\n",
    "        self.questions = []\n",
    "        \n",
    "    def extract_lines(self):\n",
    "        for page in self.pages:\n",
    "            for i in range(10,len(page)):\n",
    "                self.lines.append(page[i]['text'])\n",
    "\n",
    "    def locate_questions(self):\n",
    "        pass\n",
    "\n",
    "    def get_line(self, line):\n",
    "        return self.lines[line]\n",
    "\n",
    "    def get_text(self):\n",
    "        output = []\n",
    "        for line in self.lines:\n",
    "            output.append(line)\n",
    "        return output\n",
    "\n",
    "    def to_string(self):\n",
    "        return self.name"
   ]
  },
  {
   "cell_type": "code",
   "execution_count": 17,
   "id": "844cd13d-965c-47af-9a7a-39b383ca4258",
   "metadata": {},
   "outputs": [
    {
     "name": "stdout",
     "output_type": "stream",
     "text": [
      "Adams\n",
      "Bethlehem\n",
      "Boone\n",
      "Clay City\n",
      "Clay\n",
      "Clinton\n",
      "Deer Creek East\n",
      "Deer Creek West\n",
      "Eel East\n",
      "Eel North\n",
      "Eel West\n",
      "Galveston\n",
      "Harrison\n",
      "Jackson\n",
      "Jefferson\n",
      "Logansport\n",
      "Miami - Logan\n",
      "Miami - Lewis Cass\n",
      "Noble City\n",
      "Noble North\n",
      "Noble - Logan\n",
      "Noble - Pioneer\n",
      "Tipton I\n",
      "Tipton II\n",
      "Washington - Logan\n",
      "Washington - Lewis Cass\n",
      "Washington South\n",
      "Washington City - Logan\n",
      "Washington City - Lewis Cass\n",
      "Federal Only\n",
      "President Only\n"
     ]
    }
   ],
   "source": [
    "##### Precinct Separation\n",
    "precincts = {}   # Precincts will be paired with a list of pages\n",
    "\n",
    "with pdfplumber.open(file) as pdf:\n",
    "    for page in pdf.pages:\n",
    "        lines = page.extract_text_lines()\n",
    "        header_words = lines[10]['text'].split(\" \")   # Header lines look like \"Precinct Name # of # registered voters = x%\"\n",
    "        precinct_name = \"\"\n",
    "        consistent_text = lines[12]['text']\n",
    "        for word in header_words:   # Rejoins words until the first number is encountered. May need adjusted if another county has names like \"Precinct 01\"\n",
    "            if(word.replace(\",\",\"\").isnumeric() == False):   # Replace method accounts for commas in large numbers\n",
    "                precinct_name += \" \" + word\n",
    "            else:\n",
    "                precinct_name = precinct_name.strip()\n",
    "                break   # Ensures that rejoining stops at the first number instead of skipping numbers\n",
    "        if(precinct_name not in precincts):   # Checks if the precinct has any pages. If not, adds a new entry to precincts. Otherwise, adds to the existing entry.\n",
    "            precincts.update({precinct_name : Precinct(precinct_name)})\n",
    "            print(precinct_name)\n",
    "        else:\n",
    "            precincts[precinct_name].pages.append(lines)"
   ]
  },
  {
   "cell_type": "code",
   "execution_count": 21,
   "id": "82bff1f6-205f-4c0e-9070-d0fd7f7a0e30",
   "metadata": {},
   "outputs": [],
   "source": [
    "for precinct in precincts:\n",
    "    precincts[precinct].generate(precinct)"
   ]
  },
  {
   "cell_type": "code",
   "execution_count": 24,
   "id": "3bbaee57-6705-4731-8a53-170f867e0ea7",
   "metadata": {},
   "outputs": [
    {
     "name": "stdout",
     "output_type": "stream",
     "text": [
      "[]\n"
     ]
    }
   ],
   "source": [
    "print(precincts['Adams'].lines)"
   ]
  },
  {
   "cell_type": "code",
   "execution_count": 5,
   "id": "a496e570-9abe-438e-9828-8ad0ec25e99b",
   "metadata": {},
   "outputs": [
    {
     "data": {
      "text/plain": [
       "\"\\n##### Line Extraction - from before precinct separation\\ndoc_lines = []\\n\\nfor precinct in precincts:\\n    for page in precinct:\\n        lines = page.extract_text_lines()    # Extracts text line-by-line for each page\\n        for line in lines[10:]:              # Removes the header at the start of each page\\n            doc_lines.append(line['text'])   # Adds text from each line to a global list\\n\""
      ]
     },
     "execution_count": 5,
     "metadata": {},
     "output_type": "execute_result"
    }
   ],
   "source": [
    "\"\"\"\n",
    "##### Line Extraction - from before precinct separation\n",
    "doc_lines = []\n",
    "\n",
    "for precinct in precincts:\n",
    "    for page in precinct:\n",
    "        lines = page.extract_text_lines()    # Extracts text line-by-line for each page\n",
    "        for line in lines[10:]:              # Removes the header at the start of each page\n",
    "            doc_lines.append(line['text'])   # Adds text from each line to a global list\n",
    "\"\"\""
   ]
  },
  {
   "cell_type": "code",
   "execution_count": 6,
   "id": "8e30a8eb-5887-4055-afda-f094709e0208",
   "metadata": {},
   "outputs": [],
   "source": [
    "##### Question Separation\n",
    "# consistent_text = doc_lines[2]   # This text provides headers for the results of each question. Due to its ubiquity in the Cass County questions, it will be used to identify indidual questions.\n",
    "questions = {}"
   ]
  },
  {
   "cell_type": "code",
   "execution_count": 7,
   "id": "477057b8-36d4-488c-ac33-752dff470b95",
   "metadata": {},
   "outputs": [
    {
     "ename": "NameError",
     "evalue": "name 'question_pos' is not defined",
     "output_type": "error",
     "traceback": [
      "\u001b[1;31m---------------------------------------------------------------------------\u001b[0m",
      "\u001b[1;31mNameError\u001b[0m                                 Traceback (most recent call last)",
      "Cell \u001b[1;32mIn[7], line 2\u001b[0m\n\u001b[0;32m      1\u001b[0m \u001b[38;5;66;03m##### Question isolation test\u001b[39;00m\n\u001b[1;32m----> 2\u001b[0m \u001b[38;5;28;01mfor\u001b[39;00m i \u001b[38;5;129;01min\u001b[39;00m \u001b[38;5;28mrange\u001b[39m(\u001b[38;5;241m1\u001b[39m,\u001b[38;5;28mlen\u001b[39m(\u001b[43mquestion_pos\u001b[49m)):\n\u001b[0;32m      3\u001b[0m     \u001b[38;5;28;01mfor\u001b[39;00m line \u001b[38;5;129;01min\u001b[39;00m \u001b[38;5;28mrange\u001b[39m(question_pos[i\u001b[38;5;241m-\u001b[39m\u001b[38;5;241m1\u001b[39m], question_pos[i]):\n\u001b[0;32m      4\u001b[0m         \u001b[38;5;28mprint\u001b[39m(doc_lines[line])\n",
      "\u001b[1;31mNameError\u001b[0m: name 'question_pos' is not defined"
     ]
    }
   ],
   "source": [
    "##### Question isolation test\n",
    "for i in range(1,len(question_pos)):\n",
    "    for line in range(question_pos[i-1], question_pos[i]):\n",
    "        print(doc_lines[line])"
   ]
  },
  {
   "cell_type": "code",
   "execution_count": null,
   "id": "4e63d208-b1df-4e03-8a84-31fda94c16a9",
   "metadata": {},
   "outputs": [],
   "source": []
  }
 ],
 "metadata": {
  "kernelspec": {
   "display_name": "Python 3 (ipykernel)",
   "language": "python",
   "name": "python3"
  },
  "language_info": {
   "codemirror_mode": {
    "name": "ipython",
    "version": 3
   },
   "file_extension": ".py",
   "mimetype": "text/x-python",
   "name": "python",
   "nbconvert_exporter": "python",
   "pygments_lexer": "ipython3",
   "version": "3.9.13"
  }
 },
 "nbformat": 4,
 "nbformat_minor": 5
}
