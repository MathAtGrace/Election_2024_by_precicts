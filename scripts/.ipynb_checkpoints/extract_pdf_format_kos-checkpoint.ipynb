{
 "cells": [
  {
   "cell_type": "code",
   "execution_count": 17,
   "id": "17c5d1c7-35bb-4d9b-bdaa-919382131fea",
   "metadata": {
    "tags": []
   },
   "outputs": [],
   "source": [
    "import pdfplumber\n",
    "import pandas as pd\n",
    "import re"
   ]
  },
  {
   "cell_type": "code",
   "execution_count": 20,
   "id": "422c08df-570c-4b53-951c-21c3ff09343c",
   "metadata": {},
   "outputs": [],
   "source": [
    "counties = [\"Kosciusko\", \"Whitley\"]"
   ]
  },
  {
   "cell_type": "code",
   "execution_count": 21,
   "id": "fa0c96f5-97e9-4bb8-8876-af288a2bc307",
   "metadata": {},
   "outputs": [
    {
     "data": {
      "text/plain": [
       "'Kosciusko'"
      ]
     },
     "execution_count": 21,
     "metadata": {},
     "output_type": "execute_result"
    }
   ],
   "source": [
    "i = 0\n",
    "county = counties[i]\n",
    "county"
   ]
  },
  {
   "cell_type": "code",
   "execution_count": 22,
   "id": "bc42121e-41a8-4546-a974-40f2a70b65cf",
   "metadata": {
    "tags": []
   },
   "outputs": [
    {
     "data": {
      "text/plain": [
       "'C:/Users/johnsor/Documents/openelections-data-in/2024/counties/20241105__in__general__kosciusko__precinct.csv'"
      ]
     },
     "execution_count": 22,
     "metadata": {},
     "output_type": "execute_result"
    }
   ],
   "source": [
    "input_file = \"../data-raw/in_2024_results/\" + county + \".pdf\"\n",
    "output_file = \"../data/in_2024_results/\" + county + \".csv\"\n",
    "output_2 = \"C:/Users/johnsor/Documents/openelections-data-in/2024/counties/20241105__in__general__\" + str.lower(county) + \"__precinct.csv\"\n",
    "output_2"
   ]
  },
  {
   "cell_type": "code",
   "execution_count": null,
   "id": "d1811d0e-8a05-4ea9-a81b-0bf1d242a934",
   "metadata": {
    "tags": []
   },
   "outputs": [],
   "source": [
    "with pdfplumber.open(input_file) as pdf:\n",
    "    pages = [[line['text'] for line in page.extract_text_lines()] for page in pdf.pages]"
   ]
  },
  {
   "cell_type": "code",
   "execution_count": null,
   "id": "b04bc89f-256d-4dc7-861c-38620ac47cbe",
   "metadata": {
    "tags": []
   },
   "outputs": [],
   "source": [
    "page = pages[0]\n",
    "page"
   ]
  },
  {
   "cell_type": "code",
   "execution_count": 15,
   "id": "39d82d62-6156-4754-ad44-39c709598ac2",
   "metadata": {
    "tags": []
   },
   "outputs": [],
   "source": [
    "cols = {'county' : [],\n",
    "        'precinct' : [],\n",
    "        'office' : [],\n",
    "        'district' : [],\n",
    "        'party' : [],\n",
    "        'candidate' : [],\n",
    "        'election_day' : [],\n",
    "        'absentee' : [],\n",
    "        'early_voting' : [],\n",
    "        'votes' : []}\n",
    "party_convert = {'R' : 'REP',\n",
    "                 'REP' : 'REP',\n",
    "                 'D' : 'DEM',\n",
    "                 'DEM' : 'DEM',\n",
    "                 'L' : 'LIB',\n",
    "                 'LIB' : 'LIB',\n",
    "                 'WTP' : 'WTP',\n",
    "                 'W' : 'WTP',\n",
    "                 'NP' : ''\n",
    "                }"
   ]
  },
  {
   "cell_type": "code",
   "execution_count": 16,
   "id": "4d1bb5a8-780b-4f8d-9781-ad49d7ff44fa",
   "metadata": {
    "tags": []
   },
   "outputs": [
    {
     "ename": "NameError",
     "evalue": "name 'precinct' is not defined",
     "output_type": "error",
     "traceback": [
      "\u001b[1;31m---------------------------------------------------------------------------\u001b[0m",
      "\u001b[1;31mNameError\u001b[0m                                 Traceback (most recent call last)",
      "Cell \u001b[1;32mIn[16], line 49\u001b[0m\n\u001b[0;32m     47\u001b[0m     P \u001b[38;5;241m=\u001b[39m \u001b[38;5;124m'\u001b[39m\u001b[38;5;124m'\u001b[39m\n\u001b[0;32m     48\u001b[0m cols[\u001b[38;5;124m'\u001b[39m\u001b[38;5;124mcounty\u001b[39m\u001b[38;5;124m'\u001b[39m]\u001b[38;5;241m.\u001b[39mappend(county)\n\u001b[1;32m---> 49\u001b[0m cols[\u001b[38;5;124m'\u001b[39m\u001b[38;5;124mprecinct\u001b[39m\u001b[38;5;124m'\u001b[39m]\u001b[38;5;241m.\u001b[39mappend(precinct)\n\u001b[0;32m     50\u001b[0m cols[\u001b[38;5;124m'\u001b[39m\u001b[38;5;124moffice\u001b[39m\u001b[38;5;124m'\u001b[39m]\u001b[38;5;241m.\u001b[39mappend(office)\n\u001b[0;32m     51\u001b[0m cols[\u001b[38;5;124m'\u001b[39m\u001b[38;5;124mdistrict\u001b[39m\u001b[38;5;124m'\u001b[39m]\u001b[38;5;241m.\u001b[39mappend(district)\n",
      "\u001b[1;31mNameError\u001b[0m: name 'precinct' is not defined"
     ]
    }
   ],
   "source": [
    "for page in pages:\n",
    "    vote = False #Signifies when a \"VOTE FOR ...\" line has occurred\n",
    "    meta = False\n",
    "    straight_party = False\n",
    "    for (lineno, line) in enumerate(page): #for each line of the page\n",
    "        if re.search('E - #', line):\n",
    "            election_day = re.findall(r'Election Day (\\d+) PRECINCT', line)[0]\n",
    "            meta = True  #This is the first line of metadata\n",
    "        elif re.search(r'^A - #', line):\n",
    "            absentee = re.findall(r'Of Paper Absentee (\\d+)', line)[0]\n",
    "        elif re.search(r'^W - #', line):\n",
    "            early_voting = re.findall(r'Walk-In Absentee (\\d+)', line)[0]\n",
    "        elif re.search(r'^PUBLIC COUNT', line):\n",
    "            votes = re.findall(r'PUBLIC COUNT: (\\d+)', line)[0]\n",
    "        elif re.search(r'^REGISTERED VOTERS', line):\n",
    "            registered = re.findall(r'REGISTERED VOTERS: (\\d+)', line)[0]\n",
    "        elif re.search(r'^Precinct Name', line) and meta:\n",
    "            precinct = re.findall(r'Precinct Name: (.*)', line)[0]\n",
    "            cols['county'].extend([county, county])\n",
    "            cols['precinct'].extend([precinct, precinct])\n",
    "            cols['office'].extend(['Ballots Cast', 'Registered Voters'])\n",
    "            cols['district'].extend(['',''])\n",
    "            cols['party'].extend(['',''])\n",
    "            cols['candidate'].extend(['',''])\n",
    "            cols['election_day'].extend([election_day,''])\n",
    "            cols['absentee'].extend([absentee,''])\n",
    "            cols['early_voting'].extend([early_voting,''])\n",
    "            cols['votes'].extend([votes, registered])\n",
    "        elif re.search('VOTE FOR', line):#The 'VOTE FOR...\" line means the next line is what is being voted on\n",
    "            vote = True\n",
    "        elif vote: #If the 'VOTE FOR...\" line occured earlier\n",
    "            vote = False #Reset this\n",
    "            meta = False #This line means we are not in meta data anymore\n",
    "            if re.search(r'Representative District (\\d+)', line):\n",
    "                office, district = line.split(' District ')\n",
    "            else:\n",
    "                office = line\n",
    "                district = ''\n",
    "        elif re.search(r'\\d+ \\d+\\.?\\d*%', line) and not meta: #Lines with percentage numbers that are not metadata are the values we want\n",
    "            E, A, W, V, _, option = line.split(maxsplit=5) #The line is a row of a table of 6 columns\n",
    "            if re.search(r'\\(\\w+\\)', option):\n",
    "                P = party_convert[\n",
    "                    re.findall(r'\\((\\w+)\\)', option)[0]\n",
    "                ]\n",
    "                option = re.findall(r'\\(\\w+\\) (.*)', option)[0]\n",
    "            else:\n",
    "                P = ''\n",
    "            cols['county'].append(county)\n",
    "            cols['precinct'].append(precinct)\n",
    "            cols['office'].append(office)\n",
    "            cols['district'].append(district)\n",
    "            cols['party'].append(P)\n",
    "            cols['candidate'].append(option)\n",
    "            cols['election_day'].append(E)\n",
    "            cols['absentee'].append(A)\n",
    "            cols['early_voting'].append(W)\n",
    "            cols['votes'].append(V)\n",
    "        elif line == 'PartyName Votes':\n",
    "            straight_party = True\n",
    "        elif straight_party and re.search(r'\\w+ \\w+ \\d+$', line):\n",
    "            office = 'Straight Party'\n",
    "            candidate = re.findall(r'(.*) \\d+$', line)[0]\n",
    "            V = re.findall(r'.* (\\d+)$', line)[0]\n",
    "            P = party_convert[line[0]]\n",
    "            cols['county'].append(county)\n",
    "            cols['precinct'].append(precinct)\n",
    "            cols['office'].append(office)\n",
    "            cols['district'].append(district)\n",
    "            cols['party'].append(P)\n",
    "            cols['candidate'].append(candidate)\n",
    "            cols['election_day'].append('')\n",
    "            cols['absentee'].append('')\n",
    "            cols['early_voting'].append('')\n",
    "            cols['votes'].append(V)\n",
    "        else:\n",
    "            straight_party = False\n",
    "            "
   ]
  },
  {
   "cell_type": "code",
   "execution_count": 140,
   "id": "864d684f-1ebe-4325-ba1d-bb581997690d",
   "metadata": {
    "tags": []
   },
   "outputs": [
    {
     "data": {
      "text/html": [
       "<div>\n",
       "<style scoped>\n",
       "    .dataframe tbody tr th:only-of-type {\n",
       "        vertical-align: middle;\n",
       "    }\n",
       "\n",
       "    .dataframe tbody tr th {\n",
       "        vertical-align: top;\n",
       "    }\n",
       "\n",
       "    .dataframe thead th {\n",
       "        text-align: right;\n",
       "    }\n",
       "</style>\n",
       "<table border=\"1\" class=\"dataframe\">\n",
       "  <thead>\n",
       "    <tr style=\"text-align: right;\">\n",
       "      <th></th>\n",
       "      <th>county</th>\n",
       "      <th>precinct</th>\n",
       "      <th>office</th>\n",
       "      <th>district</th>\n",
       "      <th>party</th>\n",
       "      <th>candidate</th>\n",
       "      <th>election_day</th>\n",
       "      <th>absentee</th>\n",
       "      <th>early_voting</th>\n",
       "      <th>votes</th>\n",
       "    </tr>\n",
       "  </thead>\n",
       "  <tbody>\n",
       "    <tr>\n",
       "      <th>0</th>\n",
       "      <td>Kosciusko</td>\n",
       "      <td>Clay 01</td>\n",
       "      <td>Ballots Cast</td>\n",
       "      <td></td>\n",
       "      <td></td>\n",
       "      <td></td>\n",
       "      <td>297</td>\n",
       "      <td>15</td>\n",
       "      <td>148</td>\n",
       "      <td>460</td>\n",
       "    </tr>\n",
       "    <tr>\n",
       "      <th>1</th>\n",
       "      <td>Kosciusko</td>\n",
       "      <td>Clay 01</td>\n",
       "      <td>Registered Voters</td>\n",
       "      <td></td>\n",
       "      <td></td>\n",
       "      <td></td>\n",
       "      <td></td>\n",
       "      <td></td>\n",
       "      <td></td>\n",
       "      <td>641</td>\n",
       "    </tr>\n",
       "    <tr>\n",
       "      <th>2</th>\n",
       "      <td>Kosciusko</td>\n",
       "      <td>Clay 01</td>\n",
       "      <td>Public Question-Const Amendment</td>\n",
       "      <td></td>\n",
       "      <td></td>\n",
       "      <td>Yes</td>\n",
       "      <td>167</td>\n",
       "      <td>7</td>\n",
       "      <td>66</td>\n",
       "      <td>240</td>\n",
       "    </tr>\n",
       "    <tr>\n",
       "      <th>3</th>\n",
       "      <td>Kosciusko</td>\n",
       "      <td>Clay 01</td>\n",
       "      <td>Public Question-Const Amendment</td>\n",
       "      <td></td>\n",
       "      <td></td>\n",
       "      <td>No</td>\n",
       "      <td>103</td>\n",
       "      <td>2</td>\n",
       "      <td>58</td>\n",
       "      <td>163</td>\n",
       "    </tr>\n",
       "    <tr>\n",
       "      <th>4</th>\n",
       "      <td>Kosciusko</td>\n",
       "      <td>Clay 01</td>\n",
       "      <td>President and Vice-President of the U.S.</td>\n",
       "      <td></td>\n",
       "      <td>REP</td>\n",
       "      <td>Trump \\ Vance</td>\n",
       "      <td>267</td>\n",
       "      <td>10</td>\n",
       "      <td>117</td>\n",
       "      <td>394</td>\n",
       "    </tr>\n",
       "    <tr>\n",
       "      <th>...</th>\n",
       "      <td>...</td>\n",
       "      <td>...</td>\n",
       "      <td>...</td>\n",
       "      <td>...</td>\n",
       "      <td>...</td>\n",
       "      <td>...</td>\n",
       "      <td>...</td>\n",
       "      <td>...</td>\n",
       "      <td>...</td>\n",
       "      <td>...</td>\n",
       "    </tr>\n",
       "    <tr>\n",
       "      <th>3097</th>\n",
       "      <td>Kosciusko</td>\n",
       "      <td>Wayne 13</td>\n",
       "      <td>IN Supreme Court-Massa</td>\n",
       "      <td></td>\n",
       "      <td></td>\n",
       "      <td>No</td>\n",
       "      <td>0</td>\n",
       "      <td>0</td>\n",
       "      <td>0</td>\n",
       "      <td>0</td>\n",
       "    </tr>\n",
       "    <tr>\n",
       "      <th>3098</th>\n",
       "      <td>Kosciusko</td>\n",
       "      <td>Wayne 13</td>\n",
       "      <td>IN Supreme Court-Molter</td>\n",
       "      <td></td>\n",
       "      <td></td>\n",
       "      <td>Yes</td>\n",
       "      <td>1</td>\n",
       "      <td>0</td>\n",
       "      <td>0</td>\n",
       "      <td>1</td>\n",
       "    </tr>\n",
       "    <tr>\n",
       "      <th>3099</th>\n",
       "      <td>Kosciusko</td>\n",
       "      <td>Wayne 13</td>\n",
       "      <td>IN Supreme Court-Molter</td>\n",
       "      <td></td>\n",
       "      <td></td>\n",
       "      <td>No</td>\n",
       "      <td>0</td>\n",
       "      <td>0</td>\n",
       "      <td>0</td>\n",
       "      <td>0</td>\n",
       "    </tr>\n",
       "    <tr>\n",
       "      <th>3100</th>\n",
       "      <td>Kosciusko</td>\n",
       "      <td>Wayne 13</td>\n",
       "      <td>Court of Appeals Dist 4-Pyle III</td>\n",
       "      <td></td>\n",
       "      <td></td>\n",
       "      <td>Yes</td>\n",
       "      <td>1</td>\n",
       "      <td>0</td>\n",
       "      <td>0</td>\n",
       "      <td>1</td>\n",
       "    </tr>\n",
       "    <tr>\n",
       "      <th>3101</th>\n",
       "      <td>Kosciusko</td>\n",
       "      <td>Wayne 13</td>\n",
       "      <td>Court of Appeals Dist 4-Pyle III</td>\n",
       "      <td></td>\n",
       "      <td></td>\n",
       "      <td>No</td>\n",
       "      <td>0</td>\n",
       "      <td>0</td>\n",
       "      <td>0</td>\n",
       "      <td>0</td>\n",
       "    </tr>\n",
       "  </tbody>\n",
       "</table>\n",
       "<p>3102 rows × 10 columns</p>\n",
       "</div>"
      ],
      "text/plain": [
       "         county  precinct                                    office district  \\\n",
       "0     Kosciusko   Clay 01                              Ballots Cast            \n",
       "1     Kosciusko   Clay 01                         Registered Voters            \n",
       "2     Kosciusko   Clay 01           Public Question-Const Amendment            \n",
       "3     Kosciusko   Clay 01           Public Question-Const Amendment            \n",
       "4     Kosciusko   Clay 01  President and Vice-President of the U.S.            \n",
       "...         ...       ...                                       ...      ...   \n",
       "3097  Kosciusko  Wayne 13                    IN Supreme Court-Massa            \n",
       "3098  Kosciusko  Wayne 13                   IN Supreme Court-Molter            \n",
       "3099  Kosciusko  Wayne 13                   IN Supreme Court-Molter            \n",
       "3100  Kosciusko  Wayne 13          Court of Appeals Dist 4-Pyle III            \n",
       "3101  Kosciusko  Wayne 13          Court of Appeals Dist 4-Pyle III            \n",
       "\n",
       "     party      candidate election_day absentee early_voting votes  \n",
       "0                                  297       15          148   460  \n",
       "1                                                              641  \n",
       "2                     Yes          167        7           66   240  \n",
       "3                      No          103        2           58   163  \n",
       "4      REP  Trump \\ Vance          267       10          117   394  \n",
       "...    ...            ...          ...      ...          ...   ...  \n",
       "3097                   No            0        0            0     0  \n",
       "3098                  Yes            1        0            0     1  \n",
       "3099                   No            0        0            0     0  \n",
       "3100                  Yes            1        0            0     1  \n",
       "3101                   No            0        0            0     0  \n",
       "\n",
       "[3102 rows x 10 columns]"
      ]
     },
     "execution_count": 140,
     "metadata": {},
     "output_type": "execute_result"
    }
   ],
   "source": [
    "df = pd.DataFrame(data=cols)\n",
    "df"
   ]
  },
  {
   "cell_type": "code",
   "execution_count": 141,
   "id": "168eec76-4d39-4f01-b8fc-076cc10da935",
   "metadata": {
    "tags": []
   },
   "outputs": [],
   "source": [
    "df.to_csv(output_file)"
   ]
  },
  {
   "cell_type": "code",
   "execution_count": 142,
   "id": "705e506b-1e62-494c-af29-bc5d8d3dba78",
   "metadata": {},
   "outputs": [],
   "source": [
    "df.to_csv(output_2, index=False)"
   ]
  },
  {
   "cell_type": "markdown",
   "id": "be0cb8fd-a727-4521-a3d8-08fe3095280e",
   "metadata": {},
   "source": [
    "### Double Check\n",
    "The code below was used to double check our Whitley data vs the Whitley data that they had already done.  As of 1/28/2025 it checks out."
   ]
  },
  {
   "cell_type": "code",
   "execution_count": 129,
   "id": "52c14382-3225-4d75-b50d-35991b03f78f",
   "metadata": {},
   "outputs": [],
   "source": [
    "output_3 = \"C:/Users/johnsor/Documents/openelections-data-in/2024/counties/20241105__in__general__\" + str.lower(county) + \"__precinct_1.csv\""
   ]
  },
  {
   "cell_type": "code",
   "execution_count": 130,
   "id": "f5c1ba99-652b-405e-9831-ba9f30a714ec",
   "metadata": {
    "tags": []
   },
   "outputs": [],
   "source": [
    "df.to_csv(output_3, index=False)"
   ]
  },
  {
   "cell_type": "code",
   "execution_count": 131,
   "id": "4fb84e91-714e-452e-b35e-8e7f68d80491",
   "metadata": {
    "tags": []
   },
   "outputs": [],
   "source": [
    "df1 = pd.read_csv(output_3)\n",
    "df2 = pd.read_csv(output_2)"
   ]
  },
  {
   "cell_type": "code",
   "execution_count": 133,
   "id": "69aa7f10-457d-46c2-9ff7-753c4d3828ac",
   "metadata": {
    "tags": []
   },
   "outputs": [
    {
     "data": {
      "text/html": [
       "<div>\n",
       "<style scoped>\n",
       "    .dataframe tbody tr th:only-of-type {\n",
       "        vertical-align: middle;\n",
       "    }\n",
       "\n",
       "    .dataframe tbody tr th {\n",
       "        vertical-align: top;\n",
       "    }\n",
       "\n",
       "    .dataframe thead th {\n",
       "        text-align: right;\n",
       "    }\n",
       "</style>\n",
       "<table border=\"1\" class=\"dataframe\">\n",
       "  <thead>\n",
       "    <tr style=\"text-align: right;\">\n",
       "      <th></th>\n",
       "      <th>county</th>\n",
       "      <th>precinct</th>\n",
       "      <th>office</th>\n",
       "      <th>district</th>\n",
       "      <th>party</th>\n",
       "      <th>candidate</th>\n",
       "      <th>election_day</th>\n",
       "      <th>absentee</th>\n",
       "      <th>early_voting</th>\n",
       "      <th>votes</th>\n",
       "    </tr>\n",
       "  </thead>\n",
       "  <tbody>\n",
       "  </tbody>\n",
       "</table>\n",
       "</div>"
      ],
      "text/plain": [
       "Empty DataFrame\n",
       "Columns: [county, precinct, office, district, party, candidate, election_day, absentee, early_voting, votes]\n",
       "Index: []"
      ]
     },
     "execution_count": 133,
     "metadata": {},
     "output_type": "execute_result"
    }
   ],
   "source": [
    "pd.concat([df1,df2]).drop_duplicates(keep=False).sort_values(by=['precinct', 'office', 'candidate'])"
   ]
  },
  {
   "cell_type": "markdown",
   "id": "38473135-73a9-4da8-add1-9fbadb37a88c",
   "metadata": {},
   "source": [
    "Since the non-duplicates of the two concatenated dataframes is empty, they are both exactly the same"
   ]
  },
  {
   "cell_type": "code",
   "execution_count": null,
   "id": "e98b8ee4-ffab-470b-9de5-66e19e415d4f",
   "metadata": {},
   "outputs": [],
   "source": []
  }
 ],
 "metadata": {
  "kernelspec": {
   "display_name": "Python 3 (ipykernel)",
   "language": "python",
   "name": "python3"
  },
  "language_info": {
   "codemirror_mode": {
    "name": "ipython",
    "version": 3
   },
   "file_extension": ".py",
   "mimetype": "text/x-python",
   "name": "python",
   "nbconvert_exporter": "python",
   "pygments_lexer": "ipython3",
   "version": "3.11.5"
  }
 },
 "nbformat": 4,
 "nbformat_minor": 5
}
