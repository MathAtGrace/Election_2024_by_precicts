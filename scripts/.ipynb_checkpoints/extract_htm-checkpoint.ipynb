{
 "cells": [
  {
   "cell_type": "code",
   "execution_count": 59,
   "id": "e3ad0ccd-74d3-4cf9-a608-425434a0144d",
   "metadata": {
    "tags": []
   },
   "outputs": [],
   "source": [
    "from bs4 import BeautifulSoup\n",
    "from urllib.request import Request, urlopen\n",
    "import pandas as pd\n",
    "import re"
   ]
  },
  {
   "cell_type": "code",
   "execution_count": 16,
   "id": "d13360b3-43ee-482a-ae95-0da4b962a929",
   "metadata": {
    "tags": []
   },
   "outputs": [
    {
     "data": {
      "text/plain": [
       "['https://lakecountyin.gov/departments/voters/election-results-c/2024GeneralElectionResults/Lake_PrecSumm_001-CAL-05.htm',\n",
       " 'https://lakecountyin.gov/departments/voters/election-results-c/2024GeneralElectionResults/Lake_PrecSumm_002-CAL-06.htm',\n",
       " 'https://lakecountyin.gov/departments/voters/election-results-c/2024GeneralElectionResults/Lake_PrecSumm_003-CAL-10.htm',\n",
       " 'https://lakecountyin.gov/departments/voters/election-results-c/2024GeneralElectionResults/Lake_PrecSumm_004-CAL-12.htm',\n",
       " 'https://lakecountyin.gov/departments/voters/election-results-c/2024GeneralElectionResults/Lake_PrecSumm_347-WT-09.htm',\n",
       " 'https://lakecountyin.gov/departments/voters/election-results-c/2024GeneralElectionResults/Lake_PrecSumm_348-WT-10.htm']"
      ]
     },
     "execution_count": 16,
     "metadata": {},
     "output_type": "execute_result"
    }
   ],
   "source": [
    "precints = [\"CAL-05\", \"CAL-06\", \"CAL-10\", \"CAL-12\", \"CAL-14\", \"CCT-01\", \"CCT-02\", \"CCT-04\", \"CCT-05\", \"CCT-06\", \"CCT-07\", \"CCT-08\", \"CCT-09\", \"CL-01\", \"CL-02\", \"CL-03\", \"CL-04\", \"CL-05\", \"CL-06\", \"CL-07\", \"CL-08\", \"CL-09\", \"CL-10\", \"CP-02\", \"CP-04\", \"CP-05\", \"CP-06\", \"CP-07\", \"CP-09\", \"CP-10\", \"CP-11\", \"CP-12\", \"CP-13\", \"CP-14\", \"CP-15\", \"CP-18\", \"CP-19\", \"CP-20\", \"CP-21\", \"CP-24\", \"CP-25\", \"CP-26\", \"CP-29\", \"CP-30\", \"CP-31\", \"CP-32\", \"CT-03\", \"CT-04\", \"CT-05\", \"CT-06\", \"D-01\", \"D-02\", \"D-03\", \"D-04\", \"D-05\", \"D-06\", \"D-07\", \"D-08\", \"D-09\", \"D-10\", \"D-11\", \"D-14\", \"EC-02\", \"EC-03\", \"EC-05\", \"EC-07\", \"EC-08\", \"EC-11\", \"EC-13\", \"EC-17\", \"EC-22\", \"EC-23\", \"EC-24\", \"EC-25\", \"EC-28\", \"EC-31\", \"EC-33\", \"EC-35\", \"EC-36\", \"ECT-01\", \"ECT-02\", \"G1-03\", \"G1-08\", \"G1-16\", \"G1-18\", \"G1-20\", \"G1-22\", \"G1-24\", \"G2-01\", \"G2-03\", \"G2-04\", \"G2-10\", \"G2-11\", \"G2-12\", \"G2-17\", \"G2-20\", \"G3-03\", \"G3-11\", \"G3-15\", \"G3-16\", \"G3-17\", \"G3-19\", \"G3-21\", \"G3-26\", \"G4-01\", \"G4-03\", \"G4-05\", \"G4-10\", \"G4-14\", \"G4-16\", \"G4-23\", \"G4-25\", \"G5-01\", \"G5-02\", \"G5-04\", \"G5-06\", \"G5-13\", \"G5-14\", \"G5-16\", \"G5-20\", \"G5-22\", \"G5-28\", \"G6-02\", \"G6-05\", \"G6-07\", \"G6-10\", \"G6-12\", \"G6-14\", \"G6-16\", \"G6-18\", \"GR-01\", \"GR-02\", \"GR-03\", \"GR-05\", \"GR-06\", \"GR-07\", \"GR-09\", \"GR-10\", \"GR-11\", \"GR-12\", \"GR-15\", \"GR-16\", \"GR-17\", \"H1-01\", \"H1-03\", \"H1-05\", \"H1-07\", \"H1-08\", \"H1-10\", \"H1-12\", \"H1-16\", \"H2-03\", \"H2-05\", \"H2-06\", \"H2-11\", \"H2-12\", \"H2-14\", \"H3-03\", \"H3-04\", \"H3-05\", \"H3-07\", \"H3-09\", \"H3-11\", \"H3-16\", \"H4-05\", \"H4-06\", \"H4-07\", \"H4-09\", \"H4-11\", \"H4-12\", \"H4-14\", \"H4-18\", \"H5-04\", \"H5-08\", \"H5-12\", \"H5-13\", \"H5-14\", \"H5-15\", \"H5-17\", \"H6-04\", \"H6-05\", \"H6-07\", \"H6-08\", \"H6-09\", \"H6-10\", \"H6-12\", \"H6-13\", \"H6-15\", \"HL-03\", \"HL-04\", \"HL-05\", \"HL-06\", \"HL-08\", \"HL-09\", \"HL-10\", \"HL-11\", \"HL-12\", \"HL-15\", \"HL-16\", \"HL-19\", \"HL-20\", \"HL-23\", \"HL-24\", \"HL-25\", \"HL-26\", \"HO-02\", \"HO-03\", \"HO-04\", \"HO-05\", \"HO-06\", \"HO-07\", \"HO-10\", \"HO-11\", \"HO-12\", \"HO-15\", \"HO-16\", \"HO-19\", \"HO-21\", \"HO-22\", \"HO-23\", \"HO-25\", \"HO-27\", \"HO-29\", \"HOT-05\", \"HOT-08-\", \"HOT-09\", \"HT-01\", \"HT-02\", \"HT-03\", \"LS-01\", \"LS-02\", \"LS-03\", \"LS-04\", \"LS-05\", \"LS-06\", \"LS-07\", \"LS-08\", \"LS-09\", \"LS-11\", \"LS-13\", \"M-01\", \"M-02\", \"M-04\", \"M-05-\", \"M-06\", \"M-08\", \"M-09\", \"M-11\", \"M-12\", \"M-13\", \"M-14\", \"M-15\", \"M-16\", \"M-18\", \"M-19\", \"M-20\", \"M-21\", \"M-22\", \"M-24\", \"M-25\", \"MER-01\", \"MER-02\", \"MER-03\", \"MER-04\", \"MER-05\", \"MER-07\", \"MER-08\", \"MER-09\", \"MER-10\", \"MER-11\", \"MER-12\", \"MER-13\", \"MER-15\", \"MER-16\", \"MER-18\", \"MER-19\", \"MER-21\", \"MER-22\", \"MER-23\", \"MER-28\", \"MER-29\", \"MER-30\", \"MER-33\", \"MER-34\", \"RT-20\", \"SCH-02\", \"SCH-04\", \"SCH-06\", \"SCH-07\", \"SCH-09\", \"SCH-10\", \"SCH-13\", \"SCH-14\", \"SCH-15\", \"SCH-16\", \"SCH-17\", \"SCH-18\", \"SCH-19-\", \"SCH-20\", \"SCH-22\", \"SCH-24\", \"SCH-26\", \"SCH-27\", \"SCH-28\", \"SCH-32\", \"SCH-33\", \"SJ-01\", \"SJ-02\", \"SJ-03\", \"SJ-04\", \"SJ-05\", \"SJ-06\", \"SJ-07\", \"SJ-08\", \"SJ-09\", \"SJ-10\", \"SJ-11\", \"SJ-12\", \"SJ-13\", \"SJ-14\", \"SJ-15\", \"SJ-16\", \"SJ-17\", \"SJ-18\", \"SJ-19\", \"SJT-01\", \"SJT-02\", \"SJT-03\", \"SJT-04\", \"SJT-07\", \"SJT-08\", \"SJT-09\", \"W-01\", \"W-03\", \"W-04\", \"WCT-01\", \"WCT-02\", \"WCT-03\", \"WCT-04\", \"WCT-06\", \"WT-01\", \"WT-02\", \"WT-05\", \"WT-06\", \"WT-07\", \"WT-08\", \"WT-09\", \"WT-10\"]\n",
    "urls = []\n",
    "for i,p in enumerate(precints):\n",
    "    urls.append('https://lakecountyin.gov/departments/voters/election-results-c/2024GeneralElectionResults/Lake_PrecSumm_' +\n",
    "                '%03d' % (i+1) +\n",
    "                '-' +\n",
    "                p +\n",
    "               '.htm')\n",
    "urls[:4] + urls[-2:]"
   ]
  },
  {
   "cell_type": "code",
   "execution_count": 36,
   "id": "dfc22e43-9089-44a2-b069-e752af28191b",
   "metadata": {
    "tags": []
   },
   "outputs": [],
   "source": [
    "lines = []\n",
    "for url in urls:\n",
    "    req = Request(url)\n",
    "    html_page = urlopen(req).read()\n",
    "    soup = BeautifulSoup(html_page, 'html.parser')\n",
    "    lines += [s.get_text().strip().replace('\\n',' ') for s in soup.find_all('div')]"
   ]
  },
  {
   "cell_type": "code",
   "execution_count": 37,
   "id": "ff4aeaf2-3321-4848-88e6-ffb34ab115af",
   "metadata": {
    "tags": []
   },
   "outputs": [
    {
     "data": {
      "text/plain": [
       "['Precinct Summary Report 11/15/2024 - 9:41:27 AM  Election Date: 11/5/2024 EMS \\xa0 Lake County, Indiana 2024 General Election INLAKG24 11/5/2024 \\xa0 E - # Of Election Day 195 PRECINCT STATUS: REPORTED A - # Of Paper Absentee 21 W - # Of Walk-In Absentee 153 \\xa0PUBLIC COUNT: 369 \\xa0VOTER TURNOUT: 47.86% \\xa0REGISTERED VOTERS: 771',\n",
       " '001-CAL 05 - - - - - - - - - - - - - - - - - - VOTES - - - - - - - - - - - - - - - - \\xa0 \\xa0 E A W TOTAL %',\n",
       " 'VOTE FOR 1',\n",
       " 'VOTES= 310 Public Question-Const Amendment',\n",
       " '100 4 73 177 57.10% Yes',\n",
       " '68 6 59 133 42.90% No',\n",
       " '',\n",
       " 'VOTE FOR 1',\n",
       " 'VOTES= 362 President and Vice-President of the U.S.',\n",
       " '81 12 90 183 50.55% (D) Harris \\\\ Walz',\n",
       " '101 6 60 167 46.13% (R) Trump \\\\ Vance',\n",
       " '2 0 1 3 0.83% (L) Oliver \\\\ Ter Maat',\n",
       " '4 1 0 5 1.38% (WTP) Kennedy Jr \\\\ Shanahan',\n",
       " '2 1 1 4 1.10% Write-In',\n",
       " '',\n",
       " 'VOTE FOR 1',\n",
       " 'VOTES= 340 United States Senator',\n",
       " '81 14 89 184 54.12% (D) Valerie McCray',\n",
       " '88 7 57 152 44.71% (R) Jim Banks',\n",
       " '4 0 0 4 1.18% (L) Andrew Horning']"
      ]
     },
     "execution_count": 37,
     "metadata": {},
     "output_type": "execute_result"
    }
   ],
   "source": [
    "lines[:20]"
   ]
  },
  {
   "cell_type": "code",
   "execution_count": 100,
   "id": "8fcd2e2d-099d-4878-972c-54e02d48948d",
   "metadata": {
    "tags": []
   },
   "outputs": [],
   "source": [
    "cols = {'Precinct_ID' : [],\n",
    "        'Precinct_Name' : [],\n",
    "        'Registered_voters' : [],\n",
    "        'Vote_on' : [],\n",
    "        'Voter_subset' : [],\n",
    "        'Vote_option' : [],\n",
    "        'Vote_num' : []}\n",
    "df = pd.DataFrame(data=cols)"
   ]
  },
  {
   "cell_type": "code",
   "execution_count": 101,
   "id": "4f6390f9-43d0-42bd-8110-42dd940329a8",
   "metadata": {
    "tags": []
   },
   "outputs": [],
   "source": [
    "vote = False #Signifies when a \"VOTE FOR ...\" line has occurred\n",
    "for line in lines: #for each line of the page\n",
    "    if re.search('EMS', line):\n",
    "        _,_,_,_,_, reg = line.split('\\xa0')\n",
    "        registered = reg.split(':')[-1].strip()\n",
    "        meta = True\n",
    "    elif re.search('- - -', line):\n",
    "        ID, Name, _ = line.split(sep='-', maxsplit=2)\n",
    "        meta = False\n",
    "    elif re.search('VOTES=', line):\n",
    "        _,_,on = line.split(sep=' ', maxsplit=2)\n",
    "    elif re.search(r'\\d%', line) and not meta: #Lines with percentage numbers that are not metadata are the values we want\n",
    "        E, A, W, Total, Percent, option = line.split(maxsplit=5) #The line is a row of a table of 6 columns\n",
    "        addition = pd.DataFrame(data = {'Precinct_ID' : [ID]*5, #The new dataframe to concatenate\n",
    "                                        'Precinct_Name' : [Name]*5,\n",
    "                                        'Registered_voters' : [registered]*5,\n",
    "                                        'Vote_on' : [on]*5,\n",
    "                                        'Voter_subset' : ['Election Day', 'Paper Absentee', 'Walk-in Absentee', 'Total', 'percentage'],\n",
    "                                        'Vote_option' : [option]*5,\n",
    "                                        'Vote_num' : [E, A, W, Total, Percent]})\n",
    "        df = pd.concat([df,addition], ignore_index=True) #Concatenate the new data to the dataframe\n",
    "    elif line.find('Precinct Summary Report') > -1:\n",
    "        meta = True"
   ]
  },
  {
   "cell_type": "code",
   "execution_count": 102,
   "id": "a00946fb-8c7e-4e5e-bc6d-c7da489723c3",
   "metadata": {
    "tags": []
   },
   "outputs": [
    {
     "data": {
      "text/html": [
       "<div>\n",
       "<style scoped>\n",
       "    .dataframe tbody tr th:only-of-type {\n",
       "        vertical-align: middle;\n",
       "    }\n",
       "\n",
       "    .dataframe tbody tr th {\n",
       "        vertical-align: top;\n",
       "    }\n",
       "\n",
       "    .dataframe thead th {\n",
       "        text-align: right;\n",
       "    }\n",
       "</style>\n",
       "<table border=\"1\" class=\"dataframe\">\n",
       "  <thead>\n",
       "    <tr style=\"text-align: right;\">\n",
       "      <th></th>\n",
       "      <th>Precinct_ID</th>\n",
       "      <th>Precinct_Name</th>\n",
       "      <th>Registered_voters</th>\n",
       "      <th>Vote_on</th>\n",
       "      <th>Voter_subset</th>\n",
       "      <th>Vote_option</th>\n",
       "      <th>Vote_num</th>\n",
       "    </tr>\n",
       "  </thead>\n",
       "  <tbody>\n",
       "    <tr>\n",
       "      <th>0</th>\n",
       "      <td>001</td>\n",
       "      <td>CAL 05</td>\n",
       "      <td>771</td>\n",
       "      <td>Public Question-Const Amendment</td>\n",
       "      <td>Election Day</td>\n",
       "      <td>Yes</td>\n",
       "      <td>100</td>\n",
       "    </tr>\n",
       "    <tr>\n",
       "      <th>1</th>\n",
       "      <td>001</td>\n",
       "      <td>CAL 05</td>\n",
       "      <td>771</td>\n",
       "      <td>Public Question-Const Amendment</td>\n",
       "      <td>Paper Absentee</td>\n",
       "      <td>Yes</td>\n",
       "      <td>4</td>\n",
       "    </tr>\n",
       "    <tr>\n",
       "      <th>2</th>\n",
       "      <td>001</td>\n",
       "      <td>CAL 05</td>\n",
       "      <td>771</td>\n",
       "      <td>Public Question-Const Amendment</td>\n",
       "      <td>Walk-in Absentee</td>\n",
       "      <td>Yes</td>\n",
       "      <td>73</td>\n",
       "    </tr>\n",
       "    <tr>\n",
       "      <th>3</th>\n",
       "      <td>001</td>\n",
       "      <td>CAL 05</td>\n",
       "      <td>771</td>\n",
       "      <td>Public Question-Const Amendment</td>\n",
       "      <td>Total</td>\n",
       "      <td>Yes</td>\n",
       "      <td>177</td>\n",
       "    </tr>\n",
       "    <tr>\n",
       "      <th>4</th>\n",
       "      <td>001</td>\n",
       "      <td>CAL 05</td>\n",
       "      <td>771</td>\n",
       "      <td>Public Question-Const Amendment</td>\n",
       "      <td>percentage</td>\n",
       "      <td>Yes</td>\n",
       "      <td>57.10%</td>\n",
       "    </tr>\n",
       "    <tr>\n",
       "      <th>...</th>\n",
       "      <td>...</td>\n",
       "      <td>...</td>\n",
       "      <td>...</td>\n",
       "      <td>...</td>\n",
       "      <td>...</td>\n",
       "      <td>...</td>\n",
       "      <td>...</td>\n",
       "    </tr>\n",
       "    <tr>\n",
       "      <th>80630</th>\n",
       "      <td>348</td>\n",
       "      <td>WT 10</td>\n",
       "      <td>2658</td>\n",
       "      <td>Lake Superior Court Civil Div Room 6</td>\n",
       "      <td>Election Day</td>\n",
       "      <td>No</td>\n",
       "      <td>140</td>\n",
       "    </tr>\n",
       "    <tr>\n",
       "      <th>80631</th>\n",
       "      <td>348</td>\n",
       "      <td>WT 10</td>\n",
       "      <td>2658</td>\n",
       "      <td>Lake Superior Court Civil Div Room 6</td>\n",
       "      <td>Paper Absentee</td>\n",
       "      <td>No</td>\n",
       "      <td>8</td>\n",
       "    </tr>\n",
       "    <tr>\n",
       "      <th>80632</th>\n",
       "      <td>348</td>\n",
       "      <td>WT 10</td>\n",
       "      <td>2658</td>\n",
       "      <td>Lake Superior Court Civil Div Room 6</td>\n",
       "      <td>Walk-in Absentee</td>\n",
       "      <td>No</td>\n",
       "      <td>240</td>\n",
       "    </tr>\n",
       "    <tr>\n",
       "      <th>80633</th>\n",
       "      <td>348</td>\n",
       "      <td>WT 10</td>\n",
       "      <td>2658</td>\n",
       "      <td>Lake Superior Court Civil Div Room 6</td>\n",
       "      <td>Total</td>\n",
       "      <td>No</td>\n",
       "      <td>388</td>\n",
       "    </tr>\n",
       "    <tr>\n",
       "      <th>80634</th>\n",
       "      <td>348</td>\n",
       "      <td>WT 10</td>\n",
       "      <td>2658</td>\n",
       "      <td>Lake Superior Court Civil Div Room 6</td>\n",
       "      <td>percentage</td>\n",
       "      <td>No</td>\n",
       "      <td>31.42%</td>\n",
       "    </tr>\n",
       "  </tbody>\n",
       "</table>\n",
       "<p>80635 rows × 7 columns</p>\n",
       "</div>"
      ],
      "text/plain": [
       "      Precinct_ID Precinct_Name Registered_voters  \\\n",
       "0             001       CAL 05                771   \n",
       "1             001       CAL 05                771   \n",
       "2             001       CAL 05                771   \n",
       "3             001       CAL 05                771   \n",
       "4             001       CAL 05                771   \n",
       "...           ...           ...               ...   \n",
       "80630         348        WT 10               2658   \n",
       "80631         348        WT 10               2658   \n",
       "80632         348        WT 10               2658   \n",
       "80633         348        WT 10               2658   \n",
       "80634         348        WT 10               2658   \n",
       "\n",
       "                                    Vote_on      Voter_subset Vote_option  \\\n",
       "0           Public Question-Const Amendment      Election Day         Yes   \n",
       "1           Public Question-Const Amendment    Paper Absentee         Yes   \n",
       "2           Public Question-Const Amendment  Walk-in Absentee         Yes   \n",
       "3           Public Question-Const Amendment             Total         Yes   \n",
       "4           Public Question-Const Amendment        percentage         Yes   \n",
       "...                                     ...               ...         ...   \n",
       "80630  Lake Superior Court Civil Div Room 6      Election Day          No   \n",
       "80631  Lake Superior Court Civil Div Room 6    Paper Absentee          No   \n",
       "80632  Lake Superior Court Civil Div Room 6  Walk-in Absentee          No   \n",
       "80633  Lake Superior Court Civil Div Room 6             Total          No   \n",
       "80634  Lake Superior Court Civil Div Room 6        percentage          No   \n",
       "\n",
       "      Vote_num  \n",
       "0          100  \n",
       "1            4  \n",
       "2           73  \n",
       "3          177  \n",
       "4       57.10%  \n",
       "...        ...  \n",
       "80630      140  \n",
       "80631        8  \n",
       "80632      240  \n",
       "80633      388  \n",
       "80634   31.42%  \n",
       "\n",
       "[80635 rows x 7 columns]"
      ]
     },
     "execution_count": 102,
     "metadata": {},
     "output_type": "execute_result"
    }
   ],
   "source": [
    "df"
   ]
  },
  {
   "cell_type": "code",
   "execution_count": 103,
   "id": "f54a0c4a-6d24-4e3c-a389-6b7cf54f082a",
   "metadata": {
    "tags": []
   },
   "outputs": [],
   "source": [
    "df.to_csv(\"../data/Lake_24.csv\")"
   ]
  },
  {
   "cell_type": "code",
   "execution_count": null,
   "id": "0db1cbc6-538a-4c05-bb8f-80a5916b1392",
   "metadata": {},
   "outputs": [],
   "source": []
  }
 ],
 "metadata": {
  "kernelspec": {
   "display_name": "Python 3 (ipykernel)",
   "language": "python",
   "name": "python3"
  },
  "language_info": {
   "codemirror_mode": {
    "name": "ipython",
    "version": 3
   },
   "file_extension": ".py",
   "mimetype": "text/x-python",
   "name": "python",
   "nbconvert_exporter": "python",
   "pygments_lexer": "ipython3",
   "version": "3.11.5"
  }
 },
 "nbformat": 4,
 "nbformat_minor": 5
}
