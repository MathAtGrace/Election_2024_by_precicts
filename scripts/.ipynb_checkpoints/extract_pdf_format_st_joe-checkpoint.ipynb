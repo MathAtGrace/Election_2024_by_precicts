{
 "cells": [
  {
   "cell_type": "code",
   "execution_count": 42,
   "id": "17c5d1c7-35bb-4d9b-bdaa-919382131fea",
   "metadata": {
    "tags": []
   },
   "outputs": [],
   "source": [
    "import pandas as pd\n",
    "import numpy as np\n",
    "import re\n",
    "import pymupdf"
   ]
  },
  {
   "cell_type": "code",
   "execution_count": 43,
   "id": "422c08df-570c-4b53-951c-21c3ff09343c",
   "metadata": {},
   "outputs": [],
   "source": [
    "county_files = [\"st_joseph\"]\n",
    "counties = [\"St. Joseph\"]"
   ]
  },
  {
   "cell_type": "code",
   "execution_count": 44,
   "id": "fa0c96f5-97e9-4bb8-8876-af288a2bc307",
   "metadata": {},
   "outputs": [
    {
     "data": {
      "text/plain": [
       "'St. Joseph'"
      ]
     },
     "execution_count": 44,
     "metadata": {},
     "output_type": "execute_result"
    }
   ],
   "source": [
    "i = 0\n",
    "county = counties[i]\n",
    "county_file = county_files[i]\n",
    "county"
   ]
  },
  {
   "cell_type": "code",
   "execution_count": 45,
   "id": "bc42121e-41a8-4546-a974-40f2a70b65cf",
   "metadata": {
    "tags": []
   },
   "outputs": [
    {
     "data": {
      "text/plain": [
       "'C:/Users/johnsor/Documents/openelections-data-in/2024/counties/20241105__in__general__st_joseph__precinct.csv'"
      ]
     },
     "execution_count": 45,
     "metadata": {},
     "output_type": "execute_result"
    }
   ],
   "source": [
    "input_file = \"../data-raw/in_2024_results/\" + county_file + \".pdf\"\n",
    "output_file = \"../data/in_2024_results/\" + county_file + \".csv\"\n",
    "output_2 = \"C:/Users/johnsor/Documents/openelections-data-in/2024/counties/20241105__in__general__\" + county_file + \"__precinct.csv\"\n",
    "output_2"
   ]
  },
  {
   "cell_type": "code",
   "execution_count": 46,
   "id": "f8553d35-023d-48c4-8d86-4e85765cb579",
   "metadata": {
    "tags": []
   },
   "outputs": [],
   "source": [
    "def split_cols(page):\n",
    "    blocks = page.get_text_blocks() #Get the blocks of text\n",
    "    df_page = pd.DataFrame(blocks, columns=('tl.x', 'tl.y', 'br.x', 'br.y', 'text', 'index', 'type')) #put the blocks into a dataframe\n",
    "    df_page = df_page[~df_page.text.str.contains(r'Vote For \\d')] #Drop the Vote for _ lines\n",
    "    df_page['text'] = df_page['text'].str.strip() #Strip leading/trailing whitespace from the text\n",
    "    header = df_page[df_page[\"br.y\"] < 125].sort_values(by=['br.y']) #header at the top\n",
    "    left_col = df_page[(df_page['br.x'] < 320) & (df_page['br.y'] > 125)].sort_values(by=['br.y']) #left column below the header\n",
    "    right_col = df_page[(df_page['tl.x'] > 290) & (df_page['br.y'] > 125)].sort_values(by = ['br.y']) #right column below the header\n",
    "    columns =pd.DataFrame({'text' : pd.concat((left_col.text, right_col.text))}) #Concatenate the sorted columns\n",
    "                      \n",
    "    #When No candidate filed, they do not inlclude the zero votes that are needed for what we do next\n",
    "    columns['text'] = columns.text.str.replace(r'NO CANDIDATE FILED\\s+\\(([A-Z]+)\\)', r'NO CANDIDATE FILED (\\1)\\n0\\n0%', regex=True)\n",
    "    \n",
    "    #We need the precinct name, the registered voters, and the total voters from the header\n",
    "    new = header.text.str.contains(r'Page 1/\\d').any()\n",
    "    precinct = header.text.str.extract(r'Central Count\\n(\\w+\\s*\\w*\\s*\\w*)\\s*\\d{5,6}').dropna().iloc[0][0]\n",
    "    reg_voters = int(header.text.str.extract(r'Registered Voters\\s+([0-9,.]+)\\s+-').dropna().iloc[0][0].replace(',', ''))\n",
    "    votes = int(header.text.str.extract(r'Total Ballots\\s+([0-9,.]+)\\s+:').dropna().iloc[0][0].replace(',', ''))\n",
    "    \n",
    "    return new, precinct, reg_voters, votes, columns"
   ]
  },
  {
   "cell_type": "code",
   "execution_count": 47,
   "id": "e3b5a0f7-5cc2-4252-a727-14087f83ae1a",
   "metadata": {
    "tags": []
   },
   "outputs": [],
   "source": [
    "straight = {'DEMOCRATIC' : 'DEM', 'REPUBLICAN' : 'REP', 'LIBERTARIAN' : 'LIB', 'WE THE PEOPLE' : 'WTP', 'INDIANA REDEMPTION PARTY' : 'RED'}"
   ]
  },
  {
   "cell_type": "code",
   "execution_count": 48,
   "id": "fe00e64b-d631-4677-85cb-623247e58a78",
   "metadata": {
    "tags": []
   },
   "outputs": [],
   "source": [
    "def cols_to_data(columns):\n",
    "    tv = columns.text.str.contains('\\nTotal Votes') #gives the indices of the Total Votes Lines\n",
    "    office = tv.shift(-1, fill_value=False) #gives the indices of the office, which is always above Total Votes\n",
    "    columns['office'] = np.where(office, columns.text, None) #The lines above Total Votes give the office\n",
    "    columns.fillna(method='ffill', inplace=True) #Forward fill office values\n",
    "    columns = columns[(~tv) & (~office)] #No longer need the Total Votes lines\n",
    "    \n",
    "    #Sometimes the candidates and votes are in the same line, sometimes the votes come on the line before.  To\n",
    "    # fix this, invert the order, then concatenate by office, then sepaarate by '%'\n",
    "    columns = columns.iloc[::-1]\n",
    "    columns = columns.groupby(['office'])['text'].apply(lambda x: ''.join(x)).reset_index()\n",
    "    columns = columns.assign(text=columns['text'].str.split(r'\\n[0-9,.]+%\\n*')).explode('text')\n",
    "    columns = columns[columns['text'] != '']\n",
    "    columns['text'] = columns['text'].replace({'\\s+' : ' '}, regex=True)\n",
    "    \n",
    "    #Extract the party and the number of votes\n",
    "    columns['party'] = columns.text.str.extract(r'\\(\\s*([A-Z]+)\\)\\s*\\d+$')\n",
    "    columns['votes'] = columns.text.str.extract(r'(\\d+)$')\n",
    "    \n",
    "    #To extract the candidates, get rid of either the party and votes or just the votes\n",
    "    columns['candidate'] = columns.text.str.replace(r'\\s*\\(\\s*([A-Z]+)\\)\\s*\\d+$', '', regex=True)\n",
    "    columns['candidate'] = columns.candidate.str.replace(r'\\s*\\d+$', '', regex=True).str.title()\n",
    "    \n",
    "    #At this point we've extracted what we needed\n",
    "    columns = columns.drop('text', axis=1)\n",
    "    \n",
    "    #Split the district number off from the office, but only for state senators and federal or state representatives\n",
    "    columns['district'] = columns['office'].str.extract(r'[SENATOR|REPRESENTATIVE] DISTRICT (\\d+)')\n",
    "    columns['office'] = columns['office'].str.replace(r'(SENATOR|REPRESENTATIVE) DISTRICT (\\d+)', r'\\1', regex=True).str.title()\n",
    "    \n",
    "    return columns"
   ]
  },
  {
   "cell_type": "code",
   "execution_count": 49,
   "id": "1603fabc-2125-4f34-8d7c-84275722f777",
   "metadata": {
    "tags": []
   },
   "outputs": [],
   "source": [
    "doc = pymupdf.open(input_file) # open a document\n",
    "df = pd.DataFrame({'county' : [], 'precinct' : [], 'office' : [], 'district' : [], 'party' : [], 'candidate' : [], 'votes' : []})\n",
    "for page in doc:\n",
    "    new, precinct, reg_voters, votes, columns = split_cols(page)\n",
    "    header = pd.DataFrame({'county' : [county]*2, 'precinct' : [precinct]*2, 'office' : ['Ballots Cast','Registered Voters'],\n",
    "                           'district' : ['',''], 'party' : ['',''], 'candidate' : ['',''], 'votes' : [votes, reg_voters]})\n",
    "    cols_data = cols_to_data(columns).assign(county = county, precinct=precinct)\n",
    "    if new:\n",
    "        df = pd.concat([df, header, cols_data])\n",
    "    else:\n",
    "        df = pd.concat([df, cols_data])\n",
    "#Fix the straight ticket parties\n",
    "df.loc[df['office'] == 'StraightTicketSelection', 'party'] = df.loc[df['office'] == 'StraightTicketSelection', 'candidate'].map(straight)\n",
    "df['office'] = df['office'].str.replace('StraightTicketSelection', 'Straight Party')"
   ]
  },
  {
   "cell_type": "code",
   "execution_count": 50,
   "id": "dfde73ae-8662-4634-b8e6-85265c772ced",
   "metadata": {
    "tags": []
   },
   "outputs": [
    {
     "data": {
      "text/html": [
       "<div>\n",
       "<style scoped>\n",
       "    .dataframe tbody tr th:only-of-type {\n",
       "        vertical-align: middle;\n",
       "    }\n",
       "\n",
       "    .dataframe tbody tr th {\n",
       "        vertical-align: top;\n",
       "    }\n",
       "\n",
       "    .dataframe thead th {\n",
       "        text-align: right;\n",
       "    }\n",
       "</style>\n",
       "<table border=\"1\" class=\"dataframe\">\n",
       "  <thead>\n",
       "    <tr style=\"text-align: right;\">\n",
       "      <th></th>\n",
       "      <th>county</th>\n",
       "      <th>precinct</th>\n",
       "      <th>office</th>\n",
       "      <th>district</th>\n",
       "      <th>party</th>\n",
       "      <th>candidate</th>\n",
       "      <th>votes</th>\n",
       "    </tr>\n",
       "  </thead>\n",
       "  <tbody>\n",
       "    <tr>\n",
       "      <th>0</th>\n",
       "      <td>St. Joseph</td>\n",
       "      <td>CENTRE TWP 1</td>\n",
       "      <td>Ballots Cast</td>\n",
       "      <td></td>\n",
       "      <td></td>\n",
       "      <td></td>\n",
       "      <td>757</td>\n",
       "    </tr>\n",
       "    <tr>\n",
       "      <th>1</th>\n",
       "      <td>St. Joseph</td>\n",
       "      <td>CENTRE TWP 1</td>\n",
       "      <td>Registered Voters</td>\n",
       "      <td></td>\n",
       "      <td></td>\n",
       "      <td></td>\n",
       "      <td>1122</td>\n",
       "    </tr>\n",
       "    <tr>\n",
       "      <th>0</th>\n",
       "      <td>St. Joseph</td>\n",
       "      <td>CENTRE TWP 1</td>\n",
       "      <td>President Of The United States</td>\n",
       "      <td>NaN</td>\n",
       "      <td>WI</td>\n",
       "      <td>Claudia De La Cruz Karina Garcia</td>\n",
       "      <td>1</td>\n",
       "    </tr>\n",
       "    <tr>\n",
       "      <th>0</th>\n",
       "      <td>St. Joseph</td>\n",
       "      <td>CENTRE TWP 1</td>\n",
       "      <td>President Of The United States</td>\n",
       "      <td>NaN</td>\n",
       "      <td>WI</td>\n",
       "      <td>Susan Maude Buchser</td>\n",
       "      <td>0</td>\n",
       "    </tr>\n",
       "    <tr>\n",
       "      <th>0</th>\n",
       "      <td>St. Joseph</td>\n",
       "      <td>CENTRE TWP 1</td>\n",
       "      <td>President Of The United States</td>\n",
       "      <td>NaN</td>\n",
       "      <td>WI</td>\n",
       "      <td>Nala Baozun Scott Johnson Jr</td>\n",
       "      <td>0</td>\n",
       "    </tr>\n",
       "    <tr>\n",
       "      <th>...</th>\n",
       "      <td>...</td>\n",
       "      <td>...</td>\n",
       "      <td>...</td>\n",
       "      <td>...</td>\n",
       "      <td>...</td>\n",
       "      <td>...</td>\n",
       "      <td>...</td>\n",
       "    </tr>\n",
       "    <tr>\n",
       "      <th>9</th>\n",
       "      <td>St. Joseph</td>\n",
       "      <td>WARREN TWP 6</td>\n",
       "      <td>Steele - Judicial Retention</td>\n",
       "      <td>NaN</td>\n",
       "      <td>NaN</td>\n",
       "      <td>No</td>\n",
       "      <td>69</td>\n",
       "    </tr>\n",
       "    <tr>\n",
       "      <th>0</th>\n",
       "      <td>St. Joseph</td>\n",
       "      <td>WARREN TWP 6</td>\n",
       "      <td>Telloyan - Judicial Retention</td>\n",
       "      <td>NaN</td>\n",
       "      <td>NaN</td>\n",
       "      <td>Yes</td>\n",
       "      <td>227</td>\n",
       "    </tr>\n",
       "    <tr>\n",
       "      <th>0</th>\n",
       "      <td>St. Joseph</td>\n",
       "      <td>WARREN TWP 6</td>\n",
       "      <td>Telloyan - Judicial Retention</td>\n",
       "      <td>NaN</td>\n",
       "      <td>NaN</td>\n",
       "      <td>No</td>\n",
       "      <td>82</td>\n",
       "    </tr>\n",
       "    <tr>\n",
       "      <th>1</th>\n",
       "      <td>St. Joseph</td>\n",
       "      <td>WARREN TWP 6</td>\n",
       "      <td>Woods - Judicial Retention</td>\n",
       "      <td>NaN</td>\n",
       "      <td>NaN</td>\n",
       "      <td>Yes</td>\n",
       "      <td>249</td>\n",
       "    </tr>\n",
       "    <tr>\n",
       "      <th>1</th>\n",
       "      <td>St. Joseph</td>\n",
       "      <td>WARREN TWP 6</td>\n",
       "      <td>Woods - Judicial Retention</td>\n",
       "      <td>NaN</td>\n",
       "      <td>NaN</td>\n",
       "      <td>No</td>\n",
       "      <td>76</td>\n",
       "    </tr>\n",
       "  </tbody>\n",
       "</table>\n",
       "<p>17470 rows × 7 columns</p>\n",
       "</div>"
      ],
      "text/plain": [
       "        county      precinct                          office district party  \\\n",
       "0   St. Joseph  CENTRE TWP 1                    Ballots Cast                  \n",
       "1   St. Joseph  CENTRE TWP 1               Registered Voters                  \n",
       "0   St. Joseph  CENTRE TWP 1  President Of The United States      NaN    WI   \n",
       "0   St. Joseph  CENTRE TWP 1  President Of The United States      NaN    WI   \n",
       "0   St. Joseph  CENTRE TWP 1  President Of The United States      NaN    WI   \n",
       "..         ...           ...                             ...      ...   ...   \n",
       "9   St. Joseph  WARREN TWP 6     Steele - Judicial Retention      NaN   NaN   \n",
       "0   St. Joseph  WARREN TWP 6   Telloyan - Judicial Retention      NaN   NaN   \n",
       "0   St. Joseph  WARREN TWP 6   Telloyan - Judicial Retention      NaN   NaN   \n",
       "1   St. Joseph  WARREN TWP 6      Woods - Judicial Retention      NaN   NaN   \n",
       "1   St. Joseph  WARREN TWP 6      Woods - Judicial Retention      NaN   NaN   \n",
       "\n",
       "                           candidate votes  \n",
       "0                                      757  \n",
       "1                                     1122  \n",
       "0   Claudia De La Cruz Karina Garcia     1  \n",
       "0                Susan Maude Buchser     0  \n",
       "0       Nala Baozun Scott Johnson Jr     0  \n",
       "..                               ...   ...  \n",
       "9                                 No    69  \n",
       "0                                Yes   227  \n",
       "0                                 No    82  \n",
       "1                                Yes   249  \n",
       "1                                 No    76  \n",
       "\n",
       "[17470 rows x 7 columns]"
      ]
     },
     "execution_count": 50,
     "metadata": {},
     "output_type": "execute_result"
    }
   ],
   "source": [
    "df"
   ]
  },
  {
   "cell_type": "code",
   "execution_count": 51,
   "id": "a4b51ec2-e78c-4a47-a7b6-34d2e48b2de9",
   "metadata": {
    "tags": []
   },
   "outputs": [],
   "source": [
    "df.to_csv(output_file)"
   ]
  },
  {
   "cell_type": "code",
   "execution_count": 52,
   "id": "705e506b-1e62-494c-af29-bc5d8d3dba78",
   "metadata": {},
   "outputs": [],
   "source": [
    "df.to_csv(output_2, index=False)"
   ]
  },
  {
   "cell_type": "code",
   "execution_count": null,
   "id": "c8d91391-dd11-4658-95ec-928e7ce30f1f",
   "metadata": {},
   "outputs": [],
   "source": []
  }
 ],
 "metadata": {
  "kernelspec": {
   "display_name": "Python 3 (ipykernel)",
   "language": "python",
   "name": "python3"
  },
  "language_info": {
   "codemirror_mode": {
    "name": "ipython",
    "version": 3
   },
   "file_extension": ".py",
   "mimetype": "text/x-python",
   "name": "python",
   "nbconvert_exporter": "python",
   "pygments_lexer": "ipython3",
   "version": "3.11.5"
  }
 },
 "nbformat": 4,
 "nbformat_minor": 5
}
