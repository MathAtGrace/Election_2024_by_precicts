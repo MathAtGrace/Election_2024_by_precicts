{
 "cells": [
  {
   "cell_type": "code",
   "execution_count": 15,
   "id": "d501c4f4-c8d7-4a91-97f4-ec89d16f8f2c",
   "metadata": {},
   "outputs": [
    {
     "data": {
      "text/plain": [
       "'\\nExtractor for format \"C\" of election results\\nFormat C is the second most common format in OpenElections data for Indiana\\nThis format is characterized by grey rectangles in the header, a blue bar indicating the precinct, and green boxes marking questions.\\n'"
      ]
     },
     "execution_count": 15,
     "metadata": {},
     "output_type": "execute_result"
    }
   ],
   "source": [
    "import pdfplumber\n",
    "import os\n",
    "import csv\n",
    "\n",
    "\"\"\"\n",
    "Extractor for format \"C\" of election results\n",
    "Format C is the second most common format in OpenElections data for Indiana\n",
    "This format is characterized by grey rectangles in the header, a blue bar indicating the precinct, and green boxes marking questions.\n",
    "\"\"\""
   ]
  },
  {
   "cell_type": "code",
   "execution_count": 16,
   "id": "79f4719f-66f8-4402-bd9a-43db0550a05b",
   "metadata": {},
   "outputs": [
    {
     "name": "stdin",
     "output_type": "stream",
     "text": [
      "County Name:  Cass\n"
     ]
    }
   ],
   "source": [
    "file = \"../data-raw/Cass_24.pdf\"               # Filepath for the target PDF\n",
    "county = input(\"County Name: \").capitalize()   # Retrieves the county name and formats it properly. This is done so that only the file path must be changed out or parties added.\n",
    "parties = [\"REP\", \"DEM\", \"LIB\", \"WTP\", \"NP\"]   # Party abbreviations used in question choice lines. Detection is difficult, so must be added manually"
   ]
  },
  {
   "cell_type": "code",
   "execution_count": 17,
   "id": "40c1b423-d08d-45ea-a818-dd03d3e3e568",
   "metadata": {},
   "outputs": [],
   "source": [
    "class Precinct():                # An object that stores data for a given precinct, rather than having a dict for each attribute as I originally attempted.\n",
    "    def __init__(self, name):\n",
    "        self.name = \"\"           # Stores the name. Presently serves little purpose, may be removed later\n",
    "        self.pages = []          # Stores the text for each page belonging to the precinct\n",
    "        self.header_lines = []   # Stores the text of the header\n",
    "        self.lines = []          # Stores the lines of the questions only for the given precinct\n",
    "        self.questions = []      # Stores the lines of each question in a nested list. self.questions[0] would return a list of lines for the first question"
   ]
  },
  {
   "cell_type": "code",
   "execution_count": 18,
   "id": "844cd13d-965c-47af-9a7a-39b383ca4258",
   "metadata": {},
   "outputs": [
    {
     "name": "stdout",
     "output_type": "stream",
     "text": [
      "Adams\n",
      "Bethlehem\n",
      "Boone\n",
      "Clay City\n",
      "Clay\n",
      "Clinton\n",
      "Deer Creek East\n",
      "Deer Creek West\n",
      "Eel East\n",
      "Eel North\n",
      "Eel West\n",
      "Galveston\n",
      "Harrison\n",
      "Jackson\n",
      "Jefferson\n",
      "Logansport\n",
      "Miami - Logan\n",
      "Miami - Lewis Cass\n",
      "Noble City\n",
      "Noble North\n",
      "Noble - Logan\n",
      "Noble - Pioneer\n",
      "Tipton I\n",
      "Tipton II\n",
      "Washington - Logan\n",
      "Washington - Lewis Cass\n",
      "Washington South\n",
      "Washington City - Logan\n",
      "Washington City - Lewis Cass\n",
      "Federal Only\n",
      "President Only\n",
      "Precincts separated\n"
     ]
    }
   ],
   "source": [
    "##### Precinct Separation\n",
    "precincts = {}   # Precincts will be paired with a list of pages since no page has data for more than one precinct\n",
    "\n",
    "# Opening the file\n",
    "with pdfplumber.open(file) as pdf:\n",
    "    for page in pdf.pages:\n",
    "        lines = page.extract_text_lines()\n",
    "        # Identify the precinct the page belongs to\n",
    "        header_words = lines[10]['text'].split(\" \")   # Header lines look like \"Precinct Name # of # registered voters = x%\"\n",
    "        precinct_name = \"\"\n",
    "        consistent_text = lines[12]['text']\n",
    "        for word in header_words:   # Rejoins words until the first number is encountered. May need adjusted if another county has names like \"Precinct 01\"\n",
    "            if(word.replace(\",\",\"\").isnumeric() == False):   # Replace method accounts for commas in large numbers\n",
    "                precinct_name += \" \" + word\n",
    "            else:\n",
    "                precinct_name = precinct_name.strip()   # Remove the trailing spaces from the above process\n",
    "                break   # Ensures that rejoining stops at the first number instead of skipping numbers\n",
    "        # Assign the pages to their respective precinct objects\n",
    "        if(precinct_name not in precincts):   # Checks if the precinct has any pages. If not, adds a new entry to precincts.\n",
    "            precincts.update({precinct_name : Precinct(precinct_name)})\n",
    "            print(precinct_name)                                       # For testing purposes, lists all of the precincts as they are sorted\n",
    "        precincts[precinct_name].pages.append(lines)\n",
    "    print(\"Precincts separated\")   # Outputs a progress update when all the data is loaded, since it takes a while"
   ]
  },
  {
   "cell_type": "code",
   "execution_count": 23,
   "id": "c2000649-5baa-4dbe-bab6-662c21a2e8e3",
   "metadata": {},
   "outputs": [],
   "source": [
    "##### Line Extraction\n",
    "\n",
    "# Accepts a precinct object (e.g. precincts['Adams']) and stores question text in precinct.lines\n",
    "def extract_lines(precinct):\n",
    "    for page in precinct.pages:\n",
    "        for i in range(11):\n",
    "            precinct.header_lines.append(page[i]['text'])\n",
    "        for i in range(11,len(page)):   # questions fall within this range, allowing for easier separation of questions\n",
    "            precinct.lines.append(page[i]['text'])   # Since the data can be separated using text alone, only the text is grabbed"
   ]
  },
  {
   "cell_type": "code",
   "execution_count": 24,
   "id": "42c0dab5-66e1-44f6-86f5-7088ffcaa5aa",
   "metadata": {},
   "outputs": [],
   "source": [
    "# Extracts lines for all stored precincts\n",
    "for precinct in precincts:\n",
    "    extract_lines(precincts[precinct])"
   ]
  },
  {
   "cell_type": "code",
   "execution_count": 25,
   "id": "8e30a8eb-5887-4055-afda-f094709e0208",
   "metadata": {},
   "outputs": [],
   "source": [
    "##### Question Separation\n",
    "\n",
    "# Accepts a precinct name (e.g. 'Adams') and separates the precinct text into individual questions\n",
    "def separate_questions(target):\n",
    "    precinct = precincts[target]   # Layer that makes the dictionary call less ugly in the code below\n",
    "    question_pos = []   # Stores the positions of the questions within precinct.lines\n",
    "    \n",
    "    # Question identification\n",
    "    consistent_text = precinct.lines[1]   # Second line of every question has the same column headings, providing a reference point for questions.\n",
    "    for i in range(len(precinct.lines)):\n",
    "        if(precinct.lines[i] == consistent_text):\n",
    "            question_pos.append(i-1)\n",
    "    question_pos.append(len(precinct.lines))   # Pads question_pos so that the final question can be grabbed below.\n",
    "\n",
    "    # Question isolation\n",
    "    for pos in range(len(question_pos)-1):\n",
    "        question = []\n",
    "        for line in range(question_pos[pos], question_pos[pos+1]):\n",
    "            question.append(precinct.lines[line])\n",
    "        precinct.questions.append(question)\n",
    "    # print(precinct.questions[0])   # For testing, to see if questions properly separated / view the raw question data\n",
    "    "
   ]
  },
  {
   "cell_type": "code",
   "execution_count": 26,
   "id": "8f574489-47b3-43c1-aac6-e446c418727a",
   "metadata": {},
   "outputs": [],
   "source": [
    "for precinct in precincts:\n",
    "    separate_questions(precinct)"
   ]
  },
  {
   "cell_type": "code",
   "execution_count": 27,
   "id": "acd27902-c43d-41e4-8d24-70b5d0395b2e",
   "metadata": {},
   "outputs": [
    {
     "data": {
      "text/plain": [
       "'\\nFormat: county,precinct,office,district,party,candidate,election_day,absentee,early_voting,votes\\n\\nDistrict does not seem to appear in this format, and the EMS format does not always include it\\n\\nQuestion layout:\\noffice - optional instruction\\ncandidate party absentee early_voting election_day votes\\nEach \"candidate\" lists the above data, with the votes listed in raw numbers and percentages\\nQuestion total votes, per type\\nUndervotes, per type\\nOvervotes, per type\\nInvalid votes, per type\\n'"
      ]
     },
     "execution_count": 27,
     "metadata": {},
     "output_type": "execute_result"
    }
   ],
   "source": [
    "'''\n",
    "Format: county,precinct,office,district,party,candidate,election_day,absentee,early_voting,votes\n",
    "\n",
    "District does not seem to appear in this format, and the EMS format does not always include it\n",
    "\n",
    "Question layout:\n",
    "office - optional instruction\n",
    "candidate party absentee early_voting election_day votes\n",
    "Each \"candidate\" lists the above data, with the votes listed in raw numbers and percentages\n",
    "Question total votes, per type\n",
    "Undervotes, per type\n",
    "Overvotes, per type\n",
    "Invalid votes, per type\n",
    "'''"
   ]
  },
  {
   "cell_type": "code",
   "execution_count": 28,
   "id": "40ad6ccd-d555-4df3-9e5f-c9fdca5a3f5a",
   "metadata": {},
   "outputs": [],
   "source": [
    "def extract_ballot_data(target):\n",
    "    precinct = precincts[target]\n",
    "    numbers = []\n",
    "    for word in precinct.header_lines[-1].split(\" \"):\n",
    "        if(word.replace(\",\",\"\").isnumeric()):\n",
    "            numbers.append(int(word.replace(\",\",\"\")))\n",
    "    ballots = [county, target, \"Ballots Cast\",'','','','','','',numbers[0]]\n",
    "    voters = [county, target, \"Registered Voters\",'','','','','','',numbers[1]]\n",
    "    return ballots, voters"
   ]
  },
  {
   "cell_type": "code",
   "execution_count": 29,
   "id": "af117851-7207-45d9-a391-604ad599f96e",
   "metadata": {},
   "outputs": [],
   "source": [
    "##### Data Extraction, per question\n",
    "\n",
    "# Accepts precinct name string (e.g. 'Adams') and a zero-indexed question number, returns a list of formatted data from each option for the question\n",
    "def extract_data(target, question_num):\n",
    "    results = []   # A list of the output data for each line of the question\n",
    "    precinct = precincts[target]   # Shorthand for calls to the precinct object\n",
    "    question = precinct.questions[question_num]   # Shorthand for the question the method applies to\n",
    "    \n",
    "    # office\n",
    "    office = question[0].split(\"-\")[0].strip()   # Removes any instructions (e.g. Vote for one (1) only) not part of the question name, and then remove the trailing space left behind\n",
    "    district = ''\n",
    "    if(\"DISTRICT\" in office.split(\" \")):   # Checks if the office mentions a district\n",
    "        words = office.split(\" \")\n",
    "        office = ''\n",
    "        for word in words:\n",
    "            if(word == \"DISTRICT\"):\n",
    "                break\n",
    "            else:\n",
    "                office += \" \"+word\n",
    "        district = words[-1]\n",
    "        office = office.strip()\n",
    "\n",
    "    # Per-line data\n",
    "    for line in range(2, len(question)):   # Indexing begins at 2 to ignore the \"office\" and the data header\n",
    "        candidate = \"\"\n",
    "        party = \"\"   # A 2-3 character alphabetical code for the \n",
    "        numbers = []\n",
    "        if(\"Cast Votes\" in question[line]):   # Cuts off the non-response data that we do not need for the desired output\n",
    "            break\n",
    "        else:\n",
    "            contents = question[line].split(\" \")\n",
    "            for word in contents:\n",
    "                # Reconstructs the split candidate name from individual pieces, filtering out the party and votes\n",
    "                if(word not in parties and word.replace(\"%\",\"\").replace(\".\",\"\").replace(\",\",\"\").isnumeric() == False):\n",
    "                    candidate += \" \" + word\n",
    "\n",
    "                # Detect party abbreviations from the dictionary\n",
    "                elif(word in parties):\n",
    "                    party = word\n",
    "\n",
    "                # Add the election results to a list for later sorting\n",
    "                elif(word.replace(\",\", \"\").isnumeric()):\n",
    "                    numbers.append(word.replace(\",\",\"\"))\n",
    "                \n",
    "                # After the line has been read, removes the leading space from the candidate reconstruction code\n",
    "                candidate = candidate.strip()\n",
    "\n",
    "        # Completes the candidate name of the previous line in case the name rolled into a second line\n",
    "        if(numbers == []):\n",
    "            results[line-3][5] += \" \" + candidate\n",
    "            continue   # Skips the code that adds the results\n",
    "\n",
    "        # Compile the results according to the output format and add to a list for the overall question\n",
    "        # print(numbers)                                                                                                 # Debug\n",
    "        result = [county, target, office, district, party, candidate, numbers[2], numbers[0], numbers[1], numbers[3]]\n",
    "        results.append(result)\n",
    "    return results"
   ]
  },
  {
   "cell_type": "code",
   "execution_count": 30,
   "id": "c1cec0af-b2d9-49d8-b650-967562c1940e",
   "metadata": {},
   "outputs": [],
   "source": [
    "output_lines = [['county','precinct','office','district','party','candidate','election_day','absentee','early_voting','votes']]\n",
    "\n",
    "for precinct in precincts:\n",
    "    ballots, voters = extract_ballot_data(precinct)\n",
    "    output_lines.append(ballots)\n",
    "    output_lines.append(voters)\n",
    "    for q in range(len(precincts[precinct].questions)):\n",
    "        try:\n",
    "            results = extract_data(precinct, q)\n",
    "        except Exception as e:\n",
    "            print(precinct, q, \" - \", e)\n",
    "        for line in results:\n",
    "            output_lines.append(line)"
   ]
  },
  {
   "cell_type": "code",
   "execution_count": 31,
   "id": "4f42e40d-d6fc-4c5e-886d-c351f5c37999",
   "metadata": {},
   "outputs": [],
   "source": [
    "##### Output to CSV\n",
    "def csv_writer():\n",
    "    with open(\"../data/20241105__in__general__\"+county.lower()+\"__precinct.csv\", \"w\", newline = \"\\n\") as csvfile:\n",
    "        csv_writer = csv.writer(csvfile)\n",
    "        for line in output_lines:\n",
    "            csv_writer.writerow(line)\n",
    "\n",
    "csv_writer()"
   ]
  },
  {
   "cell_type": "code",
   "execution_count": null,
   "id": "a0df2129-df54-4e21-914f-4e21ece7a387",
   "metadata": {},
   "outputs": [],
   "source": []
  }
 ],
 "metadata": {
  "kernelspec": {
   "display_name": "Python 3 (ipykernel)",
   "language": "python",
   "name": "python3"
  },
  "language_info": {
   "codemirror_mode": {
    "name": "ipython",
    "version": 3
   },
   "file_extension": ".py",
   "mimetype": "text/x-python",
   "name": "python",
   "nbconvert_exporter": "python",
   "pygments_lexer": "ipython3",
   "version": "3.9.13"
  }
 },
 "nbformat": 4,
 "nbformat_minor": 5
}
