{
 "cells": [
  {
   "cell_type": "code",
   "execution_count": 1,
   "id": "d501c4f4-c8d7-4a91-97f4-ec89d16f8f2c",
   "metadata": {},
   "outputs": [],
   "source": [
    "import pdfplumber\n",
    "import os\n",
    "\n",
    "file = \"../data-raw/Cass_24.pdf\"\n",
    "\"\"\"\n",
    "Extractor for format \"C\" of election results\n",
    "Format C is the second most common format in OpenElections data for Indiana\n",
    "This format is characterized by grey rectangles in the header, a blue bar indicating the precinct, and green boxes marking questions.\n",
    "\"\"\""
   ]
  },
  {
   "cell_type": "code",
   "execution_count": 2,
   "id": "40c1b423-d08d-45ea-a818-dd03d3e3e568",
   "metadata": {},
   "outputs": [],
   "source": [
    "class Precinct():   # An object that stores data for a given precinct, rather than having a dict for each attribute as I originally attempted.\n",
    "    def __init__(self, name):\n",
    "        self.name = \"\"    # Stores the name. Presently serves little purpose, may be removed later\n",
    "        self.pages = []   # Stores the text for each page belonging to the precinct\n",
    "        self.lines = []   # Stores the lines of the questions only for the given precinct\n",
    "        self.questions = []   # Stores the lines of each question in a nested list. self.questions[0] would return a list of lines for the first question"
   ]
  },
  {
   "cell_type": "code",
   "execution_count": 3,
   "id": "844cd13d-965c-47af-9a7a-39b383ca4258",
   "metadata": {},
   "outputs": [
    {
     "name": "stdout",
     "output_type": "stream",
     "text": [
      "Adams\n",
      "Bethlehem\n",
      "Boone\n",
      "Clay City\n",
      "Clay\n",
      "Clinton\n",
      "Deer Creek East\n",
      "Deer Creek West\n",
      "Eel East\n",
      "Eel North\n",
      "Eel West\n",
      "Galveston\n",
      "Harrison\n",
      "Jackson\n",
      "Jefferson\n",
      "Logansport\n",
      "Miami - Logan\n",
      "Miami - Lewis Cass\n",
      "Noble City\n",
      "Noble North\n",
      "Noble - Logan\n",
      "Noble - Pioneer\n",
      "Tipton I\n",
      "Tipton II\n",
      "Washington - Logan\n",
      "Washington - Lewis Cass\n",
      "Washington South\n",
      "Washington City - Logan\n",
      "Washington City - Lewis Cass\n",
      "Federal Only\n",
      "President Only\n",
      "Precincts separated\n"
     ]
    }
   ],
   "source": [
    "##### Precinct Separation\n",
    "precincts = {}   # Precincts will be paired with a list of pages since no page has data for more than one precinct\n",
    "\n",
    "# Opening the file\n",
    "with pdfplumber.open(file) as pdf:\n",
    "    for page in pdf.pages:\n",
    "        lines = page.extract_text_lines()\n",
    "        # Identify the precinct the page belongs to\n",
    "        header_words = lines[10]['text'].split(\" \")   # Header lines look like \"Precinct Name # of # registered voters = x%\"\n",
    "        precinct_name = \"\"\n",
    "        consistent_text = lines[12]['text']\n",
    "        for word in header_words:   # Rejoins words until the first number is encountered. May need adjusted if another county has names like \"Precinct 01\"\n",
    "            if(word.replace(\",\",\"\").isnumeric() == False):   # Replace method accounts for commas in large numbers\n",
    "                precinct_name += \" \" + word\n",
    "            else:\n",
    "                precinct_name = precinct_name.strip()   # Remove the trailing spaces from the above process\n",
    "                break   # Ensures that rejoining stops at the first number instead of skipping numbers\n",
    "        # Assign the pages to their respective precinct objects\n",
    "        if(precinct_name not in precincts):   # Checks if the precinct has any pages. If not, adds a new entry to precincts.\n",
    "            precincts.update({precinct_name : Precinct(precinct_name)})\n",
    "            print(precinct_name)                                       # For testing purposes, lists all of the precincts as they are sorted\n",
    "        precincts[precinct_name].pages.append(lines)\n",
    "    print(\"Precincts separated\")"
   ]
  },
  {
   "cell_type": "code",
   "execution_count": 4,
   "id": "a496e570-9abe-438e-9828-8ad0ec25e99b",
   "metadata": {},
   "outputs": [],
   "source": [
    "##### Line Extraction\n",
    "def extract_lines(precinct):\n",
    "    for page in precinct.pages:\n",
    "        for i in range(11,len(page)):   # questions fall within this range, allowing for easier separation of questions\n",
    "            precinct.lines.append(page[i]['text'])   # Since the data can be separated using text alone, only the text is grabbed\n",
    "\n",
    "for precinct in precincts:\n",
    "    extract_lines(precincts[precinct])\n"
   ]
  },
  {
   "cell_type": "code",
   "execution_count": 12,
   "id": "b84e62c2-7418-4ed6-a6bd-ef42576856ea",
   "metadata": {},
   "outputs": [
    {
     "name": "stdout",
     "output_type": "stream",
     "text": [
      "Choice Party Absentee Voting Early Voting Election Day Voting Total\n"
     ]
    }
   ],
   "source": [
    "print(precincts['Adams'].lines[1])"
   ]
  },
  {
   "cell_type": "code",
   "execution_count": 30,
   "id": "8e30a8eb-5887-4055-afda-f094709e0208",
   "metadata": {},
   "outputs": [],
   "source": [
    "##### Question Separation\n",
    "\n",
    "def separate_questions(target):\n",
    "    precinct = precincts[target]   # Layer that makes the dictionary call less ugly in the code below\n",
    "    question_pos = []   # Stores the positions of the questions within precinct.lines\n",
    "    \n",
    "    # Question identification\n",
    "    consistent_text = precinct.lines[1]   # Second line of every question has the same column headings, providing a reference point for questions.\n",
    "    for i in range(len(precinct.lines)):\n",
    "        if(precinct.lines[i] == consistent_text):\n",
    "            question_pos.append(i-1)\n",
    "    question_pos.append(len(precinct.lines))   # Pads question_pos so that the final question can be grabbed below.\n",
    "\n",
    "    # Question isolation\n",
    "    for pos in range(len(question_pos)-1):\n",
    "        question = []\n",
    "        for line in range(question_pos[pos], question_pos[pos+1]):\n",
    "            question.append(precinct.lines[line])\n",
    "        precinct.questions.append(question)\n",
    "    print(precinct.questions[2])   # For testing, to see if questions properly separated / view the raw question data\n",
    "    "
   ]
  },
  {
   "cell_type": "code",
   "execution_count": 31,
   "id": "8f574489-47b3-43c1-aac6-e446c418727a",
   "metadata": {},
   "outputs": [
    {
     "name": "stdout",
     "output_type": "stream",
     "text": [
      "['PRESIDENT & VICE PRESIDENT OF THE UNITED STATES - Vote for one (1) only', 'Choice Party Absentee Voting Early Voting Election Day Voting Total', 'DONALD J. TRUMP / JD VANCE REP 11 73.33% 196 79.67% 113 86.92% 320 81.84%', 'KAMALA D. HARRIS / TIM WALZ DEM 4 26.67% 48 19.51% 16 12.31% 68 17.39%', 'CHASE OLIVER / MIKE TER MAAT LIB 0 0.00% 2 0.81% 1 0.77% 3 0.77%', 'ROBERT F. KENNEDY JR. / NICOLE WTP 0 0.00% 0 0.00% 0 0.00% 0 0.00%', 'SHANAHAN', 'ANDRE RAMON MCNEIL SR. (W) 0 0.00% 0 0.00% 0 0.00% 0 0.00%', 'CAROL ASHER (W) 0 0.00% 0 0.00% 0 0.00% 0 0.00%', 'CHERUNDA LYNN FOX (W) 0 0.00% 0 0.00% 0 0.00% 0 0.00%', 'CLAUDIA DE LA CRUZ (W) 0 0.00% 0 0.00% 0 0.00% 0 0.00%', 'CORNEL WEST / MELINA ABDULLAH (W) 0 0.00% 0 0.00% 0 0.00% 0 0.00%', 'DOUG JENKINS (W) 0 0.00% 0 0.00% 0 0.00% 0 0.00%', 'NALA BAOZUN SCOTT JOHNSON (W) 0 0.00% 0 0.00% 0 0.00% 0 0.00%', 'PAIJ BORING (W) 0 0.00% 0 0.00% 0 0.00% 0 0.00%', 'PETER SONSKI (W) 0 0.00% 0 0.00% 0 0.00% 0 0.00%', 'SHONDRA IRVING (W) 0 0.00% 0 0.00% 0 0.00% 0 0.00%', 'SUSAN MAUDE BUCHSER (W) 0 0.00% 0 0.00% 0 0.00% 0 0.00%', 'TOM HOEFLING / ANDY PRIOR (W) 0 0.00% 0 0.00% 0 0.00% 0 0.00%', 'WILLIAM CODY NALBACH (W) 0 0.00% 0 0.00% 0 0.00% 0 0.00%', 'Cast Votes: 15 100.00% 246 100.00% 130 100.00% 391 100.00%', 'Undervotes: 0 2 0 2', 'Overvotes: 0 0 0 0', 'Invalid Votes: 0 0 0 0']\n"
     ]
    }
   ],
   "source": [
    "separate_questions('Adams')"
   ]
  },
  {
   "cell_type": "code",
   "execution_count": null,
   "id": "df24ed19-6fcb-4b2c-a6ae-345f1beb632e",
   "metadata": {},
   "outputs": [],
   "source": []
  }
 ],
 "metadata": {
  "kernelspec": {
   "display_name": "Python 3 (ipykernel)",
   "language": "python",
   "name": "python3"
  },
  "language_info": {
   "codemirror_mode": {
    "name": "ipython",
    "version": 3
   },
   "file_extension": ".py",
   "mimetype": "text/x-python",
   "name": "python",
   "nbconvert_exporter": "python",
   "pygments_lexer": "ipython3",
   "version": "3.9.13"
  }
 },
 "nbformat": 4,
 "nbformat_minor": 5
}
