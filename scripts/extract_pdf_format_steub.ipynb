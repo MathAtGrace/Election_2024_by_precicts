{
 "cells": [
  {
   "cell_type": "code",
   "execution_count": 8,
   "id": "17c5d1c7-35bb-4d9b-bdaa-919382131fea",
   "metadata": {
    "tags": []
   },
   "outputs": [],
   "source": [
    "import pandas as pd\n",
    "import numpy as np\n",
    "import re\n",
    "import pymupdf\n",
    "import pdfplumber"
   ]
  },
  {
   "cell_type": "code",
   "execution_count": 9,
   "id": "422c08df-570c-4b53-951c-21c3ff09343c",
   "metadata": {},
   "outputs": [],
   "source": [
    "counties = [\"Steuben\"]"
   ]
  },
  {
   "cell_type": "code",
   "execution_count": 10,
   "id": "fa0c96f5-97e9-4bb8-8876-af288a2bc307",
   "metadata": {},
   "outputs": [
    {
     "data": {
      "text/plain": [
       "'Steuben'"
      ]
     },
     "execution_count": 10,
     "metadata": {},
     "output_type": "execute_result"
    }
   ],
   "source": [
    "i = 0\n",
    "county = counties[i]\n",
    "county"
   ]
  },
  {
   "cell_type": "code",
   "execution_count": 11,
   "id": "bc42121e-41a8-4546-a974-40f2a70b65cf",
   "metadata": {
    "tags": []
   },
   "outputs": [
    {
     "data": {
      "text/plain": [
       "'C:/Users/johnsor/Documents/openelections-data-in/2024/counties/20241105__in__general__steuben__precinct.csv'"
      ]
     },
     "execution_count": 11,
     "metadata": {},
     "output_type": "execute_result"
    }
   ],
   "source": [
    "input_file = \"../data-raw/in_2024_results/\" + county + \".pdf\"\n",
    "output_file = \"../data/in_2024_results/\" + county + \".csv\"\n",
    "output_2 = \"C:/Users/johnsor/Documents/openelections-data-in/2024/counties/20241105__in__general__\" + str.lower(county) + \"__precinct.csv\"\n",
    "output_2"
   ]
  },
  {
   "cell_type": "code",
   "execution_count": 12,
   "id": "081f8549-6f89-4134-adce-94b9d8c76bf7",
   "metadata": {
    "tags": []
   },
   "outputs": [],
   "source": [
    "doc = pymupdf.open(input_file) # open a document\n",
    "df = pd.DataFrame({'county' : [], 'precinct' : [], 'office' : [], 'district' : [], 'party' : [], 'candidate' : [], 'votes' : []})"
   ]
  },
  {
   "cell_type": "code",
   "execution_count": 15,
   "id": "abb100d7-a2b7-48d1-b400-5a916fb1be02",
   "metadata": {
    "tags": []
   },
   "outputs": [
    {
     "data": {
      "text/plain": [
       "page 1 of ../data-raw/in_2024_results/Steuben.pdf"
      ]
     },
     "execution_count": 15,
     "metadata": {},
     "output_type": "execute_result"
    }
   ],
   "source": [
    "page = doc[1]\n",
    "page"
   ]
  },
  {
   "cell_type": "code",
   "execution_count": 17,
   "id": "1235a830-054d-4ddd-abee-70acac910f93",
   "metadata": {
    "tags": []
   },
   "outputs": [
    {
     "data": {
      "text/plain": [
       "[]"
      ]
     },
     "execution_count": 17,
     "metadata": {},
     "output_type": "execute_result"
    }
   ],
   "source": [
    "blocks = page.get_text_blocks()\n",
    "df_page = pd.DataFrame(blocks, columns=('tl.x', 'tl.y', 'br.x', 'br.y', 'text', 'index', 'type')) #put the blocks into a dataframe\n",
    "df_page.sort_values(by=['tl.y'],inplace=True)\n",
    "blocks"
   ]
  },
  {
   "cell_type": "markdown",
   "id": "d1b580da-0c8f-47cb-bc14-1d415e71f334",
   "metadata": {},
   "source": [
    "# Note to Self:\n",
    "\n",
    "Leaving this for later in case we can get a better PDF that is not a scanned copy."
   ]
  },
  {
   "cell_type": "code",
   "execution_count": 31,
   "id": "ac26276e-96e4-42e0-8a0c-4353dbadb7d4",
   "metadata": {},
   "outputs": [],
   "source": [
    "textpage = page.get_textpage_ocr(tessdata = 'C:/Users/johnsor/Documents/Election_2024_by_precicts/tessdata')"
   ]
  },
  {
   "cell_type": "code",
   "execution_count": 32,
   "id": "451a5743-b6f3-4cfb-bb07-b3fdb6db7efc",
   "metadata": {},
   "outputs": [
    {
     "data": {
      "text/plain": [
       "[(173.52000427246094,\n",
       "  67.67999267578125,\n",
       "  762.1199951171875,\n",
       "  123.49114227294922,\n",
       "  \"I»\\n> m\\n- ZS\\n=\\n° =\\n‘3\\n3\\nEd\\nPEER\\nBRE\\n8 9\\nax BB\\nSl]\\n=\\nen\\nv2\\n3\\nQQ\\noe =\\nQO 6\\n30\\n~\\n-\\n-\\n+\\n8 8\\nQ\\nNoe\\n8\\n9 &\\n[1]\\nNw\\nww\\n~N®\\n'\\n-\\nom\\nFN\\n=\\n8\\ncw\\ne\\ncwdw\\novo 2\\nNJ\\n Z\\nEo 5\\nNe)\\n®\\n~\\nm.s\\n9\\ngg 8\\nENC\\ng 3\\n\",\n",
       "  0,\n",
       "  0),\n",
       " (172.8000030517578,\n",
       "  121.31998443603516,\n",
       "  761.760009765625,\n",
       "  248.4082489013672,\n",
       "  'i\\nrez\\nEE\\n2»\\nrR\\n5S» 3\\n=\\na 2\\nHe)\\n>» g\\n2 2\\nK]\\n«0\\n@ 9\\n®\\neS 3\\nCo?\\nx\\nToS\\n&\\nS 2\\n<\\n<\\n<\\n<\\nVB\\nm\\n83\"\\n=]\\n®\\nnO\\n50\\n50\\nNNO\\n[SE\\n.\\n[2]\\n3 g\\nSe\\n&\\ncow\\ncour\\no—~0©00oj\\n[NRE 1\\n< -\\n0\\n<\\nF-3\\n2\\n5\\nm\\nm\\nm\\nm\\nS%\\n4\\nQO\\n¢g\\n1\\n»\\n17]\\n»\\n»\\nH\\nm\\n4\\n2\\nn\\n[\\ni\\n1]\\n=\\nx mg\\n®\\nI\\'S\\n&\\non\\nI\\'S\\nI\\nma\\n2\\n8\\n©\\n=\\n-\\no\\n5\\nEE\\n=\\n[XN]\\nnN\\n= =a\\nH\\noO\\n&®\\nOQ\\non8\\ncn®8\\n~onNP\\n82\\ng.\\n4\\nZ2\\n0\\npm]\\n:\\nm\\nOo\\n¢\\no\\n:\\n2c\\n=z\\no\\n‘\\n®\\nA\\nA\\n-—\\n',\n",
       "  1,\n",
       "  0),\n",
       " (172.8000030517578,\n",
       "  249.11997985839844,\n",
       "  744.4007568359375,\n",
       "  293.0565490722656,\n",
       "  '.\\n3\\ng\\n|\\n:\\na\\naw\\naw\\n0\\nNY\\nad\\n~~\\n®\\na\\now\\n-\\ngry\\n\"3\\n~N\\nfd\\noxI8\\ncn&d\\nwn\\n88\\nEZ.\\n2383\\n8-3\\nwn\\n',\n",
       "  2,\n",
       "  0),\n",
       " (172.44000244140625,\n",
       "  282.6000061035156,\n",
       "  743.7509765625,\n",
       "  517.3275146484375,\n",
       "  'H\\n=\\np24\\nnN\\nnN ~\\nnN ~\\nHo\\n=\\nomMRN &\\no==3\\ncoowd\\nI~3-4\\noon\\nSON\\n2289%\\ni @\\nORO\\n[=\\n0 WmW =\\nQQ\\npe\\n[RR\\nESE\\nRI|ERR\\nRR\\nRB\\nQ\\n3\\n<\\n~~\\n<\\n~~\\n<\\nPr.\\n<\\n<\\n$83 99\\nESI §9 I3CCIRF9 FF\\n2 9\\na\\nFz\\nsm gsc g mM FP Eem\\nEm\\n=z\\npe\\n2033 3 1 £3¥%3 a q LF @ 0\\n& x\\nI\\n[)\\n°285 80\\n\"alw og\\n~2%33 EQ\\n9\\n=\\n53-3 3\\n£8g gD\\n§-Z2 pg\\n£®\\n™\\n©\\n“292\\nZE5E&8-\\n323s R-\\ng -\\n2\\no\\nFe\\n39\\n©\\n<=2r32\\n|g\\n3\\np=.\\npon§\\nE0% §\\n53\\n8\\nca\\n3\\n|g\\n>\\nby\\naozx\\n2\\n=<\\nH\\n@\\nP\\nQ\\n[7d\\neT §\\n8\\nPad\\n?\\n©\\nbg\\nga\\n5)\\nI)\\n72}\\nnl\\n2\\n5\\n3\\n<\\n4\\nFE\\n2\\n=\\n»\\n£4\\n~-\\n3\\n3\\n@,\\n>»\\n[]\\nEF\\n5\\n3\\nA\\n¢\\n3\\n2\\n2\\nm\\n3\\n©\\na\\nbp]\\nEd\\n=~\\n3\\n[=]\\n3\\n=\\n®\\n2\\n2\\n®\\nES\\n=]\\nIc\\n[Lu]\\n>\\n[=]\\nid\\n',\n",
       "  3,\n",
       "  0),\n",
       " (730.43994140625,\n",
       "  535.3200073242188,\n",
       "  737.2763671875,\n",
       "  553.6853637695312,\n",
       "  'm4\\n[77]\\n',\n",
       "  4,\n",
       "  0),\n",
       " (530.6399536132812,\n",
       "  66.96002197265625,\n",
       "  722.77197265625,\n",
       "  534.0772705078125,\n",
       "  'I\\n|\\n',\n",
       "  5,\n",
       "  0),\n",
       " (114.83999633789062,\n",
       "  64.80004119873047,\n",
       "  149.760009765625,\n",
       "  260.2872314453125,\n",
       "  'Sz\\nXa\\n=1\\nQa\\n=132\\n8\\n3\\nm 3\\n23\\n£3\\ngs 7\\nZ3\\nm>\\n~\\n82\\n=1\\no5\\noo\\n2\\n=a\\nnN\\n[=]\\nnN>\\n',\n",
       "  6,\n",
       "  0),\n",
       " (128.16000366210938,\n",
       "  501.1199645996094,\n",
       "  135.0,\n",
       "  541.0846557617188,\n",
       "  '—-\\nJr\\n=\\ngq\\nN\\n[=\\nIN\\noH\\n',\n",
       "  7,\n",
       "  0),\n",
       " (113.76000213623047,\n",
       "  549.719970703125,\n",
       "  147.9456024169922,\n",
       "  587.5267944335938,\n",
       "  'I 3\\n83\\nDd\\n9X\\n=2\\n©\\n=\\n',\n",
       "  8,\n",
       "  0),\n",
       " (741.5999755859375,\n",
       "  536.7599487304688,\n",
       "  763.44482421875,\n",
       "  551.5347290039062,\n",
       "  '<4\\n',\n",
       "  9,\n",
       "  0)]"
      ]
     },
     "execution_count": 32,
     "metadata": {},
     "output_type": "execute_result"
    }
   ],
   "source": [
    "textpage.extractBLOCKS()"
   ]
  },
  {
   "cell_type": "code",
   "execution_count": null,
   "id": "c8d91391-dd11-4658-95ec-928e7ce30f1f",
   "metadata": {},
   "outputs": [],
   "source": []
  }
 ],
 "metadata": {
  "kernelspec": {
   "display_name": "Python 3 (ipykernel)",
   "language": "python",
   "name": "python3"
  },
  "language_info": {
   "codemirror_mode": {
    "name": "ipython",
    "version": 3
   },
   "file_extension": ".py",
   "mimetype": "text/x-python",
   "name": "python",
   "nbconvert_exporter": "python",
   "pygments_lexer": "ipython3",
   "version": "3.11.5"
  }
 },
 "nbformat": 4,
 "nbformat_minor": 5
}
