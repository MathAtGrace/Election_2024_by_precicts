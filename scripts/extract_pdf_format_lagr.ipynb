{
 "cells": [
  {
   "cell_type": "code",
   "execution_count": 2,
   "id": "92101634-3f4d-45db-bf44-daaefc88c667",
   "metadata": {
    "tags": []
   },
   "outputs": [
    {
     "name": "stdout",
     "output_type": "stream",
     "text": [
      "WARNING:tensorflow:From C:\\Users\\johnsor\\AppData\\Local\\anaconda3\\Lib\\site-packages\\keras\\src\\losses.py:2976: The name tf.losses.sparse_softmax_cross_entropy is deprecated. Please use tf.compat.v1.losses.sparse_softmax_cross_entropy instead.\n",
      "\n",
      "WARNING:tensorflow:From C:\\Users\\johnsor\\AppData\\Local\\anaconda3\\Lib\\site-packages\\keras\\src\\backend.py:873: The name tf.get_default_graph is deprecated. Please use tf.compat.v1.get_default_graph instead.\n",
      "\n"
     ]
    }
   ],
   "source": [
    "#%pip install keras-ocr\n",
    "import cv2 as cv\n",
    "import keras_ocr"
   ]
  },
  {
   "cell_type": "code",
   "execution_count": 4,
   "id": "17c5d1c7-35bb-4d9b-bdaa-919382131fea",
   "metadata": {
    "tags": []
   },
   "outputs": [],
   "source": [
    "import pandas as pd\n",
    "import numpy as np\n",
    "import re\n",
    "import pymupdf\n",
    "from os import listdir"
   ]
  },
  {
   "cell_type": "code",
   "execution_count": 5,
   "id": "422c08df-570c-4b53-951c-21c3ff09343c",
   "metadata": {},
   "outputs": [],
   "source": [
    "counties = [\"LaGrange\"]"
   ]
  },
  {
   "cell_type": "code",
   "execution_count": 6,
   "id": "fa0c96f5-97e9-4bb8-8876-af288a2bc307",
   "metadata": {},
   "outputs": [
    {
     "data": {
      "text/plain": [
       "'LaGrange'"
      ]
     },
     "execution_count": 6,
     "metadata": {},
     "output_type": "execute_result"
    }
   ],
   "source": [
    "i = 0\n",
    "county = counties[i]\n",
    "county"
   ]
  },
  {
   "cell_type": "code",
   "execution_count": 7,
   "id": "bc42121e-41a8-4546-a974-40f2a70b65cf",
   "metadata": {
    "tags": []
   },
   "outputs": [
    {
     "data": {
      "text/plain": [
       "'C:/Users/johnsor/Documents/openelections-data-in/2024/counties/20241105__in__general__lagrange__precinct.csv'"
      ]
     },
     "execution_count": 7,
     "metadata": {},
     "output_type": "execute_result"
    }
   ],
   "source": [
    "folder = '../data-raw/in_2024_results/LaGrange/'\n",
    "inputs = listdir(folder)\n",
    "output_file = \"../data/in_2024_results/\" + county + \".csv\"\n",
    "output_2 = \"C:/Users/johnsor/Documents/openelections-data-in/2024/counties/20241105__in__general__\" + str.lower(county) + \"__precinct.csv\"\n",
    "output_2"
   ]
  },
  {
   "cell_type": "code",
   "execution_count": 8,
   "id": "9b46210c-c75d-4931-ae3c-faff35cce2ee",
   "metadata": {
    "tags": []
   },
   "outputs": [],
   "source": [
    "input_file = inputs[0]"
   ]
  },
  {
   "cell_type": "code",
   "execution_count": 10,
   "id": "f0ce0031-a356-400e-8ba0-18f9b0f00a47",
   "metadata": {
    "tags": []
   },
   "outputs": [],
   "source": [
    "pages = convert_from_path(folder + input_file, 600)"
   ]
  },
  {
   "cell_type": "code",
   "execution_count": 13,
   "id": "3edd6716-1867-499a-9f26-ac8e993ca960",
   "metadata": {
    "tags": []
   },
   "outputs": [
    {
     "ename": "TesseractNotFoundError",
     "evalue": "tesseract is not installed or it's not in your PATH. See README file for more information.",
     "output_type": "error",
     "traceback": [
      "\u001b[1;31m---------------------------------------------------------------------------\u001b[0m",
      "\u001b[1;31mFileNotFoundError\u001b[0m                         Traceback (most recent call last)",
      "File \u001b[1;32m~\\AppData\\Local\\anaconda3\\Lib\\site-packages\\pytesseract\\pytesseract.py:275\u001b[0m, in \u001b[0;36mrun_tesseract\u001b[1;34m(input_filename, output_filename_base, extension, lang, config, nice, timeout)\u001b[0m\n\u001b[0;32m    274\u001b[0m \u001b[38;5;28;01mtry\u001b[39;00m:\n\u001b[1;32m--> 275\u001b[0m     proc \u001b[38;5;241m=\u001b[39m subprocess\u001b[38;5;241m.\u001b[39mPopen(cmd_args, \u001b[38;5;241m*\u001b[39m\u001b[38;5;241m*\u001b[39msubprocess_args())\n\u001b[0;32m    276\u001b[0m \u001b[38;5;28;01mexcept\u001b[39;00m \u001b[38;5;167;01mOSError\u001b[39;00m \u001b[38;5;28;01mas\u001b[39;00m e:\n",
      "File \u001b[1;32m~\\AppData\\Local\\anaconda3\\Lib\\subprocess.py:1026\u001b[0m, in \u001b[0;36mPopen.__init__\u001b[1;34m(self, args, bufsize, executable, stdin, stdout, stderr, preexec_fn, close_fds, shell, cwd, env, universal_newlines, startupinfo, creationflags, restore_signals, start_new_session, pass_fds, user, group, extra_groups, encoding, errors, text, umask, pipesize, process_group)\u001b[0m\n\u001b[0;32m   1023\u001b[0m             \u001b[38;5;28mself\u001b[39m\u001b[38;5;241m.\u001b[39mstderr \u001b[38;5;241m=\u001b[39m io\u001b[38;5;241m.\u001b[39mTextIOWrapper(\u001b[38;5;28mself\u001b[39m\u001b[38;5;241m.\u001b[39mstderr,\n\u001b[0;32m   1024\u001b[0m                     encoding\u001b[38;5;241m=\u001b[39mencoding, errors\u001b[38;5;241m=\u001b[39merrors)\n\u001b[1;32m-> 1026\u001b[0m     \u001b[38;5;28mself\u001b[39m\u001b[38;5;241m.\u001b[39m_execute_child(args, executable, preexec_fn, close_fds,\n\u001b[0;32m   1027\u001b[0m                         pass_fds, cwd, env,\n\u001b[0;32m   1028\u001b[0m                         startupinfo, creationflags, shell,\n\u001b[0;32m   1029\u001b[0m                         p2cread, p2cwrite,\n\u001b[0;32m   1030\u001b[0m                         c2pread, c2pwrite,\n\u001b[0;32m   1031\u001b[0m                         errread, errwrite,\n\u001b[0;32m   1032\u001b[0m                         restore_signals,\n\u001b[0;32m   1033\u001b[0m                         gid, gids, uid, umask,\n\u001b[0;32m   1034\u001b[0m                         start_new_session, process_group)\n\u001b[0;32m   1035\u001b[0m \u001b[38;5;28;01mexcept\u001b[39;00m:\n\u001b[0;32m   1036\u001b[0m     \u001b[38;5;66;03m# Cleanup if the child failed starting.\u001b[39;00m\n",
      "File \u001b[1;32m~\\AppData\\Local\\anaconda3\\Lib\\subprocess.py:1538\u001b[0m, in \u001b[0;36mPopen._execute_child\u001b[1;34m(self, args, executable, preexec_fn, close_fds, pass_fds, cwd, env, startupinfo, creationflags, shell, p2cread, p2cwrite, c2pread, c2pwrite, errread, errwrite, unused_restore_signals, unused_gid, unused_gids, unused_uid, unused_umask, unused_start_new_session, unused_process_group)\u001b[0m\n\u001b[0;32m   1537\u001b[0m \u001b[38;5;28;01mtry\u001b[39;00m:\n\u001b[1;32m-> 1538\u001b[0m     hp, ht, pid, tid \u001b[38;5;241m=\u001b[39m _winapi\u001b[38;5;241m.\u001b[39mCreateProcess(executable, args,\n\u001b[0;32m   1539\u001b[0m                              \u001b[38;5;66;03m# no special security\u001b[39;00m\n\u001b[0;32m   1540\u001b[0m                              \u001b[38;5;28;01mNone\u001b[39;00m, \u001b[38;5;28;01mNone\u001b[39;00m,\n\u001b[0;32m   1541\u001b[0m                              \u001b[38;5;28mint\u001b[39m(\u001b[38;5;129;01mnot\u001b[39;00m close_fds),\n\u001b[0;32m   1542\u001b[0m                              creationflags,\n\u001b[0;32m   1543\u001b[0m                              env,\n\u001b[0;32m   1544\u001b[0m                              cwd,\n\u001b[0;32m   1545\u001b[0m                              startupinfo)\n\u001b[0;32m   1546\u001b[0m \u001b[38;5;28;01mfinally\u001b[39;00m:\n\u001b[0;32m   1547\u001b[0m     \u001b[38;5;66;03m# Child is launched. Close the parent's copy of those pipe\u001b[39;00m\n\u001b[0;32m   1548\u001b[0m     \u001b[38;5;66;03m# handles that only the child should have open.  You need\u001b[39;00m\n\u001b[1;32m   (...)\u001b[0m\n\u001b[0;32m   1551\u001b[0m     \u001b[38;5;66;03m# pipe will not close when the child process exits and the\u001b[39;00m\n\u001b[0;32m   1552\u001b[0m     \u001b[38;5;66;03m# ReadFile will hang.\u001b[39;00m\n",
      "\u001b[1;31mFileNotFoundError\u001b[0m: [WinError 2] The system cannot find the file specified",
      "\nDuring handling of the above exception, another exception occurred:\n",
      "\u001b[1;31mTesseractNotFoundError\u001b[0m                    Traceback (most recent call last)",
      "Cell \u001b[1;32mIn[13], line 3\u001b[0m\n\u001b[0;32m      1\u001b[0m text_data \u001b[38;5;241m=\u001b[39m \u001b[38;5;124m'\u001b[39m\u001b[38;5;124m'\u001b[39m\n\u001b[0;32m      2\u001b[0m \u001b[38;5;28;01mfor\u001b[39;00m page \u001b[38;5;129;01min\u001b[39;00m pages:\n\u001b[1;32m----> 3\u001b[0m     text \u001b[38;5;241m=\u001b[39m pytesseract\u001b[38;5;241m.\u001b[39mimage_to_string(page)\n\u001b[0;32m      4\u001b[0m     text_data \u001b[38;5;241m+\u001b[39m\u001b[38;5;241m=\u001b[39m text \u001b[38;5;241m+\u001b[39m \u001b[38;5;124m'\u001b[39m\u001b[38;5;130;01m\\n\u001b[39;00m\u001b[38;5;124m'\u001b[39m\n\u001b[0;32m      5\u001b[0m \u001b[38;5;28mprint\u001b[39m(text_data)\n",
      "File \u001b[1;32m~\\AppData\\Local\\anaconda3\\Lib\\site-packages\\pytesseract\\pytesseract.py:486\u001b[0m, in \u001b[0;36mimage_to_string\u001b[1;34m(image, lang, config, nice, output_type, timeout)\u001b[0m\n\u001b[0;32m    481\u001b[0m \u001b[38;5;250m\u001b[39m\u001b[38;5;124;03m\"\"\"\u001b[39;00m\n\u001b[0;32m    482\u001b[0m \u001b[38;5;124;03mReturns the result of a Tesseract OCR run on the provided image to string\u001b[39;00m\n\u001b[0;32m    483\u001b[0m \u001b[38;5;124;03m\"\"\"\u001b[39;00m\n\u001b[0;32m    484\u001b[0m args \u001b[38;5;241m=\u001b[39m [image, \u001b[38;5;124m'\u001b[39m\u001b[38;5;124mtxt\u001b[39m\u001b[38;5;124m'\u001b[39m, lang, config, nice, timeout]\n\u001b[1;32m--> 486\u001b[0m \u001b[38;5;28;01mreturn\u001b[39;00m {\n\u001b[0;32m    487\u001b[0m     Output\u001b[38;5;241m.\u001b[39mBYTES: \u001b[38;5;28;01mlambda\u001b[39;00m: run_and_get_output(\u001b[38;5;241m*\u001b[39m(args \u001b[38;5;241m+\u001b[39m [\u001b[38;5;28;01mTrue\u001b[39;00m])),\n\u001b[0;32m    488\u001b[0m     Output\u001b[38;5;241m.\u001b[39mDICT: \u001b[38;5;28;01mlambda\u001b[39;00m: {\u001b[38;5;124m'\u001b[39m\u001b[38;5;124mtext\u001b[39m\u001b[38;5;124m'\u001b[39m: run_and_get_output(\u001b[38;5;241m*\u001b[39margs)},\n\u001b[0;32m    489\u001b[0m     Output\u001b[38;5;241m.\u001b[39mSTRING: \u001b[38;5;28;01mlambda\u001b[39;00m: run_and_get_output(\u001b[38;5;241m*\u001b[39margs),\n\u001b[0;32m    490\u001b[0m }[output_type]()\n",
      "File \u001b[1;32m~\\AppData\\Local\\anaconda3\\Lib\\site-packages\\pytesseract\\pytesseract.py:489\u001b[0m, in \u001b[0;36mimage_to_string.<locals>.<lambda>\u001b[1;34m()\u001b[0m\n\u001b[0;32m    481\u001b[0m \u001b[38;5;250m\u001b[39m\u001b[38;5;124;03m\"\"\"\u001b[39;00m\n\u001b[0;32m    482\u001b[0m \u001b[38;5;124;03mReturns the result of a Tesseract OCR run on the provided image to string\u001b[39;00m\n\u001b[0;32m    483\u001b[0m \u001b[38;5;124;03m\"\"\"\u001b[39;00m\n\u001b[0;32m    484\u001b[0m args \u001b[38;5;241m=\u001b[39m [image, \u001b[38;5;124m'\u001b[39m\u001b[38;5;124mtxt\u001b[39m\u001b[38;5;124m'\u001b[39m, lang, config, nice, timeout]\n\u001b[0;32m    486\u001b[0m \u001b[38;5;28;01mreturn\u001b[39;00m {\n\u001b[0;32m    487\u001b[0m     Output\u001b[38;5;241m.\u001b[39mBYTES: \u001b[38;5;28;01mlambda\u001b[39;00m: run_and_get_output(\u001b[38;5;241m*\u001b[39m(args \u001b[38;5;241m+\u001b[39m [\u001b[38;5;28;01mTrue\u001b[39;00m])),\n\u001b[0;32m    488\u001b[0m     Output\u001b[38;5;241m.\u001b[39mDICT: \u001b[38;5;28;01mlambda\u001b[39;00m: {\u001b[38;5;124m'\u001b[39m\u001b[38;5;124mtext\u001b[39m\u001b[38;5;124m'\u001b[39m: run_and_get_output(\u001b[38;5;241m*\u001b[39margs)},\n\u001b[1;32m--> 489\u001b[0m     Output\u001b[38;5;241m.\u001b[39mSTRING: \u001b[38;5;28;01mlambda\u001b[39;00m: run_and_get_output(\u001b[38;5;241m*\u001b[39margs),\n\u001b[0;32m    490\u001b[0m }[output_type]()\n",
      "File \u001b[1;32m~\\AppData\\Local\\anaconda3\\Lib\\site-packages\\pytesseract\\pytesseract.py:352\u001b[0m, in \u001b[0;36mrun_and_get_output\u001b[1;34m(image, extension, lang, config, nice, timeout, return_bytes)\u001b[0m\n\u001b[0;32m    341\u001b[0m \u001b[38;5;28;01mwith\u001b[39;00m save(image) \u001b[38;5;28;01mas\u001b[39;00m (temp_name, input_filename):\n\u001b[0;32m    342\u001b[0m     kwargs \u001b[38;5;241m=\u001b[39m {\n\u001b[0;32m    343\u001b[0m         \u001b[38;5;124m'\u001b[39m\u001b[38;5;124minput_filename\u001b[39m\u001b[38;5;124m'\u001b[39m: input_filename,\n\u001b[0;32m    344\u001b[0m         \u001b[38;5;124m'\u001b[39m\u001b[38;5;124moutput_filename_base\u001b[39m\u001b[38;5;124m'\u001b[39m: temp_name,\n\u001b[1;32m   (...)\u001b[0m\n\u001b[0;32m    349\u001b[0m         \u001b[38;5;124m'\u001b[39m\u001b[38;5;124mtimeout\u001b[39m\u001b[38;5;124m'\u001b[39m: timeout,\n\u001b[0;32m    350\u001b[0m     }\n\u001b[1;32m--> 352\u001b[0m     run_tesseract(\u001b[38;5;241m*\u001b[39m\u001b[38;5;241m*\u001b[39mkwargs)\n\u001b[0;32m    353\u001b[0m     \u001b[38;5;28;01mreturn\u001b[39;00m _read_output(\n\u001b[0;32m    354\u001b[0m         \u001b[38;5;124mf\u001b[39m\u001b[38;5;124m\"\u001b[39m\u001b[38;5;132;01m{\u001b[39;00mkwargs[\u001b[38;5;124m'\u001b[39m\u001b[38;5;124moutput_filename_base\u001b[39m\u001b[38;5;124m'\u001b[39m]\u001b[38;5;132;01m}\u001b[39;00m\u001b[38;5;132;01m{\u001b[39;00mextsep\u001b[38;5;132;01m}\u001b[39;00m\u001b[38;5;132;01m{\u001b[39;00mextension\u001b[38;5;132;01m}\u001b[39;00m\u001b[38;5;124m\"\u001b[39m,\n\u001b[0;32m    355\u001b[0m         return_bytes,\n\u001b[0;32m    356\u001b[0m     )\n",
      "File \u001b[1;32m~\\AppData\\Local\\anaconda3\\Lib\\site-packages\\pytesseract\\pytesseract.py:280\u001b[0m, in \u001b[0;36mrun_tesseract\u001b[1;34m(input_filename, output_filename_base, extension, lang, config, nice, timeout)\u001b[0m\n\u001b[0;32m    278\u001b[0m         \u001b[38;5;28;01mraise\u001b[39;00m\n\u001b[0;32m    279\u001b[0m     \u001b[38;5;28;01melse\u001b[39;00m:\n\u001b[1;32m--> 280\u001b[0m         \u001b[38;5;28;01mraise\u001b[39;00m TesseractNotFoundError()\n\u001b[0;32m    282\u001b[0m \u001b[38;5;28;01mwith\u001b[39;00m timeout_manager(proc, timeout) \u001b[38;5;28;01mas\u001b[39;00m error_string:\n\u001b[0;32m    283\u001b[0m     \u001b[38;5;28;01mif\u001b[39;00m proc\u001b[38;5;241m.\u001b[39mreturncode:\n",
      "\u001b[1;31mTesseractNotFoundError\u001b[0m: tesseract is not installed or it's not in your PATH. See README file for more information."
     ]
    }
   ],
   "source": [
    "text_data = ''\n",
    "for page in pages:\n",
    "    text = pytesseract.image_to_string(page)\n",
    "    text_data += text + '\\n'\n",
    "print(text_data)"
   ]
  },
  {
   "cell_type": "code",
   "execution_count": 14,
   "id": "b965db60-4a27-4787-8272-b4156a87d331",
   "metadata": {
    "tags": []
   },
   "outputs": [
    {
     "data": {
      "text/plain": [
       "<module 'pytesseract' from 'C:\\\\Users\\\\johnsor\\\\AppData\\\\Local\\\\anaconda3\\\\Lib\\\\site-packages\\\\pytesseract\\\\__init__.py'>"
      ]
     },
     "execution_count": 14,
     "metadata": {},
     "output_type": "execute_result"
    }
   ],
   "source": [
    "pytesseract"
   ]
  },
  {
   "cell_type": "code",
   "execution_count": null,
   "id": "6543e8f8-2a5d-4fc4-9a80-f4b79514fa86",
   "metadata": {},
   "outputs": [],
   "source": []
  },
  {
   "cell_type": "code",
   "execution_count": null,
   "id": "d7141f9b-9828-479c-9d8f-625c19bdf7fc",
   "metadata": {},
   "outputs": [],
   "source": []
  },
  {
   "cell_type": "code",
   "execution_count": null,
   "id": "56bafbe1-31b9-466b-9419-5d1559031ab6",
   "metadata": {},
   "outputs": [],
   "source": []
  },
  {
   "cell_type": "code",
   "execution_count": 17,
   "id": "44201a5c-8276-490d-9638-410ab2f9b4bc",
   "metadata": {
    "tags": []
   },
   "outputs": [],
   "source": [
    "doc = pymupdf.open(folder + input_file) # open a document\n",
    "df = pd.DataFrame({'county' : [], 'precinct' : [], 'office' : [], 'district' : [], 'party' : [], 'candidate' : [], 'votes' : []})\n",
    "page = doc[0]"
   ]
  },
  {
   "cell_type": "code",
   "execution_count": 18,
   "id": "ec858daf-dd1e-4751-bf5e-1cbf095e0899",
   "metadata": {
    "tags": []
   },
   "outputs": [
    {
     "data": {
      "text/html": [
       "<div>\n",
       "<style scoped>\n",
       "    .dataframe tbody tr th:only-of-type {\n",
       "        vertical-align: middle;\n",
       "    }\n",
       "\n",
       "    .dataframe tbody tr th {\n",
       "        vertical-align: top;\n",
       "    }\n",
       "\n",
       "    .dataframe thead th {\n",
       "        text-align: right;\n",
       "    }\n",
       "</style>\n",
       "<table border=\"1\" class=\"dataframe\">\n",
       "  <thead>\n",
       "    <tr style=\"text-align: right;\">\n",
       "      <th></th>\n",
       "      <th>tl.x</th>\n",
       "      <th>tl.y</th>\n",
       "      <th>br.x</th>\n",
       "      <th>br.y</th>\n",
       "      <th>text</th>\n",
       "      <th>index</th>\n",
       "      <th>type</th>\n",
       "    </tr>\n",
       "  </thead>\n",
       "  <tbody>\n",
       "  </tbody>\n",
       "</table>\n",
       "</div>"
      ],
      "text/plain": [
       "Empty DataFrame\n",
       "Columns: [tl.x, tl.y, br.x, br.y, text, index, type]\n",
       "Index: []"
      ]
     },
     "execution_count": 18,
     "metadata": {},
     "output_type": "execute_result"
    }
   ],
   "source": [
    "blocks = page.get_text_blocks()\n",
    "df_page = pd.DataFrame(blocks, columns=('tl.x', 'tl.y', 'br.x', 'br.y', 'text', 'index', 'type')) #put the blocks into a dataframe\n",
    "df_page.sort_values(by=['tl.y'],inplace=True)\n",
    "df_page"
   ]
  },
  {
   "cell_type": "code",
   "execution_count": 21,
   "id": "dd7ad3a5-e03a-407f-9c90-2f4f915b4cb4",
   "metadata": {},
   "outputs": [
    {
     "data": {
      "text/plain": [
       "[]"
      ]
     },
     "execution_count": 21,
     "metadata": {},
     "output_type": "execute_result"
    }
   ],
   "source": [
    "doc[0].get_text_blocks()"
   ]
  },
  {
   "cell_type": "code",
   "execution_count": null,
   "id": "12133b43-cf7a-4e44-814a-213ed45f1045",
   "metadata": {},
   "outputs": [],
   "source": []
  },
  {
   "cell_type": "code",
   "execution_count": null,
   "id": "8632a210-8969-4e5e-b15c-da9acaa280a1",
   "metadata": {},
   "outputs": [],
   "source": []
  },
  {
   "cell_type": "code",
   "execution_count": null,
   "id": "5e90a80c-c3d1-4cf0-8f1a-576353a8e17a",
   "metadata": {},
   "outputs": [],
   "source": []
  },
  {
   "cell_type": "code",
   "execution_count": null,
   "id": "897eee78-9861-4104-8ba4-2e2e0d7c74dd",
   "metadata": {},
   "outputs": [],
   "source": []
  },
  {
   "cell_type": "code",
   "execution_count": null,
   "id": "0ef1bd96-cf70-42ef-8c13-899ad9c56e17",
   "metadata": {},
   "outputs": [],
   "source": []
  },
  {
   "cell_type": "code",
   "execution_count": null,
   "id": "c107bd61-cad9-48a8-a381-f3707c749fa9",
   "metadata": {},
   "outputs": [],
   "source": []
  },
  {
   "cell_type": "code",
   "execution_count": 46,
   "id": "f8553d35-023d-48c4-8d86-4e85765cb579",
   "metadata": {
    "tags": []
   },
   "outputs": [],
   "source": [
    "def split_cols(page):\n",
    "    blocks = page.get_text_blocks() #Get the blocks of text\n",
    "    df_page = pd.DataFrame(blocks, columns=('tl.x', 'tl.y', 'br.x', 'br.y', 'text', 'index', 'type')) #put the blocks into a dataframe\n",
    "    df_page = df_page[~df_page.text.str.contains(r'Vote For \\d')] #Drop the Vote for _ lines\n",
    "    df_page['text'] = df_page['text'].str.strip() #Strip leading/trailing whitespace from the text\n",
    "    header = df_page[df_page[\"br.y\"] < 125].sort_values(by=['br.y']) #header at the top\n",
    "    left_col = df_page[(df_page['br.x'] < 320) & (df_page['br.y'] > 125)].sort_values(by=['br.y']) #left column below the header\n",
    "    right_col = df_page[(df_page['tl.x'] > 290) & (df_page['br.y'] > 125)].sort_values(by = ['br.y']) #right column below the header\n",
    "    columns =pd.DataFrame({'text' : pd.concat((left_col.text, right_col.text))}) #Concatenate the sorted columns\n",
    "                      \n",
    "    #When No candidate filed, they do not inlclude the zero votes that are needed for what we do next\n",
    "    columns['text'] = columns.text.str.replace(r'NO CANDIDATE FILED\\s+\\(([A-Z]+)\\)', r'NO CANDIDATE FILED (\\1)\\n0\\n0%', regex=True)\n",
    "    \n",
    "    #We need the precinct name, the registered voters, and the total voters from the header\n",
    "    new = header.text.str.contains(r'Page 1/\\d').any()\n",
    "    precinct = header.text.str.extract(r'Central Count\\n(\\w+\\s*\\w*\\s*\\w*)\\s*\\d{5,6}').dropna().iloc[0][0]\n",
    "    reg_voters = int(header.text.str.extract(r'Registered Voters\\s+([0-9,.]+)\\s+-').dropna().iloc[0][0].replace(',', ''))\n",
    "    votes = int(header.text.str.extract(r'Total Ballots\\s+([0-9,.]+)\\s+:').dropna().iloc[0][0].replace(',', ''))\n",
    "    \n",
    "    return new, precinct, reg_voters, votes, columns"
   ]
  },
  {
   "cell_type": "code",
   "execution_count": 47,
   "id": "e3b5a0f7-5cc2-4252-a727-14087f83ae1a",
   "metadata": {
    "tags": []
   },
   "outputs": [],
   "source": [
    "straight = {'DEMOCRATIC' : 'DEM', 'REPUBLICAN' : 'REP', 'LIBERTARIAN' : 'LIB', 'WE THE PEOPLE' : 'WTP', 'INDIANA REDEMPTION PARTY' : 'RED'}"
   ]
  },
  {
   "cell_type": "code",
   "execution_count": 48,
   "id": "fe00e64b-d631-4677-85cb-623247e58a78",
   "metadata": {
    "tags": []
   },
   "outputs": [],
   "source": [
    "def cols_to_data(columns):\n",
    "    tv = columns.text.str.contains('\\nTotal Votes') #gives the indices of the Total Votes Lines\n",
    "    office = tv.shift(-1, fill_value=False) #gives the indices of the office, which is always above Total Votes\n",
    "    columns['office'] = np.where(office, columns.text, None) #The lines above Total Votes give the office\n",
    "    columns.fillna(method='ffill', inplace=True) #Forward fill office values\n",
    "    columns = columns[(~tv) & (~office)] #No longer need the Total Votes lines\n",
    "    \n",
    "    #Sometimes the candidates and votes are in the same line, sometimes the votes come on the line before.  To\n",
    "    # fix this, invert the order, then concatenate by office, then sepaarate by '%'\n",
    "    columns = columns.iloc[::-1]\n",
    "    columns = columns.groupby(['office'])['text'].apply(lambda x: ''.join(x)).reset_index()\n",
    "    columns = columns.assign(text=columns['text'].str.split(r'\\n[0-9,.]+%\\n*')).explode('text')\n",
    "    columns = columns[columns['text'] != '']\n",
    "    columns['text'] = columns['text'].replace({'\\s+' : ' '}, regex=True)\n",
    "    \n",
    "    #Extract the party and the number of votes\n",
    "    columns['party'] = columns.text.str.extract(r'\\(\\s*([A-Z]+)\\)\\s*\\d+$')\n",
    "    columns['votes'] = columns.text.str.extract(r'(\\d+)$')\n",
    "    \n",
    "    #To extract the candidates, get rid of either the party and votes or just the votes\n",
    "    columns['candidate'] = columns.text.str.replace(r'\\s*\\(\\s*([A-Z]+)\\)\\s*\\d+$', '', regex=True)\n",
    "    columns['candidate'] = columns.candidate.str.replace(r'\\s*\\d+$', '', regex=True).str.title()\n",
    "    \n",
    "    #At this point we've extracted what we needed\n",
    "    columns = columns.drop('text', axis=1)\n",
    "    \n",
    "    #Split the district number off from the office, but only for state senators and federal or state representatives\n",
    "    columns['district'] = columns['office'].str.extract(r'[SENATOR|REPRESENTATIVE] DISTRICT (\\d+)')\n",
    "    columns['office'] = columns['office'].str.replace(r'(SENATOR|REPRESENTATIVE) DISTRICT (\\d+)', r'\\1', regex=True).str.title()\n",
    "    \n",
    "    return columns"
   ]
  },
  {
   "cell_type": "code",
   "execution_count": 49,
   "id": "1603fabc-2125-4f34-8d7c-84275722f777",
   "metadata": {
    "tags": []
   },
   "outputs": [],
   "source": [
    "doc = pymupdf.open(input_file) # open a document\n",
    "df = pd.DataFrame({'county' : [], 'precinct' : [], 'office' : [], 'district' : [], 'party' : [], 'candidate' : [], 'votes' : []})\n",
    "for page in doc:\n",
    "    new, precinct, reg_voters, votes, columns = split_cols(page)\n",
    "    header = pd.DataFrame({'county' : [county]*2, 'precinct' : [precinct]*2, 'office' : ['Ballots Cast','Registered Voters'],\n",
    "                           'district' : ['',''], 'party' : ['',''], 'candidate' : ['',''], 'votes' : [votes, reg_voters]})\n",
    "    cols_data = cols_to_data(columns).assign(county = county, precinct=precinct)\n",
    "    if new:\n",
    "        df = pd.concat([df, header, cols_data])\n",
    "    else:\n",
    "        df = pd.concat([df, cols_data])\n",
    "#Fix the straight ticket parties\n",
    "df.loc[df['office'] == 'StraightTicketSelection', 'party'] = df.loc[df['office'] == 'StraightTicketSelection', 'candidate'].map(straight)\n",
    "df['office'] = df['office'].str.replace('StraightTicketSelection', 'Straight Party')"
   ]
  },
  {
   "cell_type": "code",
   "execution_count": 50,
   "id": "dfde73ae-8662-4634-b8e6-85265c772ced",
   "metadata": {
    "tags": []
   },
   "outputs": [
    {
     "data": {
      "text/html": [
       "<div>\n",
       "<style scoped>\n",
       "    .dataframe tbody tr th:only-of-type {\n",
       "        vertical-align: middle;\n",
       "    }\n",
       "\n",
       "    .dataframe tbody tr th {\n",
       "        vertical-align: top;\n",
       "    }\n",
       "\n",
       "    .dataframe thead th {\n",
       "        text-align: right;\n",
       "    }\n",
       "</style>\n",
       "<table border=\"1\" class=\"dataframe\">\n",
       "  <thead>\n",
       "    <tr style=\"text-align: right;\">\n",
       "      <th></th>\n",
       "      <th>county</th>\n",
       "      <th>precinct</th>\n",
       "      <th>office</th>\n",
       "      <th>district</th>\n",
       "      <th>party</th>\n",
       "      <th>candidate</th>\n",
       "      <th>votes</th>\n",
       "    </tr>\n",
       "  </thead>\n",
       "  <tbody>\n",
       "    <tr>\n",
       "      <th>0</th>\n",
       "      <td>St. Joseph</td>\n",
       "      <td>CENTRE TWP 1</td>\n",
       "      <td>Ballots Cast</td>\n",
       "      <td></td>\n",
       "      <td></td>\n",
       "      <td></td>\n",
       "      <td>757</td>\n",
       "    </tr>\n",
       "    <tr>\n",
       "      <th>1</th>\n",
       "      <td>St. Joseph</td>\n",
       "      <td>CENTRE TWP 1</td>\n",
       "      <td>Registered Voters</td>\n",
       "      <td></td>\n",
       "      <td></td>\n",
       "      <td></td>\n",
       "      <td>1122</td>\n",
       "    </tr>\n",
       "    <tr>\n",
       "      <th>0</th>\n",
       "      <td>St. Joseph</td>\n",
       "      <td>CENTRE TWP 1</td>\n",
       "      <td>President Of The United States</td>\n",
       "      <td>NaN</td>\n",
       "      <td>WI</td>\n",
       "      <td>Claudia De La Cruz Karina Garcia</td>\n",
       "      <td>1</td>\n",
       "    </tr>\n",
       "    <tr>\n",
       "      <th>0</th>\n",
       "      <td>St. Joseph</td>\n",
       "      <td>CENTRE TWP 1</td>\n",
       "      <td>President Of The United States</td>\n",
       "      <td>NaN</td>\n",
       "      <td>WI</td>\n",
       "      <td>Susan Maude Buchser</td>\n",
       "      <td>0</td>\n",
       "    </tr>\n",
       "    <tr>\n",
       "      <th>0</th>\n",
       "      <td>St. Joseph</td>\n",
       "      <td>CENTRE TWP 1</td>\n",
       "      <td>President Of The United States</td>\n",
       "      <td>NaN</td>\n",
       "      <td>WI</td>\n",
       "      <td>Nala Baozun Scott Johnson Jr</td>\n",
       "      <td>0</td>\n",
       "    </tr>\n",
       "    <tr>\n",
       "      <th>...</th>\n",
       "      <td>...</td>\n",
       "      <td>...</td>\n",
       "      <td>...</td>\n",
       "      <td>...</td>\n",
       "      <td>...</td>\n",
       "      <td>...</td>\n",
       "      <td>...</td>\n",
       "    </tr>\n",
       "    <tr>\n",
       "      <th>9</th>\n",
       "      <td>St. Joseph</td>\n",
       "      <td>WARREN TWP 6</td>\n",
       "      <td>Steele - Judicial Retention</td>\n",
       "      <td>NaN</td>\n",
       "      <td>NaN</td>\n",
       "      <td>No</td>\n",
       "      <td>69</td>\n",
       "    </tr>\n",
       "    <tr>\n",
       "      <th>0</th>\n",
       "      <td>St. Joseph</td>\n",
       "      <td>WARREN TWP 6</td>\n",
       "      <td>Telloyan - Judicial Retention</td>\n",
       "      <td>NaN</td>\n",
       "      <td>NaN</td>\n",
       "      <td>Yes</td>\n",
       "      <td>227</td>\n",
       "    </tr>\n",
       "    <tr>\n",
       "      <th>0</th>\n",
       "      <td>St. Joseph</td>\n",
       "      <td>WARREN TWP 6</td>\n",
       "      <td>Telloyan - Judicial Retention</td>\n",
       "      <td>NaN</td>\n",
       "      <td>NaN</td>\n",
       "      <td>No</td>\n",
       "      <td>82</td>\n",
       "    </tr>\n",
       "    <tr>\n",
       "      <th>1</th>\n",
       "      <td>St. Joseph</td>\n",
       "      <td>WARREN TWP 6</td>\n",
       "      <td>Woods - Judicial Retention</td>\n",
       "      <td>NaN</td>\n",
       "      <td>NaN</td>\n",
       "      <td>Yes</td>\n",
       "      <td>249</td>\n",
       "    </tr>\n",
       "    <tr>\n",
       "      <th>1</th>\n",
       "      <td>St. Joseph</td>\n",
       "      <td>WARREN TWP 6</td>\n",
       "      <td>Woods - Judicial Retention</td>\n",
       "      <td>NaN</td>\n",
       "      <td>NaN</td>\n",
       "      <td>No</td>\n",
       "      <td>76</td>\n",
       "    </tr>\n",
       "  </tbody>\n",
       "</table>\n",
       "<p>17470 rows × 7 columns</p>\n",
       "</div>"
      ],
      "text/plain": [
       "        county      precinct                          office district party  \\\n",
       "0   St. Joseph  CENTRE TWP 1                    Ballots Cast                  \n",
       "1   St. Joseph  CENTRE TWP 1               Registered Voters                  \n",
       "0   St. Joseph  CENTRE TWP 1  President Of The United States      NaN    WI   \n",
       "0   St. Joseph  CENTRE TWP 1  President Of The United States      NaN    WI   \n",
       "0   St. Joseph  CENTRE TWP 1  President Of The United States      NaN    WI   \n",
       "..         ...           ...                             ...      ...   ...   \n",
       "9   St. Joseph  WARREN TWP 6     Steele - Judicial Retention      NaN   NaN   \n",
       "0   St. Joseph  WARREN TWP 6   Telloyan - Judicial Retention      NaN   NaN   \n",
       "0   St. Joseph  WARREN TWP 6   Telloyan - Judicial Retention      NaN   NaN   \n",
       "1   St. Joseph  WARREN TWP 6      Woods - Judicial Retention      NaN   NaN   \n",
       "1   St. Joseph  WARREN TWP 6      Woods - Judicial Retention      NaN   NaN   \n",
       "\n",
       "                           candidate votes  \n",
       "0                                      757  \n",
       "1                                     1122  \n",
       "0   Claudia De La Cruz Karina Garcia     1  \n",
       "0                Susan Maude Buchser     0  \n",
       "0       Nala Baozun Scott Johnson Jr     0  \n",
       "..                               ...   ...  \n",
       "9                                 No    69  \n",
       "0                                Yes   227  \n",
       "0                                 No    82  \n",
       "1                                Yes   249  \n",
       "1                                 No    76  \n",
       "\n",
       "[17470 rows x 7 columns]"
      ]
     },
     "execution_count": 50,
     "metadata": {},
     "output_type": "execute_result"
    }
   ],
   "source": [
    "df"
   ]
  },
  {
   "cell_type": "code",
   "execution_count": 51,
   "id": "a4b51ec2-e78c-4a47-a7b6-34d2e48b2de9",
   "metadata": {
    "tags": []
   },
   "outputs": [],
   "source": [
    "df.to_csv(output_file)"
   ]
  },
  {
   "cell_type": "code",
   "execution_count": 52,
   "id": "705e506b-1e62-494c-af29-bc5d8d3dba78",
   "metadata": {},
   "outputs": [],
   "source": [
    "df.to_csv(output_2, index=False)"
   ]
  },
  {
   "cell_type": "code",
   "execution_count": null,
   "id": "c8d91391-dd11-4658-95ec-928e7ce30f1f",
   "metadata": {},
   "outputs": [],
   "source": []
  }
 ],
 "metadata": {
  "kernelspec": {
   "display_name": "Python 3 (ipykernel)",
   "language": "python",
   "name": "python3"
  },
  "language_info": {
   "codemirror_mode": {
    "name": "ipython",
    "version": 3
   },
   "file_extension": ".py",
   "mimetype": "text/x-python",
   "name": "python",
   "nbconvert_exporter": "python",
   "pygments_lexer": "ipython3",
   "version": "3.11.5"
  }
 },
 "nbformat": 4,
 "nbformat_minor": 5
}
