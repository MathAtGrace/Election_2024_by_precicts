{
 "cells": [
  {
   "cell_type": "code",
   "execution_count": 42,
   "id": "e3ad0ccd-74d3-4cf9-a608-425434a0144d",
   "metadata": {
    "tags": []
   },
   "outputs": [],
   "source": [
    "from bs4 import BeautifulSoup\n",
    "from urllib.request import Request, urlopen\n",
    "import pandas as pd\n",
    "import re\n",
    "import itertools as it"
   ]
  },
  {
   "cell_type": "code",
   "execution_count": 43,
   "id": "f7b77cda-2edd-4784-b474-9ddc34037840",
   "metadata": {
    "tags": []
   },
   "outputs": [],
   "source": [
    "counties = ['Noble']\n",
    "url = 'https://www.in.gov/counties/noble/election-info/historical-election-info/2024-general-election-by-precinct/'"
   ]
  },
  {
   "cell_type": "code",
   "execution_count": 44,
   "id": "d77d795d-2d7f-4896-8aa9-bb4101eec584",
   "metadata": {
    "tags": []
   },
   "outputs": [
    {
     "name": "stdout",
     "output_type": "stream",
     "text": [
      "Noble\n"
     ]
    }
   ],
   "source": [
    "i = 0\n",
    "county = counties[i]\n",
    "print(county)"
   ]
  },
  {
   "cell_type": "code",
   "execution_count": 45,
   "id": "df57308d-9fe4-46b6-b186-41cf507caf6f",
   "metadata": {
    "tags": []
   },
   "outputs": [
    {
     "data": {
      "text/plain": [
       "'C:/Users/johnsor/Documents/openelections-data-in/2024/counties/20241105__in__general__noble__precinct.csv'"
      ]
     },
     "execution_count": 45,
     "metadata": {},
     "output_type": "execute_result"
    }
   ],
   "source": [
    "output_file = \"../data/in_2024_results/\" + county + \".csv\"\n",
    "output_2 = \"C:/Users/johnsor/Documents/openelections-data-in/2024/counties/20241105__in__general__\" + str.lower(county) + \"__precinct.csv\"\n",
    "output_2"
   ]
  },
  {
   "cell_type": "code",
   "execution_count": null,
   "id": "ab3ac685-b638-4b02-b438-20f12caa8e8f",
   "metadata": {},
   "outputs": [],
   "source": []
  },
  {
   "cell_type": "code",
   "execution_count": null,
   "id": "3aa7f61f-3882-488e-a8d1-fa28fb370d85",
   "metadata": {},
   "outputs": [],
   "source": []
  },
  {
   "cell_type": "code",
   "execution_count": null,
   "id": "31f1c633-20c4-4aa5-a8e8-46cf392e03e7",
   "metadata": {},
   "outputs": [],
   "source": []
  },
  {
   "cell_type": "code",
   "execution_count": 46,
   "id": "dfc22e43-9089-44a2-b069-e752af28191b",
   "metadata": {
    "tags": []
   },
   "outputs": [],
   "source": [
    "req = Request(url)\n",
    "html_page = urlopen(req).read()\n",
    "soup = BeautifulSoup(html_page, 'html.parser')\n",
    "data = soup.find('section', {'id' : 'content_container_864015'})"
   ]
  },
  {
   "cell_type": "code",
   "execution_count": 47,
   "id": "82486617-8dbc-47f1-b958-5cb400ad77cf",
   "metadata": {
    "tags": []
   },
   "outputs": [],
   "source": [
    "cols = {'county' : [],\n",
    "        'precinct' : [],\n",
    "        'office' : [],\n",
    "        'district' : [],\n",
    "        'party' : [],\n",
    "        'candidate' : [],\n",
    "        'election_day' : [],\n",
    "        'absentee' : [],\n",
    "        'early_voting' : [],\n",
    "        'votes' : []}\n",
    "party_convert = {'R' : 'REP',\n",
    "                 'REP' : 'REP',\n",
    "                 'D' : 'DEM',\n",
    "                 'DEM' : 'DEM',\n",
    "                 'L' : 'LIB',\n",
    "                 'LIB' : 'LIB',\n",
    "                 'WTP' : 'WTP',\n",
    "                 'W' : 'WTP',\n",
    "                 'NP' : '',\n",
    "                 'I' : 'IND',\n",
    "                 'IND' : 'IND'\n",
    "                }"
   ]
  },
  {
   "cell_type": "code",
   "execution_count": 48,
   "id": "ff4aeaf2-3321-4848-88e6-ffb34ab115af",
   "metadata": {
    "tags": []
   },
   "outputs": [],
   "source": [
    "\n",
    "for div in data.find_all('div'):\n",
    "    if div.attrs['class'] == ['s5_']:\n",
    "        election_day = div.find('span', {'class' : 'f91_'}).text\n",
    "        absentee = div.find('span', {'class' : 'f90_'}).text\n",
    "        early_voting = div.find('span', {'class' : 'f89_'}).text\n",
    "        votes = div.find('span', {'class' : 'f92_'}).text\n",
    "        registered = div.find('span', {'class' : 'f100_'}).text\n",
    "    elif div.attrs['class'] == ['s7_']:\n",
    "        precinct = re.search('Precinct Name: (.*)',\n",
    "            div.find('span', {'class' : 'f42_'}).text).group(1)\n",
    "        cols['county'].extend([county, county])\n",
    "        cols['precinct'].extend([precinct, precinct])\n",
    "        cols['office'].extend(['Ballots Cast', 'Registered Voters'])\n",
    "        cols['district'].extend(['',''])\n",
    "        cols['party'].extend(['',''])\n",
    "        cols['candidate'].extend(['',''])\n",
    "        cols['election_day'].extend([election_day,''])\n",
    "        cols['absentee'].extend([absentee,''])\n",
    "        cols['early_voting'].extend([early_voting,''])\n",
    "        cols['votes'].extend([votes, registered])\n",
    "    elif div.attrs['class'] == ['s9_']:\n",
    "        office = div.find('span', {'class' : 'f0_'}).text\n",
    "        if re.search(r'Senator District (\\d+)|Representative District (\\d+)', office):\n",
    "            office, district = office.split(' District ')\n",
    "        else:\n",
    "            district = ''\n",
    "    elif div.attrs['class'] == ['s0_']:\n",
    "        election_day = div.find('span', {'class' : 'f13_'}).text\n",
    "        absentee = div.find('span', {'class' : 'f12_'}).text\n",
    "        early_voting = div.find('span', {'class' : 'f11_'}).text\n",
    "        votes = div.find('span', {'class' : 'f10_'}).text\n",
    "        candidate = div.find('span', {'class' : 'f8_'}).text\n",
    "        if re.search(r'\\(\\w+\\)', candidate):\n",
    "            party = party_convert[\n",
    "                re.findall(r'\\((\\w+)\\)', candidate)[0]\n",
    "            ]\n",
    "            candidate = re.findall(r'\\(\\w+\\) (.*)', candidate)[0]\n",
    "        else:\n",
    "            party = ''\n",
    "        cols['county'].append(county)\n",
    "        cols['precinct'].append(precinct)\n",
    "        cols['office'].append(office)\n",
    "        cols['district'].append(district)\n",
    "        cols['party'].append(party)\n",
    "        cols['candidate'].append(candidate)\n",
    "        cols['election_day'].append(election_day)\n",
    "        cols['absentee'].append(absentee)\n",
    "        cols['early_voting'].append(early_voting)\n",
    "        cols['votes'].append(votes)"
   ]
  },
  {
   "cell_type": "code",
   "execution_count": 49,
   "id": "0b37564f-9ed6-42c2-a8a4-243fbe780b47",
   "metadata": {
    "tags": []
   },
   "outputs": [
    {
     "data": {
      "text/html": [
       "<div>\n",
       "<style scoped>\n",
       "    .dataframe tbody tr th:only-of-type {\n",
       "        vertical-align: middle;\n",
       "    }\n",
       "\n",
       "    .dataframe tbody tr th {\n",
       "        vertical-align: top;\n",
       "    }\n",
       "\n",
       "    .dataframe thead th {\n",
       "        text-align: right;\n",
       "    }\n",
       "</style>\n",
       "<table border=\"1\" class=\"dataframe\">\n",
       "  <thead>\n",
       "    <tr style=\"text-align: right;\">\n",
       "      <th></th>\n",
       "      <th>county</th>\n",
       "      <th>precinct</th>\n",
       "      <th>office</th>\n",
       "      <th>district</th>\n",
       "      <th>party</th>\n",
       "      <th>candidate</th>\n",
       "      <th>election_day</th>\n",
       "      <th>absentee</th>\n",
       "      <th>early_voting</th>\n",
       "      <th>votes</th>\n",
       "    </tr>\n",
       "  </thead>\n",
       "  <tbody>\n",
       "    <tr>\n",
       "      <th>0</th>\n",
       "      <td>Noble</td>\n",
       "      <td>Washington 1</td>\n",
       "      <td>Ballots Cast</td>\n",
       "      <td></td>\n",
       "      <td></td>\n",
       "      <td></td>\n",
       "      <td>259</td>\n",
       "      <td>24</td>\n",
       "      <td>247</td>\n",
       "      <td>530</td>\n",
       "    </tr>\n",
       "    <tr>\n",
       "      <th>1</th>\n",
       "      <td>Noble</td>\n",
       "      <td>Washington 1</td>\n",
       "      <td>Registered Voters</td>\n",
       "      <td></td>\n",
       "      <td></td>\n",
       "      <td></td>\n",
       "      <td></td>\n",
       "      <td></td>\n",
       "      <td></td>\n",
       "      <td>811</td>\n",
       "    </tr>\n",
       "    <tr>\n",
       "      <th>2</th>\n",
       "      <td>Noble</td>\n",
       "      <td>Washington 1</td>\n",
       "      <td>Public Question-Const Amendment</td>\n",
       "      <td></td>\n",
       "      <td></td>\n",
       "      <td>Yes</td>\n",
       "      <td>132</td>\n",
       "      <td>12</td>\n",
       "      <td>109</td>\n",
       "      <td>253</td>\n",
       "    </tr>\n",
       "    <tr>\n",
       "      <th>3</th>\n",
       "      <td>Noble</td>\n",
       "      <td>Washington 1</td>\n",
       "      <td>Public Question-Const Amendment</td>\n",
       "      <td></td>\n",
       "      <td></td>\n",
       "      <td>No</td>\n",
       "      <td>105</td>\n",
       "      <td>8</td>\n",
       "      <td>107</td>\n",
       "      <td>220</td>\n",
       "    </tr>\n",
       "    <tr>\n",
       "      <th>4</th>\n",
       "      <td>Noble</td>\n",
       "      <td>Washington 1</td>\n",
       "      <td>President and Vice-President of the U.S.</td>\n",
       "      <td></td>\n",
       "      <td>REP</td>\n",
       "      <td>Trump \\ Vance</td>\n",
       "      <td>203</td>\n",
       "      <td>15</td>\n",
       "      <td>192</td>\n",
       "      <td>410</td>\n",
       "    </tr>\n",
       "    <tr>\n",
       "      <th>...</th>\n",
       "      <td>...</td>\n",
       "      <td>...</td>\n",
       "      <td>...</td>\n",
       "      <td>...</td>\n",
       "      <td>...</td>\n",
       "      <td>...</td>\n",
       "      <td>...</td>\n",
       "      <td>...</td>\n",
       "      <td>...</td>\n",
       "      <td>...</td>\n",
       "    </tr>\n",
       "    <tr>\n",
       "      <th>1502</th>\n",
       "      <td>Noble</td>\n",
       "      <td>Noble 29</td>\n",
       "      <td>IN Supreme Court-Massa</td>\n",
       "      <td></td>\n",
       "      <td></td>\n",
       "      <td>No</td>\n",
       "      <td>66</td>\n",
       "      <td>6</td>\n",
       "      <td>57</td>\n",
       "      <td>129</td>\n",
       "    </tr>\n",
       "    <tr>\n",
       "      <th>1503</th>\n",
       "      <td>Noble</td>\n",
       "      <td>Noble 29</td>\n",
       "      <td>IN Supreme Court-Molter</td>\n",
       "      <td></td>\n",
       "      <td></td>\n",
       "      <td>Yes</td>\n",
       "      <td>200</td>\n",
       "      <td>19</td>\n",
       "      <td>174</td>\n",
       "      <td>393</td>\n",
       "    </tr>\n",
       "    <tr>\n",
       "      <th>1504</th>\n",
       "      <td>Noble</td>\n",
       "      <td>Noble 29</td>\n",
       "      <td>IN Supreme Court-Molter</td>\n",
       "      <td></td>\n",
       "      <td></td>\n",
       "      <td>No</td>\n",
       "      <td>63</td>\n",
       "      <td>3</td>\n",
       "      <td>52</td>\n",
       "      <td>118</td>\n",
       "    </tr>\n",
       "    <tr>\n",
       "      <th>1505</th>\n",
       "      <td>Noble</td>\n",
       "      <td>Noble 29</td>\n",
       "      <td>Court of Appeals Dist 4-Pyle III</td>\n",
       "      <td></td>\n",
       "      <td></td>\n",
       "      <td>Yes</td>\n",
       "      <td>204</td>\n",
       "      <td>18</td>\n",
       "      <td>173</td>\n",
       "      <td>395</td>\n",
       "    </tr>\n",
       "    <tr>\n",
       "      <th>1506</th>\n",
       "      <td>Noble</td>\n",
       "      <td>Noble 29</td>\n",
       "      <td>Court of Appeals Dist 4-Pyle III</td>\n",
       "      <td></td>\n",
       "      <td></td>\n",
       "      <td>No</td>\n",
       "      <td>57</td>\n",
       "      <td>5</td>\n",
       "      <td>50</td>\n",
       "      <td>112</td>\n",
       "    </tr>\n",
       "  </tbody>\n",
       "</table>\n",
       "<p>1507 rows × 10 columns</p>\n",
       "</div>"
      ],
      "text/plain": [
       "     county      precinct                                    office district  \\\n",
       "0     Noble  Washington 1                              Ballots Cast            \n",
       "1     Noble  Washington 1                         Registered Voters            \n",
       "2     Noble  Washington 1           Public Question-Const Amendment            \n",
       "3     Noble  Washington 1           Public Question-Const Amendment            \n",
       "4     Noble  Washington 1  President and Vice-President of the U.S.            \n",
       "...     ...           ...                                       ...      ...   \n",
       "1502  Noble      Noble 29                    IN Supreme Court-Massa            \n",
       "1503  Noble      Noble 29                   IN Supreme Court-Molter            \n",
       "1504  Noble      Noble 29                   IN Supreme Court-Molter            \n",
       "1505  Noble      Noble 29          Court of Appeals Dist 4-Pyle III            \n",
       "1506  Noble      Noble 29          Court of Appeals Dist 4-Pyle III            \n",
       "\n",
       "     party      candidate election_day absentee early_voting votes  \n",
       "0                                  259       24          247   530  \n",
       "1                                                              811  \n",
       "2                     Yes          132       12          109   253  \n",
       "3                      No          105        8          107   220  \n",
       "4      REP  Trump \\ Vance          203       15          192   410  \n",
       "...    ...            ...          ...      ...          ...   ...  \n",
       "1502                   No           66        6           57   129  \n",
       "1503                  Yes          200       19          174   393  \n",
       "1504                   No           63        3           52   118  \n",
       "1505                  Yes          204       18          173   395  \n",
       "1506                   No           57        5           50   112  \n",
       "\n",
       "[1507 rows x 10 columns]"
      ]
     },
     "execution_count": 49,
     "metadata": {},
     "output_type": "execute_result"
    }
   ],
   "source": [
    "df = pd.DataFrame(data=cols)\n",
    "df"
   ]
  },
  {
   "cell_type": "code",
   "execution_count": 50,
   "id": "1ea9d23b-d0a5-4817-8d04-e4a2af8085cc",
   "metadata": {
    "tags": []
   },
   "outputs": [
    {
     "data": {
      "text/plain": [
       "0       Washington 1\n",
       "1       Washington 1\n",
       "2       Washington 1\n",
       "3       Washington 1\n",
       "4       Washington 1\n",
       "            ...     \n",
       "1502        Noble 29\n",
       "1503        Noble 29\n",
       "1504        Noble 29\n",
       "1505        Noble 29\n",
       "1506        Noble 29\n",
       "Name: precinct, Length: 1507, dtype: object"
      ]
     },
     "execution_count": 50,
     "metadata": {},
     "output_type": "execute_result"
    }
   ],
   "source": [
    "df['precinct']"
   ]
  },
  {
   "cell_type": "code",
   "execution_count": 51,
   "id": "f54a0c4a-6d24-4e3c-a389-6b7cf54f082a",
   "metadata": {
    "tags": []
   },
   "outputs": [],
   "source": [
    "df.to_csv(output_file)"
   ]
  },
  {
   "cell_type": "code",
   "execution_count": 52,
   "id": "0db1cbc6-538a-4c05-bb8f-80a5916b1392",
   "metadata": {},
   "outputs": [],
   "source": [
    "df.to_csv(output_2, index=False, encoding='utf-8')"
   ]
  },
  {
   "cell_type": "code",
   "execution_count": null,
   "id": "37ebf065-4269-42eb-b5d9-3a9e2ac40c70",
   "metadata": {},
   "outputs": [],
   "source": []
  }
 ],
 "metadata": {
  "kernelspec": {
   "display_name": "Python 3 (ipykernel)",
   "language": "python",
   "name": "python3"
  },
  "language_info": {
   "codemirror_mode": {
    "name": "ipython",
    "version": 3
   },
   "file_extension": ".py",
   "mimetype": "text/x-python",
   "name": "python",
   "nbconvert_exporter": "python",
   "pygments_lexer": "ipython3",
   "version": "3.11.5"
  }
 },
 "nbformat": 4,
 "nbformat_minor": 5
}
