{
 "cells": [
  {
   "cell_type": "code",
   "execution_count": 42,
   "id": "e3ad0ccd-74d3-4cf9-a608-425434a0144d",
   "metadata": {
    "tags": []
   },
   "outputs": [],
   "source": [
    "import requests\n",
    "import fitz\n",
    "import pdfplumber\n",
    "import io\n",
    "import pandas as pd\n",
    "import re\n",
    "import itertools as it\n",
    "import pymupdf"
   ]
  },
  {
   "cell_type": "code",
   "execution_count": 26,
   "id": "f7b77cda-2edd-4784-b474-9ddc34037840",
   "metadata": {
    "tags": []
   },
   "outputs": [],
   "source": [
    "counties = ['Starke']\n",
    "county_precincts = {'Starke' : ['wayne3', 'wayne2', 'wayne1', 'washington2', 'washington1', 'railroad', 'oregon3', 'oregon2', 'oregon1', 'northbend', 'jackson', 'davis', 'center6', 'center4', 'center5', 'center3', 'center2', 'center1', 'california2', 'wayne4', 'california1']}\n",
    "url_root = {'Starke' : 'https://starke.in.gov/wp-content/uploads/2024/11/'}\n",
    "def precinct_url(county, precinct, precinct_num):\n",
    "    return url_root[county] + precinct + '-1.pdf'"
   ]
  },
  {
   "cell_type": "code",
   "execution_count": 27,
   "id": "d77d795d-2d7f-4896-8aa9-bb4101eec584",
   "metadata": {
    "tags": []
   },
   "outputs": [
    {
     "name": "stdout",
     "output_type": "stream",
     "text": [
      "Starke\n"
     ]
    }
   ],
   "source": [
    "i = 0\n",
    "county = counties[i]\n",
    "print(county)\n",
    "precincts = county_precincts[county]"
   ]
  },
  {
   "cell_type": "code",
   "execution_count": 28,
   "id": "df57308d-9fe4-46b6-b186-41cf507caf6f",
   "metadata": {
    "tags": []
   },
   "outputs": [
    {
     "data": {
      "text/plain": [
       "'C:/Users/johnsor/Documents/openelections-data-in/2024/counties/20241105__in__general__starke__precinct.csv'"
      ]
     },
     "execution_count": 28,
     "metadata": {},
     "output_type": "execute_result"
    }
   ],
   "source": [
    "output_file = \"../data/in_2024_results/\" + county + \".csv\"\n",
    "output_2 = \"C:/Users/johnsor/Documents/openelections-data-in/2024/counties/20241105__in__general__\" + str.lower(county) + \"__precinct.csv\"\n",
    "output_2"
   ]
  },
  {
   "cell_type": "code",
   "execution_count": 29,
   "id": "d13360b3-43ee-482a-ae95-0da4b962a929",
   "metadata": {
    "tags": []
   },
   "outputs": [
    {
     "data": {
      "text/plain": [
       "['https://starke.in.gov/wp-content/uploads/2024/11/wayne3-1.pdf',\n",
       " 'https://starke.in.gov/wp-content/uploads/2024/11/wayne2-1.pdf',\n",
       " 'https://starke.in.gov/wp-content/uploads/2024/11/wayne1-1.pdf',\n",
       " 'https://starke.in.gov/wp-content/uploads/2024/11/washington2-1.pdf',\n",
       " 'https://starke.in.gov/wp-content/uploads/2024/11/wayne4-1.pdf',\n",
       " 'https://starke.in.gov/wp-content/uploads/2024/11/california1-1.pdf']"
      ]
     },
     "execution_count": 29,
     "metadata": {},
     "output_type": "execute_result"
    }
   ],
   "source": [
    "#This cell might only work for Lake County\n",
    "urls = []\n",
    "for p in precincts:\n",
    "    urls.append(precinct_url(county, p, i))\n",
    "urls[:4] + urls[-2:]"
   ]
  },
  {
   "cell_type": "code",
   "execution_count": 41,
   "id": "86a5db92-e29c-4a26-af8b-64bca82b9dd4",
   "metadata": {
    "tags": []
   },
   "outputs": [
    {
     "name": "stdout",
     "output_type": "stream",
     "text": [
      "<_io.BytesIO object at 0x00000242A9685DF0>\n"
     ]
    },
    {
     "ename": "TypeError",
     "evalue": "bad filename: type(filename)=<class '_io.BytesIO'> filename=<_io.BytesIO object at 0x00000242A9685DF0>.",
     "output_type": "error",
     "traceback": [
      "\u001b[1;31m---------------------------------------------------------------------------\u001b[0m",
      "\u001b[1;31mTypeError\u001b[0m                                 Traceback (most recent call last)",
      "\u001b[1;32m~\\AppData\\Local\\Temp\\ipykernel_61148\\3876658357.py\u001b[0m in \u001b[0;36m?\u001b[1;34m()\u001b[0m\n\u001b[0;32m      2\u001b[0m \u001b[0mhttp\u001b[0m \u001b[1;33m=\u001b[0m \u001b[0murllib3\u001b[0m\u001b[1;33m.\u001b[0m\u001b[0mPoolManager\u001b[0m\u001b[1;33m(\u001b[0m\u001b[1;33m)\u001b[0m\u001b[1;33m\u001b[0m\u001b[1;33m\u001b[0m\u001b[0m\n\u001b[0;32m      3\u001b[0m \u001b[0mtemp\u001b[0m \u001b[1;33m=\u001b[0m \u001b[0mio\u001b[0m\u001b[1;33m.\u001b[0m\u001b[0mBytesIO\u001b[0m\u001b[1;33m(\u001b[0m\u001b[1;33m)\u001b[0m\u001b[1;33m\u001b[0m\u001b[1;33m\u001b[0m\u001b[0m\n\u001b[0;32m      4\u001b[0m \u001b[0mtemp\u001b[0m\u001b[1;33m.\u001b[0m\u001b[0mwrite\u001b[0m\u001b[1;33m(\u001b[0m\u001b[0mhttp\u001b[0m\u001b[1;33m.\u001b[0m\u001b[0mrequest\u001b[0m\u001b[1;33m(\u001b[0m\u001b[1;34m\"GET\"\u001b[0m\u001b[1;33m,\u001b[0m \u001b[0murl\u001b[0m\u001b[1;33m)\u001b[0m\u001b[1;33m.\u001b[0m\u001b[0mdata\u001b[0m\u001b[1;33m)\u001b[0m\u001b[1;33m\u001b[0m\u001b[1;33m\u001b[0m\u001b[0m\n\u001b[0;32m      5\u001b[0m \u001b[0mprint\u001b[0m\u001b[1;33m(\u001b[0m\u001b[0mtemp\u001b[0m\u001b[1;33m)\u001b[0m\u001b[1;33m\u001b[0m\u001b[1;33m\u001b[0m\u001b[0m\n\u001b[1;32m----> 6\u001b[1;33m \u001b[0mdoc\u001b[0m \u001b[1;33m=\u001b[0m \u001b[0mpymupdf\u001b[0m\u001b[1;33m.\u001b[0m\u001b[0mopen\u001b[0m\u001b[1;33m(\u001b[0m\u001b[0mtemp\u001b[0m\u001b[1;33m)\u001b[0m\u001b[1;33m\u001b[0m\u001b[1;33m\u001b[0m\u001b[0m\n\u001b[0m\u001b[0;32m      7\u001b[0m \u001b[0mpage\u001b[0m \u001b[1;33m=\u001b[0m \u001b[0mdoc\u001b[0m\u001b[1;33m[\u001b[0m\u001b[1;36m0\u001b[0m\u001b[1;33m]\u001b[0m\u001b[1;33m\u001b[0m\u001b[1;33m\u001b[0m\u001b[0m\n\u001b[0;32m      8\u001b[0m \u001b[0mpage\u001b[0m\u001b[1;33m\u001b[0m\u001b[1;33m\u001b[0m\u001b[0m\n",
      "\u001b[1;32m~\\AppData\\Local\\anaconda3\\Lib\\site-packages\\pymupdf\\__init__.py\u001b[0m in \u001b[0;36m?\u001b[1;34m(self, filename, stream, filetype, rect, width, height, fontsize)\u001b[0m\n\u001b[0;32m   3072\u001b[0m                     \u001b[0mself\u001b[0m\u001b[1;33m.\u001b[0m\u001b[0mpage_count2\u001b[0m \u001b[1;33m=\u001b[0m \u001b[0mextra\u001b[0m\u001b[1;33m.\u001b[0m\u001b[0mpage_count_pdf\u001b[0m\u001b[1;33m\u001b[0m\u001b[1;33m\u001b[0m\u001b[0m\n\u001b[0;32m   3073\u001b[0m                 \u001b[1;32melse\u001b[0m\u001b[1;33m:\u001b[0m\u001b[1;33m\u001b[0m\u001b[1;33m\u001b[0m\u001b[0m\n\u001b[0;32m   3074\u001b[0m                     \u001b[0mself\u001b[0m\u001b[1;33m.\u001b[0m\u001b[0mpage_count2\u001b[0m \u001b[1;33m=\u001b[0m \u001b[0mextra\u001b[0m\u001b[1;33m.\u001b[0m\u001b[0mpage_count_fz\u001b[0m\u001b[1;33m\u001b[0m\u001b[1;33m\u001b[0m\u001b[0m\n\u001b[0;32m   3075\u001b[0m         \u001b[1;32mfinally\u001b[0m\u001b[1;33m:\u001b[0m\u001b[1;33m\u001b[0m\u001b[1;33m\u001b[0m\u001b[0m\n\u001b[1;32m-> 3076\u001b[1;33m             \u001b[0mJM_mupdf_show_errors\u001b[0m \u001b[1;33m=\u001b[0m \u001b[0mJM_mupdf_show_errors_old\u001b[0m\u001b[1;33m\u001b[0m\u001b[1;33m\u001b[0m\u001b[0m\n\u001b[0m",
      "\u001b[1;31mTypeError\u001b[0m: bad filename: type(filename)=<class '_io.BytesIO'> filename=<_io.BytesIO object at 0x00000242A9685DF0>."
     ]
    }
   ],
   "source": [
    "url = urls[0]\n",
    "http = urllib3.PoolManager()\n",
    "temp = io.BytesIO()\n",
    "temp.write(http.request(\"GET\", url).data)\n",
    "doc = pymupdf.open(temp)\n",
    "page = doc[0]\n",
    "page"
   ]
  },
  {
   "cell_type": "code",
   "execution_count": 32,
   "id": "91fa9a2c-cfe9-4607-b6ed-f5449042fcca",
   "metadata": {
    "tags": []
   },
   "outputs": [],
   "source": [
    "pages = []\n",
    "for url in urls:\n",
    "    http = urllib3.PoolManager()\n",
    "    temp = io.BytesIO()\n",
    "    temp.write(http.request(\"GET\", url).data)\n",
    "    with pdfplumber.open(temp) as pdf:\n",
    "        pages += [[line['text'] for line in page.extract_text_lines()] for page in pdf.pages]"
   ]
  },
  {
   "cell_type": "code",
   "execution_count": 33,
   "id": "ff4aeaf2-3321-4848-88e6-ffb34ab115af",
   "metadata": {
    "tags": []
   },
   "outputs": [
    {
     "data": {
      "text/plain": [
       "[[],\n",
       " [],\n",
       " [],\n",
       " [],\n",
       " [],\n",
       " [],\n",
       " [],\n",
       " [],\n",
       " [],\n",
       " [],\n",
       " [],\n",
       " [],\n",
       " [],\n",
       " [],\n",
       " [],\n",
       " [],\n",
       " [],\n",
       " [],\n",
       " [],\n",
       " [],\n",
       " [],\n",
       " [],\n",
       " [],\n",
       " [],\n",
       " [],\n",
       " [],\n",
       " [],\n",
       " [],\n",
       " [],\n",
       " [],\n",
       " [],\n",
       " [],\n",
       " [],\n",
       " [],\n",
       " [],\n",
       " [],\n",
       " [],\n",
       " [],\n",
       " [],\n",
       " [],\n",
       " [],\n",
       " [],\n",
       " [],\n",
       " [],\n",
       " [],\n",
       " [],\n",
       " [],\n",
       " [],\n",
       " [],\n",
       " [],\n",
       " [],\n",
       " [],\n",
       " [],\n",
       " [],\n",
       " [],\n",
       " [],\n",
       " [],\n",
       " [],\n",
       " [],\n",
       " [],\n",
       " [],\n",
       " [],\n",
       " []]"
      ]
     },
     "execution_count": 33,
     "metadata": {},
     "output_type": "execute_result"
    }
   ],
   "source": [
    "pages"
   ]
  },
  {
   "cell_type": "code",
   "execution_count": 21,
   "id": "063f93c1-315f-4ade-a4bc-953293cf5bf1",
   "metadata": {
    "tags": []
   },
   "outputs": [
    {
     "name": "stdout",
     "output_type": "stream",
     "text": [
      "[]\n"
     ]
    }
   ],
   "source": [
    "line = lines[125]\n",
    "print(re.findall(r'\\d+-(\\w+\\s?\\w*)\\s+- - -', line))"
   ]
  },
  {
   "cell_type": "code",
   "execution_count": 22,
   "id": "6e366410-9d17-41d1-abbc-c990bd280d5e",
   "metadata": {
    "tags": []
   },
   "outputs": [],
   "source": [
    "cols = {'county' : [],\n",
    "        'precinct' : [],\n",
    "        'office' : [],\n",
    "        'district' : [],\n",
    "        'party' : [],\n",
    "        'candidate' : [],\n",
    "        'election_day' : [],\n",
    "        'absentee' : [],\n",
    "        'early_voting' : [],\n",
    "        'votes' : []}\n",
    "party_convert = {'R' : 'REP',\n",
    "                 'REP' : 'REP',\n",
    "                 'D' : 'DEM',\n",
    "                 'DEM' : 'DEM',\n",
    "                 'L' : 'LIB',\n",
    "                 'LIB' : 'LIB',\n",
    "                 'WTP' : 'WTP',\n",
    "                 'W' : 'WTP',\n",
    "                 'NP' : '',\n",
    "                 'I' : 'IND',\n",
    "                 'IND' : 'IND'\n",
    "                }"
   ]
  },
  {
   "cell_type": "code",
   "execution_count": 23,
   "id": "4f6390f9-43d0-42bd-8110-42dd940329a8",
   "metadata": {
    "tags": []
   },
   "outputs": [],
   "source": [
    "vote = False #Signifies when a \"VOTE FOR ...\" line has occurred\n",
    "for line in lines: #for each line of the page\n",
    "    if re.search(' EMS ', line):\n",
    "        election_day = re.findall(r'# Of Election Day (\\d+)', line)[0]\n",
    "        absentee = re.findall(r'# Of Paper Absentee (\\d+)', line)[0]\n",
    "        early_voting = re.findall(r'# Of Walk-In Absentee (\\d+)', line)[0]\n",
    "        votes = re.findall(r'PUBLIC COUNT: (\\d+)', line)[0]\n",
    "        registered = re.findall(r'REGISTERED VOTERS: (\\d+)', line)[0]\n",
    "        meta = True\n",
    "    elif re.search('- - -', line):\n",
    "        precinct = re.findall(r'\\d+-(\\w+\\s*\\w*\\s*\\w*)\\s+- - -', line)[0]\n",
    "        precinct = re.sub('\\xa0', '', precinct) #Looking at you NEW DURHAM 01 in Laporte\n",
    "        meta = False\n",
    "        cols['county'].extend([county, county])\n",
    "        cols['precinct'].extend([precinct, precinct])\n",
    "        cols['office'].extend(['Ballots Cast', 'Registered Voters'])\n",
    "        cols['district'].extend(['',''])\n",
    "        cols['party'].extend(['',''])\n",
    "        cols['candidate'].extend(['',''])\n",
    "        cols['election_day'].extend([election_day,''])\n",
    "        cols['absentee'].extend([absentee,''])\n",
    "        cols['early_voting'].extend([early_voting,''])\n",
    "        cols['votes'].extend([votes, registered])\n",
    "    elif re.search('VOTES=', line):\n",
    "        office = re.findall(r'VOTES= [0-9.,]+ (.*)', line)[0]\n",
    "        if re.search(r'[Senator|Representative] District (\\d+)', office):\n",
    "            office, district = office.split(' District ')\n",
    "        else:\n",
    "            district = ''\n",
    "    elif re.search(r'\\d%', line) and not meta: #Lines with percentage numbers that are not metadata are the values we want\n",
    "        E, A, W, V, _, C = line.split(maxsplit=5) #The line is a row of a table of 6 columns\n",
    "        if re.search(r'\\(\\w+\\)', C):\n",
    "            P = party_convert[\n",
    "                re.findall(r'\\((\\w+)\\)', C)[0]\n",
    "            ]\n",
    "            C = re.findall(r'\\(\\w+\\) (.*)', C)[0]\n",
    "        else:\n",
    "            P = ''\n",
    "        cols['county'].append(county)\n",
    "        cols['precinct'].append(precinct)\n",
    "        cols['office'].append(office)\n",
    "        cols['district'].append(district)\n",
    "        cols['party'].append(P)\n",
    "        cols['candidate'].append(C)\n",
    "        cols['election_day'].append(E)\n",
    "        cols['absentee'].append(A)\n",
    "        cols['early_voting'].append(W)\n",
    "        cols['votes'].append(V)\n",
    "    elif re.search(r'^Straight Party Votes Precinct ID: \\d+ PartyName Votes \\w+', line):\n",
    "        #Note, the line ablve skips precincts that had no straight party votes for any party\n",
    "        office = 'Straight Party'\n",
    "        straights = re.split(r\"\\s*(\\d+)\\s*\",re.findall(r'PartyName Votes (.*)', line)[0])[:-1]\n",
    "        for i in range(len(straights)//2):\n",
    "            party, votes = straights[2*i:2*i+2]\n",
    "            P = party_convert[party[0]]\n",
    "            cols['county'].append(county)\n",
    "            cols['precinct'].append(precinct)\n",
    "            cols['office'].append(office)\n",
    "            cols['district'].append('')\n",
    "            cols['party'].append(P)\n",
    "            cols['candidate'].append(party)\n",
    "            cols['election_day'].append('')\n",
    "            cols['absentee'].append('')\n",
    "            cols['early_voting'].append('')\n",
    "            cols['votes'].append(votes)\n",
    "        meta = True"
   ]
  },
  {
   "cell_type": "code",
   "execution_count": 24,
   "id": "a00946fb-8c7e-4e5e-bc6d-c7da489723c3",
   "metadata": {
    "tags": []
   },
   "outputs": [
    {
     "data": {
      "text/html": [
       "<div>\n",
       "<style scoped>\n",
       "    .dataframe tbody tr th:only-of-type {\n",
       "        vertical-align: middle;\n",
       "    }\n",
       "\n",
       "    .dataframe tbody tr th {\n",
       "        vertical-align: top;\n",
       "    }\n",
       "\n",
       "    .dataframe thead th {\n",
       "        text-align: right;\n",
       "    }\n",
       "</style>\n",
       "<table border=\"1\" class=\"dataframe\">\n",
       "  <thead>\n",
       "    <tr style=\"text-align: right;\">\n",
       "      <th></th>\n",
       "      <th>county</th>\n",
       "      <th>precinct</th>\n",
       "      <th>office</th>\n",
       "      <th>district</th>\n",
       "      <th>party</th>\n",
       "      <th>candidate</th>\n",
       "      <th>election_day</th>\n",
       "      <th>absentee</th>\n",
       "      <th>early_voting</th>\n",
       "      <th>votes</th>\n",
       "    </tr>\n",
       "  </thead>\n",
       "  <tbody>\n",
       "    <tr>\n",
       "      <th>0</th>\n",
       "      <td>Lake</td>\n",
       "      <td>CAL 05</td>\n",
       "      <td>Ballots Cast</td>\n",
       "      <td></td>\n",
       "      <td></td>\n",
       "      <td></td>\n",
       "      <td>195</td>\n",
       "      <td>21</td>\n",
       "      <td>153</td>\n",
       "      <td>369</td>\n",
       "    </tr>\n",
       "    <tr>\n",
       "      <th>1</th>\n",
       "      <td>Lake</td>\n",
       "      <td>CAL 05</td>\n",
       "      <td>Registered Voters</td>\n",
       "      <td></td>\n",
       "      <td></td>\n",
       "      <td></td>\n",
       "      <td></td>\n",
       "      <td></td>\n",
       "      <td></td>\n",
       "      <td>771</td>\n",
       "    </tr>\n",
       "    <tr>\n",
       "      <th>2</th>\n",
       "      <td>Lake</td>\n",
       "      <td>CAL 05</td>\n",
       "      <td>Public Question-Const Amendment</td>\n",
       "      <td></td>\n",
       "      <td></td>\n",
       "      <td>Yes</td>\n",
       "      <td>100</td>\n",
       "      <td>4</td>\n",
       "      <td>73</td>\n",
       "      <td>177</td>\n",
       "    </tr>\n",
       "    <tr>\n",
       "      <th>3</th>\n",
       "      <td>Lake</td>\n",
       "      <td>CAL 05</td>\n",
       "      <td>Public Question-Const Amendment</td>\n",
       "      <td></td>\n",
       "      <td></td>\n",
       "      <td>No</td>\n",
       "      <td>68</td>\n",
       "      <td>6</td>\n",
       "      <td>59</td>\n",
       "      <td>133</td>\n",
       "    </tr>\n",
       "    <tr>\n",
       "      <th>4</th>\n",
       "      <td>Lake</td>\n",
       "      <td>CAL 05</td>\n",
       "      <td>President and Vice-President of the U.S.</td>\n",
       "      <td></td>\n",
       "      <td>DEM</td>\n",
       "      <td>Harris \\ Walz</td>\n",
       "      <td>81</td>\n",
       "      <td>12</td>\n",
       "      <td>90</td>\n",
       "      <td>183</td>\n",
       "    </tr>\n",
       "    <tr>\n",
       "      <th>...</th>\n",
       "      <td>...</td>\n",
       "      <td>...</td>\n",
       "      <td>...</td>\n",
       "      <td>...</td>\n",
       "      <td>...</td>\n",
       "      <td>...</td>\n",
       "      <td>...</td>\n",
       "      <td>...</td>\n",
       "      <td>...</td>\n",
       "      <td>...</td>\n",
       "    </tr>\n",
       "    <tr>\n",
       "      <th>17557</th>\n",
       "      <td>Lake</td>\n",
       "      <td>WT 10</td>\n",
       "      <td>Lake Superior Court Civil Div Room 6</td>\n",
       "      <td></td>\n",
       "      <td></td>\n",
       "      <td>Yes</td>\n",
       "      <td>296</td>\n",
       "      <td>29</td>\n",
       "      <td>522</td>\n",
       "      <td>847</td>\n",
       "    </tr>\n",
       "    <tr>\n",
       "      <th>17558</th>\n",
       "      <td>Lake</td>\n",
       "      <td>WT 10</td>\n",
       "      <td>Lake Superior Court Civil Div Room 6</td>\n",
       "      <td></td>\n",
       "      <td></td>\n",
       "      <td>No</td>\n",
       "      <td>140</td>\n",
       "      <td>8</td>\n",
       "      <td>240</td>\n",
       "      <td>388</td>\n",
       "    </tr>\n",
       "    <tr>\n",
       "      <th>17559</th>\n",
       "      <td>Lake</td>\n",
       "      <td>WT 10</td>\n",
       "      <td>Straight Party</td>\n",
       "      <td></td>\n",
       "      <td>DEM</td>\n",
       "      <td>Democratic Party</td>\n",
       "      <td></td>\n",
       "      <td></td>\n",
       "      <td></td>\n",
       "      <td>302</td>\n",
       "    </tr>\n",
       "    <tr>\n",
       "      <th>17560</th>\n",
       "      <td>Lake</td>\n",
       "      <td>WT 10</td>\n",
       "      <td>Straight Party</td>\n",
       "      <td></td>\n",
       "      <td>REP</td>\n",
       "      <td>Republican Party</td>\n",
       "      <td></td>\n",
       "      <td></td>\n",
       "      <td></td>\n",
       "      <td>601</td>\n",
       "    </tr>\n",
       "    <tr>\n",
       "      <th>17561</th>\n",
       "      <td>Lake</td>\n",
       "      <td>WT 10</td>\n",
       "      <td>Straight Party</td>\n",
       "      <td></td>\n",
       "      <td>WTP</td>\n",
       "      <td>We The People</td>\n",
       "      <td></td>\n",
       "      <td></td>\n",
       "      <td></td>\n",
       "      <td>1</td>\n",
       "    </tr>\n",
       "  </tbody>\n",
       "</table>\n",
       "<p>17562 rows × 10 columns</p>\n",
       "</div>"
      ],
      "text/plain": [
       "      county precinct                                    office district  \\\n",
       "0       Lake   CAL 05                              Ballots Cast            \n",
       "1       Lake   CAL 05                         Registered Voters            \n",
       "2       Lake   CAL 05           Public Question-Const Amendment            \n",
       "3       Lake   CAL 05           Public Question-Const Amendment            \n",
       "4       Lake   CAL 05  President and Vice-President of the U.S.            \n",
       "...      ...      ...                                       ...      ...   \n",
       "17557   Lake    WT 10      Lake Superior Court Civil Div Room 6            \n",
       "17558   Lake    WT 10      Lake Superior Court Civil Div Room 6            \n",
       "17559   Lake    WT 10                            Straight Party            \n",
       "17560   Lake    WT 10                            Straight Party            \n",
       "17561   Lake    WT 10                            Straight Party            \n",
       "\n",
       "      party         candidate election_day absentee early_voting votes  \n",
       "0                                      195       21          153   369  \n",
       "1                                                                  771  \n",
       "2                         Yes          100        4           73   177  \n",
       "3                          No           68        6           59   133  \n",
       "4       DEM     Harris \\ Walz           81       12           90   183  \n",
       "...     ...               ...          ...      ...          ...   ...  \n",
       "17557                     Yes          296       29          522   847  \n",
       "17558                      No          140        8          240   388  \n",
       "17559   DEM  Democratic Party                                      302  \n",
       "17560   REP  Republican Party                                      601  \n",
       "17561   WTP     We The People                                        1  \n",
       "\n",
       "[17562 rows x 10 columns]"
      ]
     },
     "execution_count": 24,
     "metadata": {},
     "output_type": "execute_result"
    }
   ],
   "source": [
    "df = pd.DataFrame(data=cols)\n",
    "df"
   ]
  },
  {
   "cell_type": "code",
   "execution_count": 25,
   "id": "1ea9d23b-d0a5-4817-8d04-e4a2af8085cc",
   "metadata": {
    "tags": []
   },
   "outputs": [
    {
     "data": {
      "text/plain": [
       "0        CAL 05\n",
       "1        CAL 05\n",
       "2        CAL 05\n",
       "3        CAL 05\n",
       "4        CAL 05\n",
       "          ...  \n",
       "17557     WT 10\n",
       "17558     WT 10\n",
       "17559     WT 10\n",
       "17560     WT 10\n",
       "17561     WT 10\n",
       "Name: precinct, Length: 17562, dtype: object"
      ]
     },
     "execution_count": 25,
     "metadata": {},
     "output_type": "execute_result"
    }
   ],
   "source": [
    "df['precinct']"
   ]
  },
  {
   "cell_type": "code",
   "execution_count": 26,
   "id": "f54a0c4a-6d24-4e3c-a389-6b7cf54f082a",
   "metadata": {
    "tags": []
   },
   "outputs": [],
   "source": [
    "df.to_csv(output_file)"
   ]
  },
  {
   "cell_type": "code",
   "execution_count": 27,
   "id": "0db1cbc6-538a-4c05-bb8f-80a5916b1392",
   "metadata": {},
   "outputs": [],
   "source": [
    "df.to_csv(output_2, index=False, encoding='utf-8')"
   ]
  },
  {
   "cell_type": "code",
   "execution_count": null,
   "id": "37ebf065-4269-42eb-b5d9-3a9e2ac40c70",
   "metadata": {},
   "outputs": [],
   "source": []
  }
 ],
 "metadata": {
  "kernelspec": {
   "display_name": "Python 3 (ipykernel)",
   "language": "python",
   "name": "python3"
  },
  "language_info": {
   "codemirror_mode": {
    "name": "ipython",
    "version": 3
   },
   "file_extension": ".py",
   "mimetype": "text/x-python",
   "name": "python",
   "nbconvert_exporter": "python",
   "pygments_lexer": "ipython3",
   "version": "3.11.5"
  }
 },
 "nbformat": 4,
 "nbformat_minor": 5
}
