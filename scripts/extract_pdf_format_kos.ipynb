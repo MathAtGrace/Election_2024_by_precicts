{
 "cells": [
  {
   "cell_type": "code",
   "execution_count": 1,
   "id": "17c5d1c7-35bb-4d9b-bdaa-919382131fea",
   "metadata": {
    "tags": []
   },
   "outputs": [],
   "source": [
    "import pdfplumber\n",
    "import pandas as pd\n",
    "import re"
   ]
  },
  {
   "cell_type": "code",
   "execution_count": 2,
   "id": "422c08df-570c-4b53-951c-21c3ff09343c",
   "metadata": {},
   "outputs": [],
   "source": [
    "counties = [\"Kosciusko\", \"Whitley\"]"
   ]
  },
  {
   "cell_type": "code",
   "execution_count": 108,
   "id": "fa0c96f5-97e9-4bb8-8876-af288a2bc307",
   "metadata": {},
   "outputs": [
    {
     "data": {
      "text/plain": [
       "'Whitley'"
      ]
     },
     "execution_count": 108,
     "metadata": {},
     "output_type": "execute_result"
    }
   ],
   "source": [
    "i = 1\n",
    "county = counties[i]\n",
    "county"
   ]
  },
  {
   "cell_type": "code",
   "execution_count": 109,
   "id": "bc42121e-41a8-4546-a974-40f2a70b65cf",
   "metadata": {
    "tags": []
   },
   "outputs": [
    {
     "data": {
      "text/plain": [
       "'C:/Users/johnsor/Documents/openelections-data-in/2024/counties/20241105__in__general__whitley__precinct.csv'"
      ]
     },
     "execution_count": 109,
     "metadata": {},
     "output_type": "execute_result"
    }
   ],
   "source": [
    "input_file = \"../data-raw/in_2024_results/\" + county + \".pdf\"\n",
    "output_file = \"../data/in_2024_results/\" + county + \".csv\"\n",
    "output_2 = \"C:/Users/johnsor/Documents/openelections-data-in/2024/counties/20241105__in__general__\" + str.lower(county) + \"__precinct.csv\"\n",
    "output_2"
   ]
  },
  {
   "cell_type": "code",
   "execution_count": 110,
   "id": "d1811d0e-8a05-4ea9-a81b-0bf1d242a934",
   "metadata": {
    "tags": []
   },
   "outputs": [],
   "source": [
    "with pdfplumber.open(input_file) as pdf:\n",
    "    lines = [[line['text'] for line in page.extract_text_lines()] for page in pdf.pages]"
   ]
  },
  {
   "cell_type": "code",
   "execution_count": 111,
   "id": "b04bc89f-256d-4dc7-861c-38620ac47cbe",
   "metadata": {
    "tags": []
   },
   "outputs": [
    {
     "data": {
      "text/plain": [
       "['11/5/2024 - 7:49:01 PM',\n",
       " 'Election Date: 11/5/2024 Precinct Summary Report',\n",
       " 'EMS',\n",
       " 'Whitley County, Indiana',\n",
       " '2024 General Election',\n",
       " 'INWHIG24',\n",
       " '11/5/2024',\n",
       " 'E - # Of Election Day 271 PRECINCT STATUS: REPORTED',\n",
       " 'A - # Of Paper Absentee 26',\n",
       " 'W - # Of Walk-In Absentee 231',\n",
       " 'PUBLIC COUNT: 528',\n",
       " 'VOTER TURNOUT: 67.95%',\n",
       " 'REGISTERED VOTERS: 777',\n",
       " 'Precinct ID: 01',\n",
       " 'Precinct Name: Cleveland NORTHEAST',\n",
       " '- - - - - - - - - - - - - - - - - - VOTES - - - - - - - - - - - - - - - -',\n",
       " 'E A W TOTAL %',\n",
       " 'VOTE FOR 1',\n",
       " 'Public Question-Const Amendment',\n",
       " 'VOTES=466',\n",
       " '158 6 109 273 58.58% Yes',\n",
       " '91 13 89 193 41.42% No',\n",
       " 'VOTE FOR 1',\n",
       " 'President and Vice-President of the U.S.',\n",
       " 'VOTES=523',\n",
       " '210 17 169 396 75.72% (R) Trump \\\\ Vance',\n",
       " '50 9 54 113 21.61% (D) Harris \\\\ Walz',\n",
       " '3 0 3 6 1.15% (L) Oliver \\\\ Ter Maat',\n",
       " '5 0 3 8 1.53% (WTP) Kennedy Jr. \\\\ Shanahan',\n",
       " '0 0 0 0 0.00% Write-In']"
      ]
     },
     "execution_count": 111,
     "metadata": {},
     "output_type": "execute_result"
    }
   ],
   "source": [
    "p2 = lines[1]\n",
    "p2[:30]"
   ]
  },
  {
   "cell_type": "code",
   "execution_count": 112,
   "id": "85983f34-8f04-4145-b7ca-7f1ffa3936e5",
   "metadata": {
    "tags": []
   },
   "outputs": [
    {
     "name": "stdout",
     "output_type": "stream",
     "text": [
      "158 6 109 273 58.58% Yes\n",
      "['158', '6', '109', '273', '58.58%', 'Yes']\n"
     ]
    },
    {
     "data": {
      "text/plain": [
       "['158 6 109 273 58.58% Yes']"
      ]
     },
     "execution_count": 112,
     "metadata": {},
     "output_type": "execute_result"
    }
   ],
   "source": [
    "line = p2[20]\n",
    "print(line)\n",
    "if re.search(r'^E - #', line):\n",
    "    test = re.findall(r'Election Day (\\d+) PRECINCT', line)[0]\n",
    "elif re.search(r'^A - #', line):\n",
    "    test = re.findall(r'Of Paper Absentee (\\d+)', line)[0]\n",
    "elif re.search(r'^W - #', line):\n",
    "    test = re.findall(r'Walk-In Absentee (\\d+)', line)[0]\n",
    "elif re.search(r'Representative District (\\d+)', line):\n",
    "    print(re.findall(r'District (\\d+)', line)[0])\n",
    "elif re.search(r'^Precinct Name', line):\n",
    "        precint = re.findall(r'Precinct Name: (.*)', line)[0]\n",
    "        print(line)\n",
    "        print(precint)\n",
    "elif re.search(r'\\d%', line) and not meta: #Lines with percentage numbers that are not metadata are the values we want\n",
    "            print(line.split(sep=' ', maxsplit=6)) #The line is a row of a table of 6 columns\n",
    "line.split(' District ')"
   ]
  },
  {
   "cell_type": "code",
   "execution_count": 113,
   "id": "39d82d62-6156-4754-ad44-39c709598ac2",
   "metadata": {
    "tags": []
   },
   "outputs": [],
   "source": [
    "cols = {'county' : [],\n",
    "        'precinct' : [],\n",
    "        'office' : [],\n",
    "        'district' : [],\n",
    "        'party' : [],\n",
    "        'candidate' : [],\n",
    "        'election_day' : [],\n",
    "        'absentee' : [],\n",
    "        'early_voting' : [],\n",
    "        'votes' : []}"
   ]
  },
  {
   "cell_type": "code",
   "execution_count": 114,
   "id": "4d1bb5a8-780b-4f8d-9781-ad49d7ff44fa",
   "metadata": {
    "tags": []
   },
   "outputs": [],
   "source": [
    "for p in lines:\n",
    "    vote = False #Signifies when a \"VOTE FOR ...\" line has occurred\n",
    "    meta = True #Signifies when lines are part of metadata of the precinct\n",
    "    for (lineno, line) in enumerate(p): #for each line of the page\n",
    "        if re.search('E - #', line):\n",
    "            election_day = re.findall(r'Election Day (\\d+) PRECINCT', line)[0]\n",
    "            meta = True\n",
    "        elif re.search(r'^A - #', line):\n",
    "            absentee = re.findall(r'Of Paper Absentee (\\d+)', line)[0]\n",
    "        elif re.search(r'^W - #', line):\n",
    "            early_voting = re.findall(r'Walk-In Absentee (\\d+)', line)[0]\n",
    "        elif re.search(r'^PUBLIC COUNT', line):\n",
    "            votes = re.findall(r'PUBLIC COUNT: (\\d+)', line)[0]\n",
    "        elif re.search(r'^REGISTERED VOTERS', line):\n",
    "            registered = re.findall(r'REGISTERED VOTERS: (\\d+)', line)[0]\n",
    "        elif re.search(r'^Precinct Name', line):\n",
    "            precinct = re.findall(r'Precinct Name: (.*)', line)[0]\n",
    "            cols['county'].extend([county, county])\n",
    "            cols['precinct'].extend([precinct, precinct])\n",
    "            cols['office'].extend(['Ballots Cast', 'Registered Voters'])\n",
    "            cols['district'].extend(['',''])\n",
    "            cols['party'].extend(['',''])\n",
    "            cols['candidate'].extend(['',''])\n",
    "            cols['election_day'].extend([election_day,''])\n",
    "            cols['absentee'].extend([absentee,''])\n",
    "            cols['early_voting'].extend([early_voting,''])\n",
    "            cols['votes'].extend([votes, registered])\n",
    "        elif re.search('VOTE FOR', line):#The 'VOTE FOR...\" line means the next line is what is being voted on\n",
    "            vote = True\n",
    "        elif vote: #If the 'VOTE FOR...\" line occured earlier\n",
    "            vote = False #Reset this\n",
    "            meta = False #This line means we are not in meta dinner anymore\n",
    "            if re.search(r'Representative District (\\d+)', line):\n",
    "                office, district = line.split(' District ')\n",
    "            else:\n",
    "                office = line\n",
    "                district = ''\n",
    "        elif re.search(r'\\d%', line) and not meta: #Lines with percentage numbers that are not metadata are the values we want\n",
    "            E, A, W, V, _, option = line.split(maxsplit=5) #The line is a row of a table of 6 columns\n",
    "            if re.search(r'\\(\\w\\)', option):\n",
    "                P = re.findall(r'\\((\\w)\\)', option)[0]\n",
    "                option = re.findall(r'\\(\\w\\) (.*)', option)[0]\n",
    "            else:\n",
    "                P = ''\n",
    "            cols['county'].append(county)\n",
    "            cols['precinct'].append(precinct)\n",
    "            cols['office'].append(office)\n",
    "            cols['district'].append(district)\n",
    "            cols['party'].append(P)\n",
    "            cols['candidate'].append(option)\n",
    "            cols['election_day'].append(E)\n",
    "            cols['absentee'].append(A)\n",
    "            cols['early_voting'].append(W)\n",
    "            cols['votes'].append(V)"
   ]
  },
  {
   "cell_type": "code",
   "execution_count": 115,
   "id": "864d684f-1ebe-4325-ba1d-bb581997690d",
   "metadata": {
    "tags": []
   },
   "outputs": [
    {
     "data": {
      "text/html": [
       "<div>\n",
       "<style scoped>\n",
       "    .dataframe tbody tr th:only-of-type {\n",
       "        vertical-align: middle;\n",
       "    }\n",
       "\n",
       "    .dataframe tbody tr th {\n",
       "        vertical-align: top;\n",
       "    }\n",
       "\n",
       "    .dataframe thead th {\n",
       "        text-align: right;\n",
       "    }\n",
       "</style>\n",
       "<table border=\"1\" class=\"dataframe\">\n",
       "  <thead>\n",
       "    <tr style=\"text-align: right;\">\n",
       "      <th></th>\n",
       "      <th>county</th>\n",
       "      <th>precinct</th>\n",
       "      <th>office</th>\n",
       "      <th>district</th>\n",
       "      <th>party</th>\n",
       "      <th>candidate</th>\n",
       "      <th>election_day</th>\n",
       "      <th>absentee</th>\n",
       "      <th>early_voting</th>\n",
       "      <th>votes</th>\n",
       "    </tr>\n",
       "  </thead>\n",
       "  <tbody>\n",
       "    <tr>\n",
       "      <th>0</th>\n",
       "      <td>Whitley</td>\n",
       "      <td>Cleveland NORTHEAST</td>\n",
       "      <td>Ballots Cast</td>\n",
       "      <td></td>\n",
       "      <td></td>\n",
       "      <td></td>\n",
       "      <td>271</td>\n",
       "      <td>26</td>\n",
       "      <td>231</td>\n",
       "      <td>528</td>\n",
       "    </tr>\n",
       "    <tr>\n",
       "      <th>1</th>\n",
       "      <td>Whitley</td>\n",
       "      <td>Cleveland NORTHEAST</td>\n",
       "      <td>Registered Voters</td>\n",
       "      <td></td>\n",
       "      <td></td>\n",
       "      <td></td>\n",
       "      <td></td>\n",
       "      <td></td>\n",
       "      <td></td>\n",
       "      <td>777</td>\n",
       "    </tr>\n",
       "    <tr>\n",
       "      <th>2</th>\n",
       "      <td>Whitley</td>\n",
       "      <td>Cleveland NORTHEAST</td>\n",
       "      <td>Public Question-Const Amendment</td>\n",
       "      <td></td>\n",
       "      <td></td>\n",
       "      <td>Yes</td>\n",
       "      <td>158</td>\n",
       "      <td>6</td>\n",
       "      <td>109</td>\n",
       "      <td>273</td>\n",
       "    </tr>\n",
       "    <tr>\n",
       "      <th>3</th>\n",
       "      <td>Whitley</td>\n",
       "      <td>Cleveland NORTHEAST</td>\n",
       "      <td>Public Question-Const Amendment</td>\n",
       "      <td></td>\n",
       "      <td></td>\n",
       "      <td>No</td>\n",
       "      <td>91</td>\n",
       "      <td>13</td>\n",
       "      <td>89</td>\n",
       "      <td>193</td>\n",
       "    </tr>\n",
       "    <tr>\n",
       "      <th>4</th>\n",
       "      <td>Whitley</td>\n",
       "      <td>Cleveland NORTHEAST</td>\n",
       "      <td>President and Vice-President of the U.S.</td>\n",
       "      <td></td>\n",
       "      <td>R</td>\n",
       "      <td>Trump \\ Vance</td>\n",
       "      <td>210</td>\n",
       "      <td>17</td>\n",
       "      <td>169</td>\n",
       "      <td>396</td>\n",
       "    </tr>\n",
       "    <tr>\n",
       "      <th>...</th>\n",
       "      <td>...</td>\n",
       "      <td>...</td>\n",
       "      <td>...</td>\n",
       "      <td>...</td>\n",
       "      <td>...</td>\n",
       "      <td>...</td>\n",
       "      <td>...</td>\n",
       "      <td>...</td>\n",
       "      <td>...</td>\n",
       "      <td>...</td>\n",
       "    </tr>\n",
       "    <tr>\n",
       "      <th>1774</th>\n",
       "      <td>Whitley</td>\n",
       "      <td>Washington SOUTH</td>\n",
       "      <td>IN Supreme Court-Massa</td>\n",
       "      <td></td>\n",
       "      <td></td>\n",
       "      <td>No</td>\n",
       "      <td>31</td>\n",
       "      <td>2</td>\n",
       "      <td>22</td>\n",
       "      <td>55</td>\n",
       "    </tr>\n",
       "    <tr>\n",
       "      <th>1775</th>\n",
       "      <td>Whitley</td>\n",
       "      <td>Washington SOUTH</td>\n",
       "      <td>IN Supreme Court-Molter</td>\n",
       "      <td></td>\n",
       "      <td></td>\n",
       "      <td>Yes</td>\n",
       "      <td>127</td>\n",
       "      <td>6</td>\n",
       "      <td>59</td>\n",
       "      <td>192</td>\n",
       "    </tr>\n",
       "    <tr>\n",
       "      <th>1776</th>\n",
       "      <td>Whitley</td>\n",
       "      <td>Washington SOUTH</td>\n",
       "      <td>IN Supreme Court-Molter</td>\n",
       "      <td></td>\n",
       "      <td></td>\n",
       "      <td>No</td>\n",
       "      <td>32</td>\n",
       "      <td>2</td>\n",
       "      <td>23</td>\n",
       "      <td>57</td>\n",
       "    </tr>\n",
       "    <tr>\n",
       "      <th>1777</th>\n",
       "      <td>Whitley</td>\n",
       "      <td>Washington SOUTH</td>\n",
       "      <td>Court of Appeals Dist 4-Pyle III</td>\n",
       "      <td></td>\n",
       "      <td></td>\n",
       "      <td>Yes</td>\n",
       "      <td>132</td>\n",
       "      <td>7</td>\n",
       "      <td>62</td>\n",
       "      <td>201</td>\n",
       "    </tr>\n",
       "    <tr>\n",
       "      <th>1778</th>\n",
       "      <td>Whitley</td>\n",
       "      <td>Washington SOUTH</td>\n",
       "      <td>Court of Appeals Dist 4-Pyle III</td>\n",
       "      <td></td>\n",
       "      <td></td>\n",
       "      <td>No</td>\n",
       "      <td>29</td>\n",
       "      <td>1</td>\n",
       "      <td>21</td>\n",
       "      <td>51</td>\n",
       "    </tr>\n",
       "  </tbody>\n",
       "</table>\n",
       "<p>1779 rows × 10 columns</p>\n",
       "</div>"
      ],
      "text/plain": [
       "       county             precinct                                    office  \\\n",
       "0     Whitley  Cleveland NORTHEAST                              Ballots Cast   \n",
       "1     Whitley  Cleveland NORTHEAST                         Registered Voters   \n",
       "2     Whitley  Cleveland NORTHEAST           Public Question-Const Amendment   \n",
       "3     Whitley  Cleveland NORTHEAST           Public Question-Const Amendment   \n",
       "4     Whitley  Cleveland NORTHEAST  President and Vice-President of the U.S.   \n",
       "...       ...                  ...                                       ...   \n",
       "1774  Whitley     Washington SOUTH                    IN Supreme Court-Massa   \n",
       "1775  Whitley     Washington SOUTH                   IN Supreme Court-Molter   \n",
       "1776  Whitley     Washington SOUTH                   IN Supreme Court-Molter   \n",
       "1777  Whitley     Washington SOUTH          Court of Appeals Dist 4-Pyle III   \n",
       "1778  Whitley     Washington SOUTH          Court of Appeals Dist 4-Pyle III   \n",
       "\n",
       "     district party      candidate election_day absentee early_voting votes  \n",
       "0                                           271       26          231   528  \n",
       "1                                                                       777  \n",
       "2                              Yes          158        6          109   273  \n",
       "3                               No           91       13           89   193  \n",
       "4                 R  Trump \\ Vance          210       17          169   396  \n",
       "...       ...   ...            ...          ...      ...          ...   ...  \n",
       "1774                            No           31        2           22    55  \n",
       "1775                           Yes          127        6           59   192  \n",
       "1776                            No           32        2           23    57  \n",
       "1777                           Yes          132        7           62   201  \n",
       "1778                            No           29        1           21    51  \n",
       "\n",
       "[1779 rows x 10 columns]"
      ]
     },
     "execution_count": 115,
     "metadata": {},
     "output_type": "execute_result"
    }
   ],
   "source": [
    "df = pd.DataFrame(data=cols)\n",
    "df"
   ]
  },
  {
   "cell_type": "code",
   "execution_count": 116,
   "id": "168eec76-4d39-4f01-b8fc-076cc10da935",
   "metadata": {
    "tags": []
   },
   "outputs": [],
   "source": [
    "df.to_csv(output_file)"
   ]
  },
  {
   "cell_type": "code",
   "execution_count": 117,
   "id": "705e506b-1e62-494c-af29-bc5d8d3dba78",
   "metadata": {},
   "outputs": [],
   "source": [
    "df.to_csv(output_2)"
   ]
  },
  {
   "cell_type": "code",
   "execution_count": null,
   "id": "52c14382-3225-4d75-b50d-35991b03f78f",
   "metadata": {},
   "outputs": [],
   "source": []
  }
 ],
 "metadata": {
  "kernelspec": {
   "display_name": "Python 3 (ipykernel)",
   "language": "python",
   "name": "python3"
  },
  "language_info": {
   "codemirror_mode": {
    "name": "ipython",
    "version": 3
   },
   "file_extension": ".py",
   "mimetype": "text/x-python",
   "name": "python",
   "nbconvert_exporter": "python",
   "pygments_lexer": "ipython3",
   "version": "3.11.5"
  }
 },
 "nbformat": 4,
 "nbformat_minor": 5
}
