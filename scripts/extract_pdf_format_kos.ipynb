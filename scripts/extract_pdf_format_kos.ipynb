{
 "cells": [
  {
   "cell_type": "code",
   "execution_count": 54,
   "id": "17c5d1c7-35bb-4d9b-bdaa-919382131fea",
   "metadata": {
    "tags": []
   },
   "outputs": [],
   "source": [
    "import pdfplumber\n",
    "import pandas as pd\n",
    "import re"
   ]
  },
  {
   "cell_type": "code",
   "execution_count": 55,
   "id": "422c08df-570c-4b53-951c-21c3ff09343c",
   "metadata": {},
   "outputs": [],
   "source": [
    "counties = [\"Kosciusko\", \"Whitley\", \"Steuben\"]"
   ]
  },
  {
   "cell_type": "code",
   "execution_count": 65,
   "id": "fa0c96f5-97e9-4bb8-8876-af288a2bc307",
   "metadata": {},
   "outputs": [
    {
     "data": {
      "text/plain": [
       "'Kosciusko'"
      ]
     },
     "execution_count": 65,
     "metadata": {},
     "output_type": "execute_result"
    }
   ],
   "source": [
    "i = 0\n",
    "county = counties[i]\n",
    "county"
   ]
  },
  {
   "cell_type": "code",
   "execution_count": 66,
   "id": "bc42121e-41a8-4546-a974-40f2a70b65cf",
   "metadata": {
    "tags": []
   },
   "outputs": [
    {
     "data": {
      "text/plain": [
       "'C:/Users/johnsor/Documents/openelections-data-in/2024/counties/20241105__in__general__kosciusko__precinct.csv'"
      ]
     },
     "execution_count": 66,
     "metadata": {},
     "output_type": "execute_result"
    }
   ],
   "source": [
    "input_file = \"../data-raw/in_2024_results/\" + county + \".pdf\"\n",
    "output_file = \"../data/in_2024_results/\" + county + \".csv\"\n",
    "output_2 = \"C:/Users/johnsor/Documents/openelections-data-in/2024/counties/20241105__in__general__\" + str.lower(county) + \"__precinct.csv\"\n",
    "output_2"
   ]
  },
  {
   "cell_type": "code",
   "execution_count": 67,
   "id": "d1811d0e-8a05-4ea9-a81b-0bf1d242a934",
   "metadata": {
    "tags": []
   },
   "outputs": [],
   "source": [
    "with pdfplumber.open(input_file) as pdf:\n",
    "    pages = [[line['text'] for line in page.extract_text_lines()] for page in pdf.pages]"
   ]
  },
  {
   "cell_type": "code",
   "execution_count": 68,
   "id": "b04bc89f-256d-4dc7-861c-38620ac47cbe",
   "metadata": {
    "tags": []
   },
   "outputs": [
    {
     "data": {
      "text/plain": [
       "['11/15/2024 - 12:35:07 PM',\n",
       " 'Election Date: 11/5/2024 Precinct Summary Report',\n",
       " 'EMS',\n",
       " 'Kosciusko County, Indiana',\n",
       " '2024 General Election',\n",
       " 'INKOSG24',\n",
       " '11/5/2024',\n",
       " 'E - # Of Election Day 297 PRECINCT STATUS: INCOMPLETE',\n",
       " 'A - # Of Paper Absentee 15',\n",
       " 'W - # Of Walk-In Absentee 148',\n",
       " 'PUBLIC COUNT: 460',\n",
       " 'VOTER TURNOUT: 71.76%',\n",
       " 'REGISTERED VOTERS: 641',\n",
       " 'Precinct ID: 01',\n",
       " 'Precinct Name: Clay 01',\n",
       " '- - - - - - - - - - - - - - - - - - VOTES - - - - - - - - - - - - - - - -',\n",
       " 'E A W TOTAL %',\n",
       " 'VOTE FOR 1',\n",
       " 'Public Question-Const Amendment',\n",
       " 'VOTES=403',\n",
       " '167 7 66 240 59.55% Yes',\n",
       " '103 2 58 163 40.45% No',\n",
       " 'VOTE FOR 1',\n",
       " 'President and Vice-President of the U.S.',\n",
       " 'VOTES=458',\n",
       " '267 10 117 394 86.03% (R) Trump \\\\ Vance',\n",
       " '25 5 31 61 13.32% (D) Harris \\\\ Walz',\n",
       " '2 0 0 2 0.44% (L) Oliver \\\\ Ter Maat',\n",
       " '1 0 0 1 0.22% (WTP) Kennedy Jr. \\\\ Shanahan',\n",
       " '0 0 0 0 0.00% Write-In',\n",
       " 'VOTE FOR 1',\n",
       " 'United States Senator',\n",
       " 'VOTES=438',\n",
       " '247 9 111 367 83.79% (R) Jim Banks',\n",
       " '19 6 30 55 12.56% (D) Valerie McCray',\n",
       " '15 0 1 16 3.65% (L) Andrew Horning',\n",
       " '0 0 0 0 0.00% Write-In',\n",
       " 'VOTE FOR 1',\n",
       " 'Governor And Lieutenant Governor',\n",
       " 'VOTES=444',\n",
       " '228 11 101 340 76.58% (R) Braun \\\\ Beckwith',\n",
       " '30 4 32 66 14.86% (D) Mccormick \\\\ Goodin',\n",
       " '29 0 9 38 8.56% (L) Rainwater \\\\ Hudson',\n",
       " '0 0 0 0 0.00% Write-In',\n",
       " 'Precinct Summary Report 11/15/2024 - 12:35:07 PM',\n",
       " '2024 General Election [Election Date: 11/5/2024] Page 1 of 3']"
      ]
     },
     "execution_count": 68,
     "metadata": {},
     "output_type": "execute_result"
    }
   ],
   "source": [
    "page = pages[1]\n",
    "page"
   ]
  },
  {
   "cell_type": "code",
   "execution_count": 33,
   "id": "39d82d62-6156-4754-ad44-39c709598ac2",
   "metadata": {
    "tags": []
   },
   "outputs": [],
   "source": [
    "cols = {'county' : [],\n",
    "        'precinct' : [],\n",
    "        'office' : [],\n",
    "        'district' : [],\n",
    "        'party' : [],\n",
    "        'candidate' : [],\n",
    "        'election_day' : [],\n",
    "        'absentee' : [],\n",
    "        'early_voting' : [],\n",
    "        'votes' : []}\n",
    "party_convert = {'R' : 'REP',\n",
    "                 'REP' : 'REP',\n",
    "                 'D' : 'DEM',\n",
    "                 'DEM' : 'DEM',\n",
    "                 'L' : 'LIB',\n",
    "                 'LIB' : 'LIB',\n",
    "                 'WTP' : 'WTP',\n",
    "                 'W' : 'WTP',\n",
    "                 'NP' : ''\n",
    "                }"
   ]
  },
  {
   "cell_type": "code",
   "execution_count": 34,
   "id": "4d1bb5a8-780b-4f8d-9781-ad49d7ff44fa",
   "metadata": {
    "tags": []
   },
   "outputs": [],
   "source": [
    "for page in pages:\n",
    "    vote = False #Signifies when a \"VOTE FOR ...\" line has occurred\n",
    "    meta = False\n",
    "    straight_party = False\n",
    "    for (lineno, line) in enumerate(page): #for each line of the page\n",
    "        if re.search('E - #', line):\n",
    "            election_day = re.findall(r'Election Day (\\d+) PRECINCT', line)[0]\n",
    "            meta = True  #This is the first line of metadata\n",
    "        elif re.search(r'^A - #', line):\n",
    "            absentee = re.findall(r'Of Paper Absentee (\\d+)', line)[0]\n",
    "        elif re.search(r'^W - #', line):\n",
    "            early_voting = re.findall(r'Walk-In Absentee (\\d+)', line)[0]\n",
    "        elif re.search(r'^PUBLIC COUNT', line):\n",
    "            votes = re.findall(r'PUBLIC COUNT: (\\d+)', line)[0]\n",
    "        elif re.search(r'^REGISTERED VOTERS', line):\n",
    "            registered = re.findall(r'REGISTERED VOTERS: (\\d+)', line)[0]\n",
    "        elif re.search(r'^Precinct Name', line) and meta:\n",
    "            precinct = re.findall(r'Precinct Name: (.*)', line)[0]\n",
    "            cols['county'].extend([county, county])\n",
    "            cols['precinct'].extend([precinct, precinct])\n",
    "            cols['office'].extend(['Ballots Cast', 'Registered Voters'])\n",
    "            cols['district'].extend(['',''])\n",
    "            cols['party'].extend(['',''])\n",
    "            cols['candidate'].extend(['',''])\n",
    "            cols['election_day'].extend([election_day,''])\n",
    "            cols['absentee'].extend([absentee,''])\n",
    "            cols['early_voting'].extend([early_voting,''])\n",
    "            cols['votes'].extend([votes, registered])\n",
    "        elif re.search('VOTE FOR', line):#The 'VOTE FOR...\" line means the next line is what is being voted on\n",
    "            vote = True\n",
    "        elif vote: #If the 'VOTE FOR...\" line occured earlier\n",
    "            vote = False #Reset this\n",
    "            meta = False #This line means we are not in meta data anymore\n",
    "            if re.search(r'Senator District (\\d+)|Representative District (\\d+)', line):\n",
    "                office, district = line.split(' District ')\n",
    "            else:\n",
    "                office = line\n",
    "                district = ''\n",
    "        elif re.search(r'\\d+ \\d+\\.?\\d*%', line) and not meta: #Lines with percentage numbers that are not metadata are the values we want\n",
    "            E, A, W, V, _, option = line.split(maxsplit=5) #The line is a row of a table of 6 columns\n",
    "            if re.search(r'\\(\\w+\\)', option):\n",
    "                P = party_convert[\n",
    "                    re.findall(r'\\((\\w+)\\)', option)[0]\n",
    "                ]\n",
    "                option = re.findall(r'\\(\\w+\\) (.*)', option)[0]\n",
    "            else:\n",
    "                P = ''\n",
    "            cols['county'].append(county)\n",
    "            cols['precinct'].append(precinct)\n",
    "            cols['office'].append(office)\n",
    "            cols['district'].append(district)\n",
    "            cols['party'].append(P)\n",
    "            cols['candidate'].append(option)\n",
    "            cols['election_day'].append(E)\n",
    "            cols['absentee'].append(A)\n",
    "            cols['early_voting'].append(W)\n",
    "            cols['votes'].append(V)\n",
    "        elif line == 'PartyName Votes':\n",
    "            straight_party = True\n",
    "        elif straight_party and re.search(r'\\w+ \\w+ \\d+$', line):\n",
    "            office = 'Straight Party'\n",
    "            candidate = re.findall(r'(.*) \\d+$', line)[0]\n",
    "            V = re.findall(r'.* (\\d+)$', line)[0]\n",
    "            P = party_convert[line[0]]\n",
    "            cols['county'].append(county)\n",
    "            cols['precinct'].append(precinct)\n",
    "            cols['office'].append(office)\n",
    "            cols['district'].append(district)\n",
    "            cols['party'].append(P)\n",
    "            cols['candidate'].append(candidate)\n",
    "            cols['election_day'].append('')\n",
    "            cols['absentee'].append('')\n",
    "            cols['early_voting'].append('')\n",
    "            cols['votes'].append(V)\n",
    "        else:\n",
    "            straight_party = False\n",
    "            "
   ]
  },
  {
   "cell_type": "code",
   "execution_count": 35,
   "id": "864d684f-1ebe-4325-ba1d-bb581997690d",
   "metadata": {
    "tags": []
   },
   "outputs": [],
   "source": [
    "df = pd.DataFrame(data=cols)"
   ]
  },
  {
   "cell_type": "code",
   "execution_count": null,
   "id": "352e4ba8-9144-40b6-b44c-21fcb4277fa1",
   "metadata": {},
   "outputs": [],
   "source": []
  },
  {
   "cell_type": "code",
   "execution_count": 37,
   "id": "168eec76-4d39-4f01-b8fc-076cc10da935",
   "metadata": {
    "tags": []
   },
   "outputs": [],
   "source": [
    "df.to_csv(output_file)"
   ]
  },
  {
   "cell_type": "code",
   "execution_count": 38,
   "id": "705e506b-1e62-494c-af29-bc5d8d3dba78",
   "metadata": {},
   "outputs": [],
   "source": [
    "df.to_csv(output_2, index=False)"
   ]
  },
  {
   "cell_type": "markdown",
   "id": "be0cb8fd-a727-4521-a3d8-08fe3095280e",
   "metadata": {},
   "source": [
    "### Double Check\n",
    "The code below was used to double check our Whitley data vs the Whitley data that they had already done.  As of 1/28/2025 it checks out."
   ]
  },
  {
   "cell_type": "code",
   "execution_count": 129,
   "id": "52c14382-3225-4d75-b50d-35991b03f78f",
   "metadata": {},
   "outputs": [],
   "source": [
    "output_3 = \"C:/Users/johnsor/Documents/openelections-data-in/2024/counties/20241105__in__general__\" + str.lower(county) + \"__precinct_1.csv\""
   ]
  },
  {
   "cell_type": "code",
   "execution_count": 130,
   "id": "f5c1ba99-652b-405e-9831-ba9f30a714ec",
   "metadata": {
    "tags": []
   },
   "outputs": [],
   "source": [
    "df.to_csv(output_3, index=False)"
   ]
  },
  {
   "cell_type": "code",
   "execution_count": 131,
   "id": "4fb84e91-714e-452e-b35e-8e7f68d80491",
   "metadata": {
    "tags": []
   },
   "outputs": [],
   "source": [
    "df1 = pd.read_csv(output_3)\n",
    "df2 = pd.read_csv(output_2)"
   ]
  },
  {
   "cell_type": "code",
   "execution_count": 133,
   "id": "69aa7f10-457d-46c2-9ff7-753c4d3828ac",
   "metadata": {
    "tags": []
   },
   "outputs": [
    {
     "data": {
      "text/html": [
       "<div>\n",
       "<style scoped>\n",
       "    .dataframe tbody tr th:only-of-type {\n",
       "        vertical-align: middle;\n",
       "    }\n",
       "\n",
       "    .dataframe tbody tr th {\n",
       "        vertical-align: top;\n",
       "    }\n",
       "\n",
       "    .dataframe thead th {\n",
       "        text-align: right;\n",
       "    }\n",
       "</style>\n",
       "<table border=\"1\" class=\"dataframe\">\n",
       "  <thead>\n",
       "    <tr style=\"text-align: right;\">\n",
       "      <th></th>\n",
       "      <th>county</th>\n",
       "      <th>precinct</th>\n",
       "      <th>office</th>\n",
       "      <th>district</th>\n",
       "      <th>party</th>\n",
       "      <th>candidate</th>\n",
       "      <th>election_day</th>\n",
       "      <th>absentee</th>\n",
       "      <th>early_voting</th>\n",
       "      <th>votes</th>\n",
       "    </tr>\n",
       "  </thead>\n",
       "  <tbody>\n",
       "  </tbody>\n",
       "</table>\n",
       "</div>"
      ],
      "text/plain": [
       "Empty DataFrame\n",
       "Columns: [county, precinct, office, district, party, candidate, election_day, absentee, early_voting, votes]\n",
       "Index: []"
      ]
     },
     "execution_count": 133,
     "metadata": {},
     "output_type": "execute_result"
    }
   ],
   "source": [
    "pd.concat([df1,df2]).drop_duplicates(keep=False).sort_values(by=['precinct', 'office', 'candidate'])"
   ]
  },
  {
   "cell_type": "markdown",
   "id": "38473135-73a9-4da8-add1-9fbadb37a88c",
   "metadata": {},
   "source": [
    "Since the non-duplicates of the two concatenated dataframes is empty, they are both exactly the same"
   ]
  },
  {
   "cell_type": "code",
   "execution_count": 64,
   "id": "e98b8ee4-ffab-470b-9de5-66e19e415d4f",
   "metadata": {},
   "outputs": [
    {
     "data": {
      "text/plain": [
       "[]"
      ]
     },
     "execution_count": 64,
     "metadata": {},
     "output_type": "execute_result"
    }
   ],
   "source": [
    "pdf.pages[0].extract_text_lines()"
   ]
  },
  {
   "cell_type": "code",
   "execution_count": null,
   "id": "8432c584-3341-4256-958d-ad4ac9af0150",
   "metadata": {},
   "outputs": [],
   "source": []
  }
 ],
 "metadata": {
  "kernelspec": {
   "display_name": "Python 3 (ipykernel)",
   "language": "python",
   "name": "python3"
  },
  "language_info": {
   "codemirror_mode": {
    "name": "ipython",
    "version": 3
   },
   "file_extension": ".py",
   "mimetype": "text/x-python",
   "name": "python",
   "nbconvert_exporter": "python",
   "pygments_lexer": "ipython3",
   "version": "3.11.5"
  }
 },
 "nbformat": 4,
 "nbformat_minor": 5
}
